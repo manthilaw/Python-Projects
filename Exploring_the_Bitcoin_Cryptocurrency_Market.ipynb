{
  "nbformat": 4,
  "nbformat_minor": 0,
  "metadata": {
    "colab": {
      "provenance": [],
      "mount_file_id": "1qoIEpJzt_0m9RiHZaVwDjvWt6GqZFnYR",
      "authorship_tag": "ABX9TyNCvucm6Dx1WqvUNDLcWHgN",
      "include_colab_link": true
    },
    "kernelspec": {
      "name": "python3",
      "display_name": "Python 3"
    },
    "language_info": {
      "name": "python"
    }
  },
  "cells": [
    {
      "cell_type": "markdown",
      "metadata": {
        "id": "view-in-github",
        "colab_type": "text"
      },
      "source": [
        "<a href=\"https://colab.research.google.com/github/manthilaw/Python-Projects/blob/main/Exploring_the_Bitcoin_Cryptocurrency_Market.ipynb\" target=\"_parent\"><img src=\"https://colab.research.google.com/assets/colab-badge.svg\" alt=\"Open In Colab\"/></a>"
      ]
    },
    {
      "cell_type": "markdown",
      "source": [
        "# 1. Bitcoin. Cryptocurrencies. So hot right now.\n",
        "\n",
        "Since the launch of Bitcoin in 2008, hundreds of similar projects based on the blockchain technology have emerged. We call these cryptocurrencies (also coins or cryptos in the Internet slang). Some are extremely valuable nowadays, and others may have the potential to become extremely valuable in the future1. In fact, on the 6th of December of 2017, Bitcoin has a market capitalization above $200 billion."
      ],
      "metadata": {
        "id": "izFE49ASV9vX"
      }
    },
    {
      "cell_type": "markdown",
      "source": [
        "*1 WARNING: The cryptocurrency market is exceptionally volatile2 and any money you put in might disappear into thin air. Cryptocurrencies mentioned here might be scams similar to Ponzi Schemes or have many other issues (overvaluation, technical, etc.). Please do not mistake this for investment advice. *\n",
        "\n",
        "2 Update on March 2020: Well, it turned out to be volatile indeed :D\n",
        "\n",
        "That said, let's get to business. We will start with a CSV we conveniently downloaded on the 6th of December of 2017 using the coinmarketcap API (NOTE: The public API went private in 2020 and is no longer available) named datasets/coinmarketcap_06122017.csv."
      ],
      "metadata": {
        "id": "78k5fRN3WluU"
      }
    },
    {
      "cell_type": "code",
      "source": [
        "#Import Pandas\n",
        "import pandas as pd\n",
        "\n",
        "#import matplotlib\n",
        "import matplotlib.pyplot as plt\n",
        "\n",
        "#\n",
        "%matplotlib inline\n",
        "\n",
        "#change figure format & plot style\n",
        "%config inlineBackend.figure_format = 'svg'\n",
        "plt.style.use('fivethirtyeight')\n",
        "\n",
        "#read csv\n",
        "\n",
        "current = pd.read_csv('/content/drive/MyDrive/Python CSV/1.Exploring the Bitcoin Cryptocurrency Market/coinmarketcap_06122017.csv')\n",
        "current.head()\n"
      ],
      "metadata": {
        "colab": {
          "base_uri": "https://localhost:8080/",
          "height": 305
        },
        "id": "eHRNMWMrWn2s",
        "outputId": "7d67b0f9-241c-4a34-8e7e-2990262c7a7c"
      },
      "execution_count": 35,
      "outputs": [
        {
          "output_type": "execute_result",
          "data": {
            "text/plain": [
              "   Unnamed: 0  24h_volume_usd  available_supply            id  last_updated  \\\n",
              "0           0    9.007640e+09      1.672352e+07       bitcoin    1512549554   \n",
              "1           1    1.551330e+09      9.616537e+07      ethereum    1512549553   \n",
              "2           2    1.111350e+09      1.684044e+07  bitcoin-cash    1512549578   \n",
              "3           3    2.936090e+09      2.779530e+09          iota    1512549571   \n",
              "4           4    2.315050e+08      3.873915e+10        ripple    1512549541   \n",
              "\n",
              "   market_cap_usd    max_supply          name  percent_change_1h  \\\n",
              "0    2.130493e+11  2.100000e+07       Bitcoin               0.12   \n",
              "1    4.352945e+10           NaN      Ethereum              -0.18   \n",
              "2    2.529585e+10  2.100000e+07  Bitcoin Cash               1.65   \n",
              "3    1.475225e+10  2.779530e+09          IOTA              -2.38   \n",
              "4    9.365343e+09  1.000000e+11        Ripple               0.56   \n",
              "\n",
              "   percent_change_24h  percent_change_7d  price_btc     price_usd  rank  \\\n",
              "0                7.33              17.45   1.000000  12739.500000     1   \n",
              "1               -3.93              -7.33   0.036177    452.652000     2   \n",
              "2               -5.51              -4.75   0.120050   1502.090000     3   \n",
              "3               83.35             255.82   0.000424      5.307460     4   \n",
              "4               -3.70             -14.79   0.000019      0.241754     5   \n",
              "\n",
              "  symbol  total_supply  \n",
              "0    BTC  1.672352e+07  \n",
              "1    ETH  9.616537e+07  \n",
              "2    BCH  1.684044e+07  \n",
              "3  MIOTA  2.779530e+09  \n",
              "4    XRP  9.999309e+10  "
            ],
            "text/html": [
              "\n",
              "  <div id=\"df-97d17cc1-9b22-473c-92c0-bab428982920\">\n",
              "    <div class=\"colab-df-container\">\n",
              "      <div>\n",
              "<style scoped>\n",
              "    .dataframe tbody tr th:only-of-type {\n",
              "        vertical-align: middle;\n",
              "    }\n",
              "\n",
              "    .dataframe tbody tr th {\n",
              "        vertical-align: top;\n",
              "    }\n",
              "\n",
              "    .dataframe thead th {\n",
              "        text-align: right;\n",
              "    }\n",
              "</style>\n",
              "<table border=\"1\" class=\"dataframe\">\n",
              "  <thead>\n",
              "    <tr style=\"text-align: right;\">\n",
              "      <th></th>\n",
              "      <th>Unnamed: 0</th>\n",
              "      <th>24h_volume_usd</th>\n",
              "      <th>available_supply</th>\n",
              "      <th>id</th>\n",
              "      <th>last_updated</th>\n",
              "      <th>market_cap_usd</th>\n",
              "      <th>max_supply</th>\n",
              "      <th>name</th>\n",
              "      <th>percent_change_1h</th>\n",
              "      <th>percent_change_24h</th>\n",
              "      <th>percent_change_7d</th>\n",
              "      <th>price_btc</th>\n",
              "      <th>price_usd</th>\n",
              "      <th>rank</th>\n",
              "      <th>symbol</th>\n",
              "      <th>total_supply</th>\n",
              "    </tr>\n",
              "  </thead>\n",
              "  <tbody>\n",
              "    <tr>\n",
              "      <th>0</th>\n",
              "      <td>0</td>\n",
              "      <td>9.007640e+09</td>\n",
              "      <td>1.672352e+07</td>\n",
              "      <td>bitcoin</td>\n",
              "      <td>1512549554</td>\n",
              "      <td>2.130493e+11</td>\n",
              "      <td>2.100000e+07</td>\n",
              "      <td>Bitcoin</td>\n",
              "      <td>0.12</td>\n",
              "      <td>7.33</td>\n",
              "      <td>17.45</td>\n",
              "      <td>1.000000</td>\n",
              "      <td>12739.500000</td>\n",
              "      <td>1</td>\n",
              "      <td>BTC</td>\n",
              "      <td>1.672352e+07</td>\n",
              "    </tr>\n",
              "    <tr>\n",
              "      <th>1</th>\n",
              "      <td>1</td>\n",
              "      <td>1.551330e+09</td>\n",
              "      <td>9.616537e+07</td>\n",
              "      <td>ethereum</td>\n",
              "      <td>1512549553</td>\n",
              "      <td>4.352945e+10</td>\n",
              "      <td>NaN</td>\n",
              "      <td>Ethereum</td>\n",
              "      <td>-0.18</td>\n",
              "      <td>-3.93</td>\n",
              "      <td>-7.33</td>\n",
              "      <td>0.036177</td>\n",
              "      <td>452.652000</td>\n",
              "      <td>2</td>\n",
              "      <td>ETH</td>\n",
              "      <td>9.616537e+07</td>\n",
              "    </tr>\n",
              "    <tr>\n",
              "      <th>2</th>\n",
              "      <td>2</td>\n",
              "      <td>1.111350e+09</td>\n",
              "      <td>1.684044e+07</td>\n",
              "      <td>bitcoin-cash</td>\n",
              "      <td>1512549578</td>\n",
              "      <td>2.529585e+10</td>\n",
              "      <td>2.100000e+07</td>\n",
              "      <td>Bitcoin Cash</td>\n",
              "      <td>1.65</td>\n",
              "      <td>-5.51</td>\n",
              "      <td>-4.75</td>\n",
              "      <td>0.120050</td>\n",
              "      <td>1502.090000</td>\n",
              "      <td>3</td>\n",
              "      <td>BCH</td>\n",
              "      <td>1.684044e+07</td>\n",
              "    </tr>\n",
              "    <tr>\n",
              "      <th>3</th>\n",
              "      <td>3</td>\n",
              "      <td>2.936090e+09</td>\n",
              "      <td>2.779530e+09</td>\n",
              "      <td>iota</td>\n",
              "      <td>1512549571</td>\n",
              "      <td>1.475225e+10</td>\n",
              "      <td>2.779530e+09</td>\n",
              "      <td>IOTA</td>\n",
              "      <td>-2.38</td>\n",
              "      <td>83.35</td>\n",
              "      <td>255.82</td>\n",
              "      <td>0.000424</td>\n",
              "      <td>5.307460</td>\n",
              "      <td>4</td>\n",
              "      <td>MIOTA</td>\n",
              "      <td>2.779530e+09</td>\n",
              "    </tr>\n",
              "    <tr>\n",
              "      <th>4</th>\n",
              "      <td>4</td>\n",
              "      <td>2.315050e+08</td>\n",
              "      <td>3.873915e+10</td>\n",
              "      <td>ripple</td>\n",
              "      <td>1512549541</td>\n",
              "      <td>9.365343e+09</td>\n",
              "      <td>1.000000e+11</td>\n",
              "      <td>Ripple</td>\n",
              "      <td>0.56</td>\n",
              "      <td>-3.70</td>\n",
              "      <td>-14.79</td>\n",
              "      <td>0.000019</td>\n",
              "      <td>0.241754</td>\n",
              "      <td>5</td>\n",
              "      <td>XRP</td>\n",
              "      <td>9.999309e+10</td>\n",
              "    </tr>\n",
              "  </tbody>\n",
              "</table>\n",
              "</div>\n",
              "      <button class=\"colab-df-convert\" onclick=\"convertToInteractive('df-97d17cc1-9b22-473c-92c0-bab428982920')\"\n",
              "              title=\"Convert this dataframe to an interactive table.\"\n",
              "              style=\"display:none;\">\n",
              "        \n",
              "  <svg xmlns=\"http://www.w3.org/2000/svg\" height=\"24px\"viewBox=\"0 0 24 24\"\n",
              "       width=\"24px\">\n",
              "    <path d=\"M0 0h24v24H0V0z\" fill=\"none\"/>\n",
              "    <path d=\"M18.56 5.44l.94 2.06.94-2.06 2.06-.94-2.06-.94-.94-2.06-.94 2.06-2.06.94zm-11 1L8.5 8.5l.94-2.06 2.06-.94-2.06-.94L8.5 2.5l-.94 2.06-2.06.94zm10 10l.94 2.06.94-2.06 2.06-.94-2.06-.94-.94-2.06-.94 2.06-2.06.94z\"/><path d=\"M17.41 7.96l-1.37-1.37c-.4-.4-.92-.59-1.43-.59-.52 0-1.04.2-1.43.59L10.3 9.45l-7.72 7.72c-.78.78-.78 2.05 0 2.83L4 21.41c.39.39.9.59 1.41.59.51 0 1.02-.2 1.41-.59l7.78-7.78 2.81-2.81c.8-.78.8-2.07 0-2.86zM5.41 20L4 18.59l7.72-7.72 1.47 1.35L5.41 20z\"/>\n",
              "  </svg>\n",
              "      </button>\n",
              "      \n",
              "  <style>\n",
              "    .colab-df-container {\n",
              "      display:flex;\n",
              "      flex-wrap:wrap;\n",
              "      gap: 12px;\n",
              "    }\n",
              "\n",
              "    .colab-df-convert {\n",
              "      background-color: #E8F0FE;\n",
              "      border: none;\n",
              "      border-radius: 50%;\n",
              "      cursor: pointer;\n",
              "      display: none;\n",
              "      fill: #1967D2;\n",
              "      height: 32px;\n",
              "      padding: 0 0 0 0;\n",
              "      width: 32px;\n",
              "    }\n",
              "\n",
              "    .colab-df-convert:hover {\n",
              "      background-color: #E2EBFA;\n",
              "      box-shadow: 0px 1px 2px rgba(60, 64, 67, 0.3), 0px 1px 3px 1px rgba(60, 64, 67, 0.15);\n",
              "      fill: #174EA6;\n",
              "    }\n",
              "\n",
              "    [theme=dark] .colab-df-convert {\n",
              "      background-color: #3B4455;\n",
              "      fill: #D2E3FC;\n",
              "    }\n",
              "\n",
              "    [theme=dark] .colab-df-convert:hover {\n",
              "      background-color: #434B5C;\n",
              "      box-shadow: 0px 1px 3px 1px rgba(0, 0, 0, 0.15);\n",
              "      filter: drop-shadow(0px 1px 2px rgba(0, 0, 0, 0.3));\n",
              "      fill: #FFFFFF;\n",
              "    }\n",
              "  </style>\n",
              "\n",
              "      <script>\n",
              "        const buttonEl =\n",
              "          document.querySelector('#df-97d17cc1-9b22-473c-92c0-bab428982920 button.colab-df-convert');\n",
              "        buttonEl.style.display =\n",
              "          google.colab.kernel.accessAllowed ? 'block' : 'none';\n",
              "\n",
              "        async function convertToInteractive(key) {\n",
              "          const element = document.querySelector('#df-97d17cc1-9b22-473c-92c0-bab428982920');\n",
              "          const dataTable =\n",
              "            await google.colab.kernel.invokeFunction('convertToInteractive',\n",
              "                                                     [key], {});\n",
              "          if (!dataTable) return;\n",
              "\n",
              "          const docLinkHtml = 'Like what you see? Visit the ' +\n",
              "            '<a target=\"_blank\" href=https://colab.research.google.com/notebooks/data_table.ipynb>data table notebook</a>'\n",
              "            + ' to learn more about interactive tables.';\n",
              "          element.innerHTML = '';\n",
              "          dataTable['output_type'] = 'display_data';\n",
              "          await google.colab.output.renderOutput(dataTable, element);\n",
              "          const docLink = document.createElement('div');\n",
              "          docLink.innerHTML = docLinkHtml;\n",
              "          element.appendChild(docLink);\n",
              "        }\n",
              "      </script>\n",
              "    </div>\n",
              "  </div>\n",
              "  "
            ]
          },
          "metadata": {},
          "execution_count": 35
        }
      ]
    },
    {
      "cell_type": "markdown",
      "source": [],
      "metadata": {
        "id": "CB5m1XSEqxBh"
      }
    },
    {
      "cell_type": "markdown",
      "source": [
        "# 2. Full dataset, filtering, and reproducibility\n",
        "The previous API call returns only the first 100 coins, and we want to explore as many coins as possible. Moreover, we can't produce reproducible analysis with live online data. To solve these problems, we will load a CSV we conveniently saved on the 6th of December of 2017 using the API call\n"
      ],
      "metadata": {
        "id": "uvN283ux815-"
      }
    },
    {
      "cell_type": "code",
      "source": [
        "# Selecting the 'id' and the 'market_cap_usd' columns\n",
        "market_cap_values = current[['id','market_cap_usd']]\n",
        "\n",
        "# Counting the number of values\n",
        "countvalue=market_cap_values.count()\n",
        "print(countvalue)"
      ],
      "metadata": {
        "colab": {
          "base_uri": "https://localhost:8080/"
        },
        "id": "gvHvkRuD9qzn",
        "outputId": "2c3b333b-f19b-472c-b0e4-55d4f3a6173d"
      },
      "execution_count": 36,
      "outputs": [
        {
          "output_type": "stream",
          "name": "stdout",
          "text": [
            "id                1326\n",
            "market_cap_usd    1031\n",
            "dtype: int64\n"
          ]
        }
      ]
    },
    {
      "cell_type": "markdown",
      "source": [
        "**3. Discard the cryptocurrencies without a market capitalization**\n",
        "\n",
        "Why do the count() for id and market_cap_usd differ above? It is because some cryptocurrencies listed in coinmarketcap.com have no known market capitalization, this is represented by NaN in the data, and NaNs are not counted by count(). These cryptocurrencies are of little interest to us in this analysis, so they are safe to remove."
      ],
      "metadata": {
        "id": "SZTUlzNdFVmq"
      }
    },
    {
      "cell_type": "code",
      "source": [
        "#check null values\n",
        "nullvalues = market_cap_values[market_cap_values[('market_cap_usd')].isnull()]\n",
        "print(nullvalues.head())\n",
        "# Filtering out rows without a market capitalization\n",
        "market_cap_1 = market_cap_values.query('market_cap_usd > 0')\n",
        "countvalue2 = market_cap_1.count()\n",
        "print(countvalue2)\n"
      ],
      "metadata": {
        "id": "gFhV1n2OFaIx",
        "colab": {
          "base_uri": "https://localhost:8080/"
        },
        "outputId": "0215cb23-8637-4de2-807a-222dc1b4c7a5"
      },
      "execution_count": 37,
      "outputs": [
        {
          "output_type": "stream",
          "name": "stdout",
          "text": [
            "                   id  market_cap_usd\n",
            "1031          atmcoin             NaN\n",
            "1032       cybermiles             NaN\n",
            "1033  bitcoin-diamond             NaN\n",
            "1034      electroneum             NaN\n",
            "1035          poly-ai             NaN\n",
            "id                1031\n",
            "market_cap_usd    1031\n",
            "dtype: int64\n"
          ]
        }
      ]
    },
    {
      "cell_type": "markdown",
      "source": [
        "**4. How big is Bitcoin compared with the rest of the cryptocurrencies?**\n",
        "\n",
        "At the time of writing, Bitcoin is under serious competition from other projects, but it is still dominant in market capitalization. Let's plot the market capitalization for the top 10 coins as a barplot to better visualize this."
      ],
      "metadata": {
        "id": "TdxYD7umakoS"
      }
    },
    {
      "cell_type": "code",
      "source": [
        "# Select largest crypto currencies\n",
        "largest_capital = market_cap_1.sort_values('market_cap_usd',ascending = False)\n",
        "\n",
        "#Calculate the total market capitalization\n",
        "largest_10 = largest_capital.head(10)\n",
        "print(largest_10)\n",
        "\n",
        "# total market capitalization values\n",
        "total_largest_10 = largest_10['market_cap_usd'].sum()\n",
        "\n",
        "#create presentages\n",
        "presentages = largest_10['market_cap_usd'].apply(lambda x:x /total_largest_10 *100)\n",
        "\n",
        "#Add prsentages into dataframe\n",
        "largest_10_with_presentage = largest_10.assign(presentage = presentages)\n",
        "largest_10_with_presentage.head()\n",
        "\n",
        "# Declaring Labels &  Create a Barplot \n",
        "Top_Title = 'Top 10 CryptoCurrency Market'\n",
        "Top_Ylable = '% of Market Share'\n",
        "chart = largest_10_with_presentage.plot.bar(x='id',y='presentage',title=Top_Title)\n",
        "chart.set_ylabel(Top_Ylable)\n",
        "\n",
        "\n",
        "\n"
      ],
      "metadata": {
        "colab": {
          "base_uri": "https://localhost:8080/",
          "height": 815
        },
        "id": "8pz_NgbWHKRH",
        "outputId": "648a7ff4-a926-4378-ba6c-10ea2279b448"
      },
      "execution_count": 38,
      "outputs": [
        {
          "output_type": "stream",
          "name": "stdout",
          "text": [
            "             id  market_cap_usd\n",
            "0       bitcoin    2.130493e+11\n",
            "1      ethereum    4.352945e+10\n",
            "2  bitcoin-cash    2.529585e+10\n",
            "3          iota    1.475225e+10\n",
            "4        ripple    9.365343e+09\n",
            "5          dash    5.794076e+09\n",
            "6      litecoin    5.634498e+09\n",
            "7  bitcoin-gold    4.920065e+09\n",
            "8        monero    4.331688e+09\n",
            "9       cardano    3.231420e+09\n"
          ]
        },
        {
          "output_type": "execute_result",
          "data": {
            "text/plain": [
              "Text(0, 0.5, '% of Market Share')"
            ]
          },
          "metadata": {},
          "execution_count": 38
        },
        {
          "output_type": "display_data",
          "data": {
            "text/plain": [
              "<Figure size 640x480 with 1 Axes>"
            ],
            "image/png": "[encoded data removed]"
          },
          "metadata": {}
        }
      ]
    },
    {
      "cell_type": "markdown",
      "source": [],
      "metadata": {
        "id": "P6C-mHBgbVRI"
      }
    }
  ]
}
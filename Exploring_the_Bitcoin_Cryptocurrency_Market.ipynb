{
  "nbformat": 4,
  "nbformat_minor": 0,
  "metadata": {
    "colab": {
      "provenance": [],
      "mount_file_id": "1qoIEpJzt_0m9RiHZaVwDjvWt6GqZFnYR",
      "authorship_tag": "ABX9TyMGGgVenTM29zgIVLRNllQd",
      "include_colab_link": true
    },
    "kernelspec": {
      "name": "python3",
      "display_name": "Python 3"
    },
    "language_info": {
      "name": "python"
    }
  },
  "cells": [
    {
      "cell_type": "markdown",
      "metadata": {
        "id": "view-in-github",
        "colab_type": "text"
      },
      "source": [
        "<a href=\"https://colab.research.google.com/github/manthilaw/Python-Projects/blob/main/Exploring_the_Bitcoin_Cryptocurrency_Market.ipynb\" target=\"_parent\"><img src=\"https://colab.research.google.com/assets/colab-badge.svg\" alt=\"Open In Colab\"/></a>"
      ]
    },
    {
      "cell_type": "markdown",
      "source": [
        "# 1. Bitcoin. Cryptocurrencies. So hot right now.\n",
        "\n",
        "Since the launch of Bitcoin in 2008, hundreds of similar projects based on the blockchain technology have emerged. We call these cryptocurrencies (also coins or cryptos in the Internet slang). Some are extremely valuable nowadays, and others may have the potential to become extremely valuable in the future1. In fact, on the 6th of December of 2017, Bitcoin has a market capitalization above $200 billion."
      ],
      "metadata": {
        "id": "izFE49ASV9vX"
      }
    },
    {
      "cell_type": "markdown",
      "source": [
        "*1 WARNING: The cryptocurrency market is exceptionally volatile2 and any money you put in might disappear into thin air. Cryptocurrencies mentioned here might be scams similar to Ponzi Schemes or have many other issues (overvaluation, technical, etc.). Please do not mistake this for investment advice. *\n",
        "\n",
        "2 Update on March 2020: Well, it turned out to be volatile indeed :D\n",
        "\n",
        "That said, let's get to business. We will start with a CSV we conveniently downloaded on the 6th of December of 2017 using the coinmarketcap API (NOTE: The public API went private in 2020 and is no longer available) named datasets/coinmarketcap_06122017.csv."
      ],
      "metadata": {
        "id": "78k5fRN3WluU"
      }
    },
    {
      "cell_type": "code",
      "source": [
        "# Importing pandas\n",
        "import pandas as pd\n",
        "\n",
        "# Importing matplotlib and setting aesthetics for plotting later.\n",
        "import matplotlib.pyplot as plt\n",
        "\n",
        "%matplotlib inline\n",
        "%config InlineBackend.figure_format = 'svg' \n",
        "plt.style.use('fivethirtyeight')\n",
        "\n",
        "# Reading in current data from coinmarketcap.com\n",
        "current = pd.read_csv('/content/drive/MyDrive/Python CSV/1.Exploring the Bitcoin Cryptocurrency Market/coinmarketcap_06122017.csv')\n",
        "# Printing out the first few lines\n",
        "current.head()"
      ],
      "metadata": {
        "colab": {
          "base_uri": "https://localhost:8080/",
          "height": 305
        },
        "id": "eHRNMWMrWn2s",
        "outputId": "f3916edc-35e4-43c2-bdcc-10921fc65a85"
      },
      "execution_count": 3,
      "outputs": [
        {
          "output_type": "execute_result",
          "data": {
            "text/plain": [
              "   Unnamed: 0  24h_volume_usd  available_supply            id  last_updated  \\\n",
              "0           0    9.007640e+09      1.672352e+07       bitcoin    1512549554   \n",
              "1           1    1.551330e+09      9.616537e+07      ethereum    1512549553   \n",
              "2           2    1.111350e+09      1.684044e+07  bitcoin-cash    1512549578   \n",
              "3           3    2.936090e+09      2.779530e+09          iota    1512549571   \n",
              "4           4    2.315050e+08      3.873915e+10        ripple    1512549541   \n",
              "\n",
              "   market_cap_usd    max_supply          name  percent_change_1h  \\\n",
              "0    2.130493e+11  2.100000e+07       Bitcoin               0.12   \n",
              "1    4.352945e+10           NaN      Ethereum              -0.18   \n",
              "2    2.529585e+10  2.100000e+07  Bitcoin Cash               1.65   \n",
              "3    1.475225e+10  2.779530e+09          IOTA              -2.38   \n",
              "4    9.365343e+09  1.000000e+11        Ripple               0.56   \n",
              "\n",
              "   percent_change_24h  percent_change_7d  price_btc     price_usd  rank  \\\n",
              "0                7.33              17.45   1.000000  12739.500000     1   \n",
              "1               -3.93              -7.33   0.036177    452.652000     2   \n",
              "2               -5.51              -4.75   0.120050   1502.090000     3   \n",
              "3               83.35             255.82   0.000424      5.307460     4   \n",
              "4               -3.70             -14.79   0.000019      0.241754     5   \n",
              "\n",
              "  symbol  total_supply  \n",
              "0    BTC  1.672352e+07  \n",
              "1    ETH  9.616537e+07  \n",
              "2    BCH  1.684044e+07  \n",
              "3  MIOTA  2.779530e+09  \n",
              "4    XRP  9.999309e+10  "
            ],
            "text/html": [
              "\n",
              "  <div id=\"df-4e295762-f15e-4e52-8c70-fd6dd02c1e10\">\n",
              "    <div class=\"colab-df-container\">\n",
              "      <div>\n",
              "<style scoped>\n",
              "    .dataframe tbody tr th:only-of-type {\n",
              "        vertical-align: middle;\n",
              "    }\n",
              "\n",
              "    .dataframe tbody tr th {\n",
              "        vertical-align: top;\n",
              "    }\n",
              "\n",
              "    .dataframe thead th {\n",
              "        text-align: right;\n",
              "    }\n",
              "</style>\n",
              "<table border=\"1\" class=\"dataframe\">\n",
              "  <thead>\n",
              "    <tr style=\"text-align: right;\">\n",
              "      <th></th>\n",
              "      <th>Unnamed: 0</th>\n",
              "      <th>24h_volume_usd</th>\n",
              "      <th>available_supply</th>\n",
              "      <th>id</th>\n",
              "      <th>last_updated</th>\n",
              "      <th>market_cap_usd</th>\n",
              "      <th>max_supply</th>\n",
              "      <th>name</th>\n",
              "      <th>percent_change_1h</th>\n",
              "      <th>percent_change_24h</th>\n",
              "      <th>percent_change_7d</th>\n",
              "      <th>price_btc</th>\n",
              "      <th>price_usd</th>\n",
              "      <th>rank</th>\n",
              "      <th>symbol</th>\n",
              "      <th>total_supply</th>\n",
              "    </tr>\n",
              "  </thead>\n",
              "  <tbody>\n",
              "    <tr>\n",
              "      <th>0</th>\n",
              "      <td>0</td>\n",
              "      <td>9.007640e+09</td>\n",
              "      <td>1.672352e+07</td>\n",
              "      <td>bitcoin</td>\n",
              "      <td>1512549554</td>\n",
              "      <td>2.130493e+11</td>\n",
              "      <td>2.100000e+07</td>\n",
              "      <td>Bitcoin</td>\n",
              "      <td>0.12</td>\n",
              "      <td>7.33</td>\n",
              "      <td>17.45</td>\n",
              "      <td>1.000000</td>\n",
              "      <td>12739.500000</td>\n",
              "      <td>1</td>\n",
              "      <td>BTC</td>\n",
              "      <td>1.672352e+07</td>\n",
              "    </tr>\n",
              "    <tr>\n",
              "      <th>1</th>\n",
              "      <td>1</td>\n",
              "      <td>1.551330e+09</td>\n",
              "      <td>9.616537e+07</td>\n",
              "      <td>ethereum</td>\n",
              "      <td>1512549553</td>\n",
              "      <td>4.352945e+10</td>\n",
              "      <td>NaN</td>\n",
              "      <td>Ethereum</td>\n",
              "      <td>-0.18</td>\n",
              "      <td>-3.93</td>\n",
              "      <td>-7.33</td>\n",
              "      <td>0.036177</td>\n",
              "      <td>452.652000</td>\n",
              "      <td>2</td>\n",
              "      <td>ETH</td>\n",
              "      <td>9.616537e+07</td>\n",
              "    </tr>\n",
              "    <tr>\n",
              "      <th>2</th>\n",
              "      <td>2</td>\n",
              "      <td>1.111350e+09</td>\n",
              "      <td>1.684044e+07</td>\n",
              "      <td>bitcoin-cash</td>\n",
              "      <td>1512549578</td>\n",
              "      <td>2.529585e+10</td>\n",
              "      <td>2.100000e+07</td>\n",
              "      <td>Bitcoin Cash</td>\n",
              "      <td>1.65</td>\n",
              "      <td>-5.51</td>\n",
              "      <td>-4.75</td>\n",
              "      <td>0.120050</td>\n",
              "      <td>1502.090000</td>\n",
              "      <td>3</td>\n",
              "      <td>BCH</td>\n",
              "      <td>1.684044e+07</td>\n",
              "    </tr>\n",
              "    <tr>\n",
              "      <th>3</th>\n",
              "      <td>3</td>\n",
              "      <td>2.936090e+09</td>\n",
              "      <td>2.779530e+09</td>\n",
              "      <td>iota</td>\n",
              "      <td>1512549571</td>\n",
              "      <td>1.475225e+10</td>\n",
              "      <td>2.779530e+09</td>\n",
              "      <td>IOTA</td>\n",
              "      <td>-2.38</td>\n",
              "      <td>83.35</td>\n",
              "      <td>255.82</td>\n",
              "      <td>0.000424</td>\n",
              "      <td>5.307460</td>\n",
              "      <td>4</td>\n",
              "      <td>MIOTA</td>\n",
              "      <td>2.779530e+09</td>\n",
              "    </tr>\n",
              "    <tr>\n",
              "      <th>4</th>\n",
              "      <td>4</td>\n",
              "      <td>2.315050e+08</td>\n",
              "      <td>3.873915e+10</td>\n",
              "      <td>ripple</td>\n",
              "      <td>1512549541</td>\n",
              "      <td>9.365343e+09</td>\n",
              "      <td>1.000000e+11</td>\n",
              "      <td>Ripple</td>\n",
              "      <td>0.56</td>\n",
              "      <td>-3.70</td>\n",
              "      <td>-14.79</td>\n",
              "      <td>0.000019</td>\n",
              "      <td>0.241754</td>\n",
              "      <td>5</td>\n",
              "      <td>XRP</td>\n",
              "      <td>9.999309e+10</td>\n",
              "    </tr>\n",
              "  </tbody>\n",
              "</table>\n",
              "</div>\n",
              "      <button class=\"colab-df-convert\" onclick=\"convertToInteractive('df-4e295762-f15e-4e52-8c70-fd6dd02c1e10')\"\n",
              "              title=\"Convert this dataframe to an interactive table.\"\n",
              "              style=\"display:none;\">\n",
              "        \n",
              "  <svg xmlns=\"http://www.w3.org/2000/svg\" height=\"24px\"viewBox=\"0 0 24 24\"\n",
              "       width=\"24px\">\n",
              "    <path d=\"M0 0h24v24H0V0z\" fill=\"none\"/>\n",
              "    <path d=\"M18.56 5.44l.94 2.06.94-2.06 2.06-.94-2.06-.94-.94-2.06-.94 2.06-2.06.94zm-11 1L8.5 8.5l.94-2.06 2.06-.94-2.06-.94L8.5 2.5l-.94 2.06-2.06.94zm10 10l.94 2.06.94-2.06 2.06-.94-2.06-.94-.94-2.06-.94 2.06-2.06.94z\"/><path d=\"M17.41 7.96l-1.37-1.37c-.4-.4-.92-.59-1.43-.59-.52 0-1.04.2-1.43.59L10.3 9.45l-7.72 7.72c-.78.78-.78 2.05 0 2.83L4 21.41c.39.39.9.59 1.41.59.51 0 1.02-.2 1.41-.59l7.78-7.78 2.81-2.81c.8-.78.8-2.07 0-2.86zM5.41 20L4 18.59l7.72-7.72 1.47 1.35L5.41 20z\"/>\n",
              "  </svg>\n",
              "      </button>\n",
              "      \n",
              "  <style>\n",
              "    .colab-df-container {\n",
              "      display:flex;\n",
              "      flex-wrap:wrap;\n",
              "      gap: 12px;\n",
              "    }\n",
              "\n",
              "    .colab-df-convert {\n",
              "      background-color: #E8F0FE;\n",
              "      border: none;\n",
              "      border-radius: 50%;\n",
              "      cursor: pointer;\n",
              "      display: none;\n",
              "      fill: #1967D2;\n",
              "      height: 32px;\n",
              "      padding: 0 0 0 0;\n",
              "      width: 32px;\n",
              "    }\n",
              "\n",
              "    .colab-df-convert:hover {\n",
              "      background-color: #E2EBFA;\n",
              "      box-shadow: 0px 1px 2px rgba(60, 64, 67, 0.3), 0px 1px 3px 1px rgba(60, 64, 67, 0.15);\n",
              "      fill: #174EA6;\n",
              "    }\n",
              "\n",
              "    [theme=dark] .colab-df-convert {\n",
              "      background-color: #3B4455;\n",
              "      fill: #D2E3FC;\n",
              "    }\n",
              "\n",
              "    [theme=dark] .colab-df-convert:hover {\n",
              "      background-color: #434B5C;\n",
              "      box-shadow: 0px 1px 3px 1px rgba(0, 0, 0, 0.15);\n",
              "      filter: drop-shadow(0px 1px 2px rgba(0, 0, 0, 0.3));\n",
              "      fill: #FFFFFF;\n",
              "    }\n",
              "  </style>\n",
              "\n",
              "      <script>\n",
              "        const buttonEl =\n",
              "          document.querySelector('#df-4e295762-f15e-4e52-8c70-fd6dd02c1e10 button.colab-df-convert');\n",
              "        buttonEl.style.display =\n",
              "          google.colab.kernel.accessAllowed ? 'block' : 'none';\n",
              "\n",
              "        async function convertToInteractive(key) {\n",
              "          const element = document.querySelector('#df-4e295762-f15e-4e52-8c70-fd6dd02c1e10');\n",
              "          const dataTable =\n",
              "            await google.colab.kernel.invokeFunction('convertToInteractive',\n",
              "                                                     [key], {});\n",
              "          if (!dataTable) return;\n",
              "\n",
              "          const docLinkHtml = 'Like what you see? Visit the ' +\n",
              "            '<a target=\"_blank\" href=https://colab.research.google.com/notebooks/data_table.ipynb>data table notebook</a>'\n",
              "            + ' to learn more about interactive tables.';\n",
              "          element.innerHTML = '';\n",
              "          dataTable['output_type'] = 'display_data';\n",
              "          await google.colab.output.renderOutput(dataTable, element);\n",
              "          const docLink = document.createElement('div');\n",
              "          docLink.innerHTML = docLinkHtml;\n",
              "          element.appendChild(docLink);\n",
              "        }\n",
              "      </script>\n",
              "    </div>\n",
              "  </div>\n",
              "  "
            ]
          },
          "metadata": {},
          "execution_count": 3
        }
      ]
    },
    {
      "cell_type": "markdown",
      "source": [],
      "metadata": {
        "id": "CB5m1XSEqxBh"
      }
    },
    {
      "cell_type": "markdown",
      "source": [
        "# 2. Full dataset, filtering, and reproducibility\n",
        "The previous API call returns only the first 100 coins, and we want to explore as many coins as possible. Moreover, we can't produce reproducible analysis with live online data. To solve these problems, we will load a CSV we conveniently saved on the 6th of December of 2017 using the API call\n"
      ],
      "metadata": {
        "id": "uvN283ux815-"
      }
    },
    {
      "cell_type": "code",
      "source": [
        "# Selecting the 'id' and the 'market_cap_usd' columns\n",
        "market_cap_col  = current[['id','market_cap_usd']]\n",
        "\n",
        "# Counting the number of values\n",
        "count_values = market_cap_col.count()\n",
        "print(count_values)"
      ],
      "metadata": {
        "colab": {
          "base_uri": "https://localhost:8080/"
        },
        "id": "gvHvkRuD9qzn",
        "outputId": "a56b8b93-bcd3-4170-878d-5e07c0757abd"
      },
      "execution_count": 4,
      "outputs": [
        {
          "output_type": "stream",
          "name": "stdout",
          "text": [
            "id                1326\n",
            "market_cap_usd    1031\n",
            "dtype: int64\n"
          ]
        }
      ]
    },
    {
      "cell_type": "markdown",
      "source": [
        "**3. Discard the cryptocurrencies without a market capitalization**\n",
        "\n",
        "Why do the count() for id and market_cap_usd differ above? It is because some cryptocurrencies listed in coinmarketcap.com have no known market capitalization, this is represented by NaN in the data, and NaNs are not counted by count(). These cryptocurrencies are of little interest to us in this analysis, so they are safe to remove."
      ],
      "metadata": {
        "id": "SZTUlzNdFVmq"
      }
    },
    {
      "cell_type": "code",
      "source": [
        "# Filtering out rows without a market capitalization\n",
        "cap = market_cap_col.query('market_cap_usd > 0')"
      ],
      "metadata": {
        "id": "gFhV1n2OFaIx"
      },
      "execution_count": 5,
      "outputs": []
    },
    {
      "cell_type": "markdown",
      "source": [
        "**4. How big is Bitcoin compared with the rest of the cryptocurrencies?**\n",
        "\n",
        "At the time of writing, Bitcoin is under serious competition from other projects, but it is still dominant in market capitalization. Let's plot the market capitalization for the top 10 coins as a barplot to better visualize this."
      ],
      "metadata": {
        "id": "TdxYD7umakoS"
      }
    },
    {
      "cell_type": "code",
      "source": [
        "#Declaring these now for later use in the plots\n",
        "TOP_CAP_TITLE = 'Top 10 market capitalization'\n",
        "TOP_CAP_TITLE = 'Top 10 market capitalization'\n",
        "TOP_CAP_YLABEL = '% of total cap'\n",
        "\n",
        "# Selecting the first 10 rows and setting the index\n",
        "cap10 = cap.head(10).set_index(cap.id[:10])\n",
        "\n",
        "# Calculating market_cap_perc\n",
        "cap10 = cap10.assign(market_cap_perc =\n",
        "                    lambda x: (x.market_cap_usd / cap.market_cap_usd.sum()) * 100)\n",
        "\n",
        "# Plotting the barplot with the title defined above \n",
        "ax = cap10.plot.bar(x = 'id', y = 'market_cap_perc', title = TOP_CAP_TITLE)\n",
        "\n",
        "# Annotating the y axis with the label defined above\n",
        "# ... YOUR CODE FOR TASK 4 ...\n",
        "ax.set_ylabel(TOP_CAP_YLABEL)"
      ],
      "metadata": {
        "colab": {
          "base_uri": "https://localhost:8080/",
          "height": 604
        },
        "id": "ZhhEOhc7bd6C",
        "outputId": "7e07323e-8ac4-455c-e1d6-3dce987908a9"
      },
      "execution_count": 6,
      "outputs": [
        {
          "output_type": "execute_result",
          "data": {
            "text/plain": [
              "Text(0, 0.5, '% of total cap')"
            ]
          },
          "metadata": {},
          "execution_count": 6
        },
        {
          "output_type": "display_data",
          "data": {
            "text/plain": [
              "<Figure size 640x480 with 1 Axes>"
            ],
            "image/svg+xml": "<?xml version=\"1.0\" encoding=\"utf-8\" standalone=\"no\"?>\n<!DOCTYPE svg PUBLIC \"-//W3C//DTD SVG 1.1//EN\"\n  \"http://www.w3.org/Graphics/SVG/1.1/DTD/svg11.dtd\">\n<svg xmlns:xlink=\"http://www.w3.org/1999/xlink\" width=\"456.87025pt\" height=\"424.199012pt\" viewBox=\"0 0 456.87025 424.199012\" xmlns=\"http://www.w3.org/2000/svg\" version=\"1.1\">\n <metadata>\n  <rdf:RDF xmlns:dc=\"http://purl.org/dc/elements/1.1/\" xmlns:cc=\"http://creativecommons.org/ns#\" xmlns:rdf=\"http://www.w3.org/1999/02/22-rdf-syntax-ns#\">\n   <cc:Work>\n    <dc:type rdf:resource=\"http://purl.org/dc/dcmitype/StillImage\"/>\n    <dc:date>2023-04-06T17:03:14.979968</dc:date>\n    <dc:format>image/svg+xml</dc:format>\n    <dc:creator>\n     <cc:Agent>\n      <dc:title>Matplotlib v3.7.1, https://matplotlib.org/</dc:title>\n     </cc:Agent>\n    </dc:creator>\n   </cc:Work>\n  </rdf:RDF>\n </metadata>\n <defs>\n  <style type=\"text/css\">*{stroke-linejoin: round; stroke-linecap: butt}</style>\n </defs>\n <g id=\"figure_1\">\n  <g id=\"patch_1\">\n   <path d=\"M 0 424.199012 \nL 456.87025 424.199012 \nL 456.87025 0 \nL 0 0 \nz\n\" style=\"fill: #f0f0f0\"/>\n  </g>\n  <g id=\"axes_1\">\n   <g id=\"patch_2\">\n    <path d=\"M 48.77425 308.45445 \nL 449.67025 308.45445 \nL 449.67025 28.51845 \nL 48.77425 28.51845 \nz\n\" style=\"fill: #f0f0f0\"/>\n   </g>\n   <g id=\"matplotlib.axis_1\">\n    <g id=\"xtick_1\">\n     <g id=\"line2d_1\">\n      <path d=\"M 68.81905 308.45445 \nL 68.81905 28.51845 \n\" clip-path=\"url(#pdf5f039587)\" style=\"fill: none; stroke: #cbcbcb\"/>\n     </g>\n     <g id=\"line2d_2\"/>\n     <g id=\"text_1\">\n      <!-- bitcoin -->\n      <g transform=\"translate(72.682175 359.246013) rotate(-90) scale(0.14 -0.14)\">\n       <defs>\n        <path id=\"DejaVuSans-62\" d=\"M 3116 1747 \nQ 3116 2381 2855 2742 \nQ 2594 3103 2138 3103 \nQ 1681 3103 1420 2742 \nQ 1159 2381 1159 1747 \nQ 1159 1113 1420 752 \nQ 1681 391 2138 391 \nQ 2594 391 2855 752 \nQ 3116 1113 3116 1747 \nz\nM 1159 2969 \nQ 1341 3281 1617 3432 \nQ 1894 3584 2278 3584 \nQ 2916 3584 3314 3078 \nQ 3713 2572 3713 1747 \nQ 3713 922 3314 415 \nQ 2916 -91 2278 -91 \nQ 1894 -91 1617 61 \nQ 1341 213 1159 525 \nL 1159 0 \nL 581 0 \nL 581 4863 \nL 1159 4863 \nL 1159 2969 \nz\n\" transform=\"scale(0.015625)\"/>\n        <path id=\"DejaVuSans-69\" d=\"M 603 3500 \nL 1178 3500 \nL 1178 0 \nL 603 0 \nL 603 3500 \nz\nM 603 4863 \nL 1178 4863 \nL 1178 4134 \nL 603 4134 \nL 603 4863 \nz\n\" transform=\"scale(0.015625)\"/>\n        <path id=\"DejaVuSans-74\" d=\"M 1172 4494 \nL 1172 3500 \nL 2356 3500 \nL 2356 3053 \nL 1172 3053 \nL 1172 1153 \nQ 1172 725 1289 603 \nQ 1406 481 1766 481 \nL 2356 481 \nL 2356 0 \nL 1766 0 \nQ 1100 0 847 248 \nQ 594 497 594 1153 \nL 594 3053 \nL 172 3053 \nL 172 3500 \nL 594 3500 \nL 594 4494 \nL 1172 4494 \nz\n\" transform=\"scale(0.015625)\"/>\n        <path id=\"DejaVuSans-63\" d=\"M 3122 3366 \nL 3122 2828 \nQ 2878 2963 2633 3030 \nQ 2388 3097 2138 3097 \nQ 1578 3097 1268 2742 \nQ 959 2388 959 1747 \nQ 959 1106 1268 751 \nQ 1578 397 2138 397 \nQ 2388 397 2633 464 \nQ 2878 531 3122 666 \nL 3122 134 \nQ 2881 22 2623 -34 \nQ 2366 -91 2075 -91 \nQ 1284 -91 818 406 \nQ 353 903 353 1747 \nQ 353 2603 823 3093 \nQ 1294 3584 2113 3584 \nQ 2378 3584 2631 3529 \nQ 2884 3475 3122 3366 \nz\n\" transform=\"scale(0.015625)\"/>\n        <path id=\"DejaVuSans-6f\" d=\"M 1959 3097 \nQ 1497 3097 1228 2736 \nQ 959 2375 959 1747 \nQ 959 1119 1226 758 \nQ 1494 397 1959 397 \nQ 2419 397 2687 759 \nQ 2956 1122 2956 1747 \nQ 2956 2369 2687 2733 \nQ 2419 3097 1959 3097 \nz\nM 1959 3584 \nQ 2709 3584 3137 3096 \nQ 3566 2609 3566 1747 \nQ 3566 888 3137 398 \nQ 2709 -91 1959 -91 \nQ 1206 -91 779 398 \nQ 353 888 353 1747 \nQ 353 2609 779 3096 \nQ 1206 3584 1959 3584 \nz\n\" transform=\"scale(0.015625)\"/>\n        <path id=\"DejaVuSans-6e\" d=\"M 3513 2113 \nL 3513 0 \nL 2938 0 \nL 2938 2094 \nQ 2938 2591 2744 2837 \nQ 2550 3084 2163 3084 \nQ 1697 3084 1428 2787 \nQ 1159 2491 1159 1978 \nL 1159 0 \nL 581 0 \nL 581 3500 \nL 1159 3500 \nL 1159 2956 \nQ 1366 3272 1645 3428 \nQ 1925 3584 2291 3584 \nQ 2894 3584 3203 3211 \nQ 3513 2838 3513 2113 \nz\n\" transform=\"scale(0.015625)\"/>\n       </defs>\n       <use xlink:href=\"#DejaVuSans-62\"/>\n       <use xlink:href=\"#DejaVuSans-69\" x=\"63.476562\"/>\n       <use xlink:href=\"#DejaVuSans-74\" x=\"91.259766\"/>\n       <use xlink:href=\"#DejaVuSans-63\" x=\"130.46875\"/>\n       <use xlink:href=\"#DejaVuSans-6f\" x=\"185.449219\"/>\n       <use xlink:href=\"#DejaVuSans-69\" x=\"246.630859\"/>\n       <use xlink:href=\"#DejaVuSans-6e\" x=\"274.414062\"/>\n      </g>\n     </g>\n    </g>\n    <g id=\"xtick_2\">\n     <g id=\"line2d_3\">\n      <path d=\"M 108.90865 308.45445 \nL 108.90865 28.51845 \n\" clip-path=\"url(#pdf5f039587)\" style=\"fill: none; stroke: #cbcbcb\"/>\n     </g>\n     <g id=\"line2d_4\"/>\n     <g id=\"text_2\">\n      <!-- ethereum -->\n      <g transform=\"translate(112.771775 380.1082) rotate(-90) scale(0.14 -0.14)\">\n       <defs>\n        <path id=\"DejaVuSans-65\" d=\"M 3597 1894 \nL 3597 1613 \nL 953 1613 \nQ 991 1019 1311 708 \nQ 1631 397 2203 397 \nQ 2534 397 2845 478 \nQ 3156 559 3463 722 \nL 3463 178 \nQ 3153 47 2828 -22 \nQ 2503 -91 2169 -91 \nQ 1331 -91 842 396 \nQ 353 884 353 1716 \nQ 353 2575 817 3079 \nQ 1281 3584 2069 3584 \nQ 2775 3584 3186 3129 \nQ 3597 2675 3597 1894 \nz\nM 3022 2063 \nQ 3016 2534 2758 2815 \nQ 2500 3097 2075 3097 \nQ 1594 3097 1305 2825 \nQ 1016 2553 972 2059 \nL 3022 2063 \nz\n\" transform=\"scale(0.015625)\"/>\n        <path id=\"DejaVuSans-68\" d=\"M 3513 2113 \nL 3513 0 \nL 2938 0 \nL 2938 2094 \nQ 2938 2591 2744 2837 \nQ 2550 3084 2163 3084 \nQ 1697 3084 1428 2787 \nQ 1159 2491 1159 1978 \nL 1159 0 \nL 581 0 \nL 581 4863 \nL 1159 4863 \nL 1159 2956 \nQ 1366 3272 1645 3428 \nQ 1925 3584 2291 3584 \nQ 2894 3584 3203 3211 \nQ 3513 2838 3513 2113 \nz\n\" transform=\"scale(0.015625)\"/>\n        <path id=\"DejaVuSans-72\" d=\"M 2631 2963 \nQ 2534 3019 2420 3045 \nQ 2306 3072 2169 3072 \nQ 1681 3072 1420 2755 \nQ 1159 2438 1159 1844 \nL 1159 0 \nL 581 0 \nL 581 3500 \nL 1159 3500 \nL 1159 2956 \nQ 1341 3275 1631 3429 \nQ 1922 3584 2338 3584 \nQ 2397 3584 2469 3576 \nQ 2541 3569 2628 3553 \nL 2631 2963 \nz\n\" transform=\"scale(0.015625)\"/>\n        <path id=\"DejaVuSans-75\" d=\"M 544 1381 \nL 544 3500 \nL 1119 3500 \nL 1119 1403 \nQ 1119 906 1312 657 \nQ 1506 409 1894 409 \nQ 2359 409 2629 706 \nQ 2900 1003 2900 1516 \nL 2900 3500 \nL 3475 3500 \nL 3475 0 \nL 2900 0 \nL 2900 538 \nQ 2691 219 2414 64 \nQ 2138 -91 1772 -91 \nQ 1169 -91 856 284 \nQ 544 659 544 1381 \nz\nM 1991 3584 \nL 1991 3584 \nz\n\" transform=\"scale(0.015625)\"/>\n        <path id=\"DejaVuSans-6d\" d=\"M 3328 2828 \nQ 3544 3216 3844 3400 \nQ 4144 3584 4550 3584 \nQ 5097 3584 5394 3201 \nQ 5691 2819 5691 2113 \nL 5691 0 \nL 5113 0 \nL 5113 2094 \nQ 5113 2597 4934 2840 \nQ 4756 3084 4391 3084 \nQ 3944 3084 3684 2787 \nQ 3425 2491 3425 1978 \nL 3425 0 \nL 2847 0 \nL 2847 2094 \nQ 2847 2600 2669 2842 \nQ 2491 3084 2119 3084 \nQ 1678 3084 1418 2786 \nQ 1159 2488 1159 1978 \nL 1159 0 \nL 581 0 \nL 581 3500 \nL 1159 3500 \nL 1159 2956 \nQ 1356 3278 1631 3431 \nQ 1906 3584 2284 3584 \nQ 2666 3584 2933 3390 \nQ 3200 3197 3328 2828 \nz\n\" transform=\"scale(0.015625)\"/>\n       </defs>\n       <use xlink:href=\"#DejaVuSans-65\"/>\n       <use xlink:href=\"#DejaVuSans-74\" x=\"61.523438\"/>\n       <use xlink:href=\"#DejaVuSans-68\" x=\"100.732422\"/>\n       <use xlink:href=\"#DejaVuSans-65\" x=\"164.111328\"/>\n       <use xlink:href=\"#DejaVuSans-72\" x=\"225.634766\"/>\n       <use xlink:href=\"#DejaVuSans-65\" x=\"264.498047\"/>\n       <use xlink:href=\"#DejaVuSans-75\" x=\"326.021484\"/>\n       <use xlink:href=\"#DejaVuSans-6d\" x=\"389.400391\"/>\n      </g>\n     </g>\n    </g>\n    <g id=\"xtick_3\">\n     <g id=\"line2d_5\">\n      <path d=\"M 148.99825 308.45445 \nL 148.99825 28.51845 \n\" clip-path=\"url(#pdf5f039587)\" style=\"fill: none; stroke: #cbcbcb\"/>\n     </g>\n     <g id=\"line2d_6\"/>\n     <g id=\"text_3\">\n      <!-- bitcoin-cash -->\n      <g transform=\"translate(152.861375 396.739762) rotate(-90) scale(0.14 -0.14)\">\n       <defs>\n        <path id=\"DejaVuSans-2d\" d=\"M 313 2009 \nL 1997 2009 \nL 1997 1497 \nL 313 1497 \nL 313 2009 \nz\n\" transform=\"scale(0.015625)\"/>\n        <path id=\"DejaVuSans-61\" d=\"M 2194 1759 \nQ 1497 1759 1228 1600 \nQ 959 1441 959 1056 \nQ 959 750 1161 570 \nQ 1363 391 1709 391 \nQ 2188 391 2477 730 \nQ 2766 1069 2766 1631 \nL 2766 1759 \nL 2194 1759 \nz\nM 3341 1997 \nL 3341 0 \nL 2766 0 \nL 2766 531 \nQ 2569 213 2275 61 \nQ 1981 -91 1556 -91 \nQ 1019 -91 701 211 \nQ 384 513 384 1019 \nQ 384 1609 779 1909 \nQ 1175 2209 1959 2209 \nL 2766 2209 \nL 2766 2266 \nQ 2766 2663 2505 2880 \nQ 2244 3097 1772 3097 \nQ 1472 3097 1187 3025 \nQ 903 2953 641 2809 \nL 641 3341 \nQ 956 3463 1253 3523 \nQ 1550 3584 1831 3584 \nQ 2591 3584 2966 3190 \nQ 3341 2797 3341 1997 \nz\n\" transform=\"scale(0.015625)\"/>\n        <path id=\"DejaVuSans-73\" d=\"M 2834 3397 \nL 2834 2853 \nQ 2591 2978 2328 3040 \nQ 2066 3103 1784 3103 \nQ 1356 3103 1142 2972 \nQ 928 2841 928 2578 \nQ 928 2378 1081 2264 \nQ 1234 2150 1697 2047 \nL 1894 2003 \nQ 2506 1872 2764 1633 \nQ 3022 1394 3022 966 \nQ 3022 478 2636 193 \nQ 2250 -91 1575 -91 \nQ 1294 -91 989 -36 \nQ 684 19 347 128 \nL 347 722 \nQ 666 556 975 473 \nQ 1284 391 1588 391 \nQ 1994 391 2212 530 \nQ 2431 669 2431 922 \nQ 2431 1156 2273 1281 \nQ 2116 1406 1581 1522 \nL 1381 1569 \nQ 847 1681 609 1914 \nQ 372 2147 372 2553 \nQ 372 3047 722 3315 \nQ 1072 3584 1716 3584 \nQ 2034 3584 2315 3537 \nQ 2597 3491 2834 3397 \nz\n\" transform=\"scale(0.015625)\"/>\n       </defs>\n       <use xlink:href=\"#DejaVuSans-62\"/>\n       <use xlink:href=\"#DejaVuSans-69\" x=\"63.476562\"/>\n       <use xlink:href=\"#DejaVuSans-74\" x=\"91.259766\"/>\n       <use xlink:href=\"#DejaVuSans-63\" x=\"130.46875\"/>\n       <use xlink:href=\"#DejaVuSans-6f\" x=\"185.449219\"/>\n       <use xlink:href=\"#DejaVuSans-69\" x=\"246.630859\"/>\n       <use xlink:href=\"#DejaVuSans-6e\" x=\"274.414062\"/>\n       <use xlink:href=\"#DejaVuSans-2d\" x=\"337.792969\"/>\n       <use xlink:href=\"#DejaVuSans-63\" x=\"373.876953\"/>\n       <use xlink:href=\"#DejaVuSans-61\" x=\"428.857422\"/>\n       <use xlink:href=\"#DejaVuSans-73\" x=\"490.136719\"/>\n       <use xlink:href=\"#DejaVuSans-68\" x=\"542.236328\"/>\n      </g>\n     </g>\n    </g>\n    <g id=\"xtick_4\">\n     <g id=\"line2d_7\">\n      <path d=\"M 189.08785 308.45445 \nL 189.08785 28.51845 \n\" clip-path=\"url(#pdf5f039587)\" style=\"fill: none; stroke: #cbcbcb\"/>\n     </g>\n     <g id=\"line2d_8\"/>\n     <g id=\"text_4\">\n      <!-- iota -->\n      <g transform=\"translate(192.950975 338.477887) rotate(-90) scale(0.14 -0.14)\">\n       <use xlink:href=\"#DejaVuSans-69\"/>\n       <use xlink:href=\"#DejaVuSans-6f\" x=\"27.783203\"/>\n       <use xlink:href=\"#DejaVuSans-74\" x=\"88.964844\"/>\n       <use xlink:href=\"#DejaVuSans-61\" x=\"128.173828\"/>\n      </g>\n     </g>\n    </g>\n    <g id=\"xtick_5\">\n     <g id=\"line2d_9\">\n      <path d=\"M 229.17745 308.45445 \nL 229.17745 28.51845 \n\" clip-path=\"url(#pdf5f039587)\" style=\"fill: none; stroke: #cbcbcb\"/>\n     </g>\n     <g id=\"line2d_10\"/>\n     <g id=\"text_5\">\n      <!-- ripple -->\n      <g transform=\"translate(233.040575 351.878512) rotate(-90) scale(0.14 -0.14)\">\n       <defs>\n        <path id=\"DejaVuSans-70\" d=\"M 1159 525 \nL 1159 -1331 \nL 581 -1331 \nL 581 3500 \nL 1159 3500 \nL 1159 2969 \nQ 1341 3281 1617 3432 \nQ 1894 3584 2278 3584 \nQ 2916 3584 3314 3078 \nQ 3713 2572 3713 1747 \nQ 3713 922 3314 415 \nQ 2916 -91 2278 -91 \nQ 1894 -91 1617 61 \nQ 1341 213 1159 525 \nz\nM 3116 1747 \nQ 3116 2381 2855 2742 \nQ 2594 3103 2138 3103 \nQ 1681 3103 1420 2742 \nQ 1159 2381 1159 1747 \nQ 1159 1113 1420 752 \nQ 1681 391 2138 391 \nQ 2594 391 2855 752 \nQ 3116 1113 3116 1747 \nz\n\" transform=\"scale(0.015625)\"/>\n        <path id=\"DejaVuSans-6c\" d=\"M 603 4863 \nL 1178 4863 \nL 1178 0 \nL 603 0 \nL 603 4863 \nz\n\" transform=\"scale(0.015625)\"/>\n       </defs>\n       <use xlink:href=\"#DejaVuSans-72\"/>\n       <use xlink:href=\"#DejaVuSans-69\" x=\"41.113281\"/>\n       <use xlink:href=\"#DejaVuSans-70\" x=\"68.896484\"/>\n       <use xlink:href=\"#DejaVuSans-70\" x=\"132.373047\"/>\n       <use xlink:href=\"#DejaVuSans-6c\" x=\"195.849609\"/>\n       <use xlink:href=\"#DejaVuSans-65\" x=\"223.632812\"/>\n      </g>\n     </g>\n    </g>\n    <g id=\"xtick_6\">\n     <g id=\"line2d_11\">\n      <path d=\"M 269.26705 308.45445 \nL 269.26705 28.51845 \n\" clip-path=\"url(#pdf5f039587)\" style=\"fill: none; stroke: #cbcbcb\"/>\n     </g>\n     <g id=\"line2d_12\"/>\n     <g id=\"text_6\">\n      <!-- dash -->\n      <g transform=\"translate(273.130175 345.587262) rotate(-90) scale(0.14 -0.14)\">\n       <defs>\n        <path id=\"DejaVuSans-64\" d=\"M 2906 2969 \nL 2906 4863 \nL 3481 4863 \nL 3481 0 \nL 2906 0 \nL 2906 525 \nQ 2725 213 2448 61 \nQ 2172 -91 1784 -91 \nQ 1150 -91 751 415 \nQ 353 922 353 1747 \nQ 353 2572 751 3078 \nQ 1150 3584 1784 3584 \nQ 2172 3584 2448 3432 \nQ 2725 3281 2906 2969 \nz\nM 947 1747 \nQ 947 1113 1208 752 \nQ 1469 391 1925 391 \nQ 2381 391 2643 752 \nQ 2906 1113 2906 1747 \nQ 2906 2381 2643 2742 \nQ 2381 3103 1925 3103 \nQ 1469 3103 1208 2742 \nQ 947 2381 947 1747 \nz\n\" transform=\"scale(0.015625)\"/>\n       </defs>\n       <use xlink:href=\"#DejaVuSans-64\"/>\n       <use xlink:href=\"#DejaVuSans-61\" x=\"63.476562\"/>\n       <use xlink:href=\"#DejaVuSans-73\" x=\"124.755859\"/>\n       <use xlink:href=\"#DejaVuSans-68\" x=\"176.855469\"/>\n      </g>\n     </g>\n    </g>\n    <g id=\"xtick_7\">\n     <g id=\"line2d_13\">\n      <path d=\"M 309.35665 308.45445 \nL 309.35665 28.51845 \n\" clip-path=\"url(#pdf5f039587)\" style=\"fill: none; stroke: #cbcbcb\"/>\n     </g>\n     <g id=\"line2d_14\"/>\n     <g id=\"text_7\">\n      <!-- litecoin -->\n      <g transform=\"translate(313.219775 362.86195) rotate(-90) scale(0.14 -0.14)\">\n       <use xlink:href=\"#DejaVuSans-6c\"/>\n       <use xlink:href=\"#DejaVuSans-69\" x=\"27.783203\"/>\n       <use xlink:href=\"#DejaVuSans-74\" x=\"55.566406\"/>\n       <use xlink:href=\"#DejaVuSans-65\" x=\"94.775391\"/>\n       <use xlink:href=\"#DejaVuSans-63\" x=\"156.298828\"/>\n       <use xlink:href=\"#DejaVuSans-6f\" x=\"211.279297\"/>\n       <use xlink:href=\"#DejaVuSans-69\" x=\"272.460938\"/>\n       <use xlink:href=\"#DejaVuSans-6e\" x=\"300.244141\"/>\n      </g>\n     </g>\n    </g>\n    <g id=\"xtick_8\">\n     <g id=\"line2d_15\">\n      <path d=\"M 349.44625 308.45445 \nL 349.44625 28.51845 \n\" clip-path=\"url(#pdf5f039587)\" style=\"fill: none; stroke: #cbcbcb\"/>\n     </g>\n     <g id=\"line2d_16\"/>\n     <g id=\"text_8\">\n      <!-- bitcoin-gold -->\n      <g transform=\"translate(353.309375 394.5282) rotate(-90) scale(0.14 -0.14)\">\n       <defs>\n        <path id=\"DejaVuSans-67\" d=\"M 2906 1791 \nQ 2906 2416 2648 2759 \nQ 2391 3103 1925 3103 \nQ 1463 3103 1205 2759 \nQ 947 2416 947 1791 \nQ 947 1169 1205 825 \nQ 1463 481 1925 481 \nQ 2391 481 2648 825 \nQ 2906 1169 2906 1791 \nz\nM 3481 434 \nQ 3481 -459 3084 -895 \nQ 2688 -1331 1869 -1331 \nQ 1566 -1331 1297 -1286 \nQ 1028 -1241 775 -1147 \nL 775 -588 \nQ 1028 -725 1275 -790 \nQ 1522 -856 1778 -856 \nQ 2344 -856 2625 -561 \nQ 2906 -266 2906 331 \nL 2906 616 \nQ 2728 306 2450 153 \nQ 2172 0 1784 0 \nQ 1141 0 747 490 \nQ 353 981 353 1791 \nQ 353 2603 747 3093 \nQ 1141 3584 1784 3584 \nQ 2172 3584 2450 3431 \nQ 2728 3278 2906 2969 \nL 2906 3500 \nL 3481 3500 \nL 3481 434 \nz\n\" transform=\"scale(0.015625)\"/>\n       </defs>\n       <use xlink:href=\"#DejaVuSans-62\"/>\n       <use xlink:href=\"#DejaVuSans-69\" x=\"63.476562\"/>\n       <use xlink:href=\"#DejaVuSans-74\" x=\"91.259766\"/>\n       <use xlink:href=\"#DejaVuSans-63\" x=\"130.46875\"/>\n       <use xlink:href=\"#DejaVuSans-6f\" x=\"185.449219\"/>\n       <use xlink:href=\"#DejaVuSans-69\" x=\"246.630859\"/>\n       <use xlink:href=\"#DejaVuSans-6e\" x=\"274.414062\"/>\n       <use xlink:href=\"#DejaVuSans-2d\" x=\"337.792969\"/>\n       <use xlink:href=\"#DejaVuSans-67\" x=\"373.876953\"/>\n       <use xlink:href=\"#DejaVuSans-6f\" x=\"437.353516\"/>\n       <use xlink:href=\"#DejaVuSans-6c\" x=\"498.535156\"/>\n       <use xlink:href=\"#DejaVuSans-64\" x=\"526.318359\"/>\n      </g>\n     </g>\n    </g>\n    <g id=\"xtick_9\">\n     <g id=\"line2d_17\">\n      <path d=\"M 389.53585 308.45445 \nL 389.53585 28.51845 \n\" clip-path=\"url(#pdf5f039587)\" style=\"fill: none; stroke: #cbcbcb\"/>\n     </g>\n     <g id=\"line2d_18\"/>\n     <g id=\"text_9\">\n      <!-- monero -->\n      <g transform=\"translate(393.398975 365.651012) rotate(-90) scale(0.14 -0.14)\">\n       <use xlink:href=\"#DejaVuSans-6d\"/>\n       <use xlink:href=\"#DejaVuSans-6f\" x=\"97.412109\"/>\n       <use xlink:href=\"#DejaVuSans-6e\" x=\"158.59375\"/>\n       <use xlink:href=\"#DejaVuSans-65\" x=\"221.972656\"/>\n       <use xlink:href=\"#DejaVuSans-72\" x=\"283.496094\"/>\n       <use xlink:href=\"#DejaVuSans-6f\" x=\"322.359375\"/>\n      </g>\n     </g>\n    </g>\n    <g id=\"xtick_10\">\n     <g id=\"line2d_19\">\n      <path d=\"M 429.62545 308.45445 \nL 429.62545 28.51845 \n\" clip-path=\"url(#pdf5f039587)\" style=\"fill: none; stroke: #cbcbcb\"/>\n     </g>\n     <g id=\"line2d_20\"/>\n     <g id=\"text_10\">\n      <!-- cardano -->\n      <g transform=\"translate(433.488575 368.647887) rotate(-90) scale(0.14 -0.14)\">\n       <use xlink:href=\"#DejaVuSans-63\"/>\n       <use xlink:href=\"#DejaVuSans-61\" x=\"54.980469\"/>\n       <use xlink:href=\"#DejaVuSans-72\" x=\"116.259766\"/>\n       <use xlink:href=\"#DejaVuSans-64\" x=\"155.623047\"/>\n       <use xlink:href=\"#DejaVuSans-61\" x=\"219.099609\"/>\n       <use xlink:href=\"#DejaVuSans-6e\" x=\"280.378906\"/>\n       <use xlink:href=\"#DejaVuSans-6f\" x=\"343.757812\"/>\n      </g>\n     </g>\n    </g>\n    <g id=\"text_11\">\n     <!-- id -->\n     <g transform=\"translate(241.555938 413.505137) scale(0.168 -0.168)\">\n      <use xlink:href=\"#DejaVuSans-69\"/>\n      <use xlink:href=\"#DejaVuSans-64\" x=\"27.783203\"/>\n     </g>\n    </g>\n   </g>\n   <g id=\"matplotlib.axis_2\">\n    <g id=\"ytick_1\">\n     <g id=\"line2d_21\">\n      <path d=\"M 48.77425 308.45445 \nL 449.67025 308.45445 \n\" clip-path=\"url(#pdf5f039587)\" style=\"fill: none; stroke: #cbcbcb\"/>\n     </g>\n     <g id=\"line2d_22\"/>\n     <g id=\"text_12\">\n      <!-- 0 -->\n      <g transform=\"translate(36.36675 313.773356) scale(0.14 -0.14)\">\n       <defs>\n        <path id=\"DejaVuSans-30\" d=\"M 2034 4250 \nQ 1547 4250 1301 3770 \nQ 1056 3291 1056 2328 \nQ 1056 1369 1301 889 \nQ 1547 409 2034 409 \nQ 2525 409 2770 889 \nQ 3016 1369 3016 2328 \nQ 3016 3291 2770 3770 \nQ 2525 4250 2034 4250 \nz\nM 2034 4750 \nQ 2819 4750 3233 4129 \nQ 3647 3509 3647 2328 \nQ 3647 1150 3233 529 \nQ 2819 -91 2034 -91 \nQ 1250 -91 836 529 \nQ 422 1150 422 2328 \nQ 422 3509 836 4129 \nQ 1250 4750 2034 4750 \nz\n\" transform=\"scale(0.015625)\"/>\n       </defs>\n       <use xlink:href=\"#DejaVuSans-30\"/>\n      </g>\n     </g>\n    </g>\n    <g id=\"ytick_2\">\n     <g id=\"line2d_23\">\n      <path d=\"M 48.77425 261.614683 \nL 449.67025 261.614683 \n\" clip-path=\"url(#pdf5f039587)\" style=\"fill: none; stroke: #cbcbcb\"/>\n     </g>\n     <g id=\"line2d_24\"/>\n     <g id=\"text_13\">\n      <!-- 10 -->\n      <g transform=\"translate(27.45925 266.93359) scale(0.14 -0.14)\">\n       <defs>\n        <path id=\"DejaVuSans-31\" d=\"M 794 531 \nL 1825 531 \nL 1825 4091 \nL 703 3866 \nL 703 4441 \nL 1819 4666 \nL 2450 4666 \nL 2450 531 \nL 3481 531 \nL 3481 0 \nL 794 0 \nL 794 531 \nz\n\" transform=\"scale(0.015625)\"/>\n       </defs>\n       <use xlink:href=\"#DejaVuSans-31\"/>\n       <use xlink:href=\"#DejaVuSans-30\" x=\"63.623047\"/>\n      </g>\n     </g>\n    </g>\n    <g id=\"ytick_3\">\n     <g id=\"line2d_25\">\n      <path d=\"M 48.77425 214.774917 \nL 449.67025 214.774917 \n\" clip-path=\"url(#pdf5f039587)\" style=\"fill: none; stroke: #cbcbcb\"/>\n     </g>\n     <g id=\"line2d_26\"/>\n     <g id=\"text_14\">\n      <!-- 20 -->\n      <g transform=\"translate(27.45925 220.093823) scale(0.14 -0.14)\">\n       <defs>\n        <path id=\"DejaVuSans-32\" d=\"M 1228 531 \nL 3431 531 \nL 3431 0 \nL 469 0 \nL 469 531 \nQ 828 903 1448 1529 \nQ 2069 2156 2228 2338 \nQ 2531 2678 2651 2914 \nQ 2772 3150 2772 3378 \nQ 2772 3750 2511 3984 \nQ 2250 4219 1831 4219 \nQ 1534 4219 1204 4116 \nQ 875 4013 500 3803 \nL 500 4441 \nQ 881 4594 1212 4672 \nQ 1544 4750 1819 4750 \nQ 2544 4750 2975 4387 \nQ 3406 4025 3406 3419 \nQ 3406 3131 3298 2873 \nQ 3191 2616 2906 2266 \nQ 2828 2175 2409 1742 \nQ 1991 1309 1228 531 \nz\n\" transform=\"scale(0.015625)\"/>\n       </defs>\n       <use xlink:href=\"#DejaVuSans-32\"/>\n       <use xlink:href=\"#DejaVuSans-30\" x=\"63.623047\"/>\n      </g>\n     </g>\n    </g>\n    <g id=\"ytick_4\">\n     <g id=\"line2d_27\">\n      <path d=\"M 48.77425 167.93515 \nL 449.67025 167.93515 \n\" clip-path=\"url(#pdf5f039587)\" style=\"fill: none; stroke: #cbcbcb\"/>\n     </g>\n     <g id=\"line2d_28\"/>\n     <g id=\"text_15\">\n      <!-- 30 -->\n      <g transform=\"translate(27.45925 173.254057) scale(0.14 -0.14)\">\n       <defs>\n        <path id=\"DejaVuSans-33\" d=\"M 2597 2516 \nQ 3050 2419 3304 2112 \nQ 3559 1806 3559 1356 \nQ 3559 666 3084 287 \nQ 2609 -91 1734 -91 \nQ 1441 -91 1130 -33 \nQ 819 25 488 141 \nL 488 750 \nQ 750 597 1062 519 \nQ 1375 441 1716 441 \nQ 2309 441 2620 675 \nQ 2931 909 2931 1356 \nQ 2931 1769 2642 2001 \nQ 2353 2234 1838 2234 \nL 1294 2234 \nL 1294 2753 \nL 1863 2753 \nQ 2328 2753 2575 2939 \nQ 2822 3125 2822 3475 \nQ 2822 3834 2567 4026 \nQ 2313 4219 1838 4219 \nQ 1578 4219 1281 4162 \nQ 984 4106 628 3988 \nL 628 4550 \nQ 988 4650 1302 4700 \nQ 1616 4750 1894 4750 \nQ 2613 4750 3031 4423 \nQ 3450 4097 3450 3541 \nQ 3450 3153 3228 2886 \nQ 3006 2619 2597 2516 \nz\n\" transform=\"scale(0.015625)\"/>\n       </defs>\n       <use xlink:href=\"#DejaVuSans-33\"/>\n       <use xlink:href=\"#DejaVuSans-30\" x=\"63.623047\"/>\n      </g>\n     </g>\n    </g>\n    <g id=\"ytick_5\">\n     <g id=\"line2d_29\">\n      <path d=\"M 48.77425 121.095384 \nL 449.67025 121.095384 \n\" clip-path=\"url(#pdf5f039587)\" style=\"fill: none; stroke: #cbcbcb\"/>\n     </g>\n     <g id=\"line2d_30\"/>\n     <g id=\"text_16\">\n      <!-- 40 -->\n      <g transform=\"translate(27.45925 126.41429) scale(0.14 -0.14)\">\n       <defs>\n        <path id=\"DejaVuSans-34\" d=\"M 2419 4116 \nL 825 1625 \nL 2419 1625 \nL 2419 4116 \nz\nM 2253 4666 \nL 3047 4666 \nL 3047 1625 \nL 3713 1625 \nL 3713 1100 \nL 3047 1100 \nL 3047 0 \nL 2419 0 \nL 2419 1100 \nL 313 1100 \nL 313 1709 \nL 2253 4666 \nz\n\" transform=\"scale(0.015625)\"/>\n       </defs>\n       <use xlink:href=\"#DejaVuSans-34\"/>\n       <use xlink:href=\"#DejaVuSans-30\" x=\"63.623047\"/>\n      </g>\n     </g>\n    </g>\n    <g id=\"ytick_6\">\n     <g id=\"line2d_31\">\n      <path d=\"M 48.77425 74.255617 \nL 449.67025 74.255617 \n\" clip-path=\"url(#pdf5f039587)\" style=\"fill: none; stroke: #cbcbcb\"/>\n     </g>\n     <g id=\"line2d_32\"/>\n     <g id=\"text_17\">\n      <!-- 50 -->\n      <g transform=\"translate(27.45925 79.574524) scale(0.14 -0.14)\">\n       <defs>\n        <path id=\"DejaVuSans-35\" d=\"M 691 4666 \nL 3169 4666 \nL 3169 4134 \nL 1269 4134 \nL 1269 2991 \nQ 1406 3038 1543 3061 \nQ 1681 3084 1819 3084 \nQ 2600 3084 3056 2656 \nQ 3513 2228 3513 1497 \nQ 3513 744 3044 326 \nQ 2575 -91 1722 -91 \nQ 1428 -91 1123 -41 \nQ 819 9 494 109 \nL 494 744 \nQ 775 591 1075 516 \nQ 1375 441 1709 441 \nQ 2250 441 2565 725 \nQ 2881 1009 2881 1497 \nQ 2881 1984 2565 2268 \nQ 2250 2553 1709 2553 \nQ 1456 2553 1204 2497 \nQ 953 2441 691 2322 \nL 691 4666 \nz\n\" transform=\"scale(0.015625)\"/>\n       </defs>\n       <use xlink:href=\"#DejaVuSans-35\"/>\n       <use xlink:href=\"#DejaVuSans-30\" x=\"63.623047\"/>\n      </g>\n     </g>\n    </g>\n    <g id=\"text_18\">\n     <!-- % of total cap -->\n     <g transform=\"translate(19.965375 226.879575) rotate(-90) scale(0.168 -0.168)\">\n      <defs>\n       <path id=\"DejaVuSans-25\" d=\"M 4653 2053 \nQ 4381 2053 4226 1822 \nQ 4072 1591 4072 1178 \nQ 4072 772 4226 539 \nQ 4381 306 4653 306 \nQ 4919 306 5073 539 \nQ 5228 772 5228 1178 \nQ 5228 1588 5073 1820 \nQ 4919 2053 4653 2053 \nz\nM 4653 2450 \nQ 5147 2450 5437 2106 \nQ 5728 1763 5728 1178 \nQ 5728 594 5436 251 \nQ 5144 -91 4653 -91 \nQ 4153 -91 3862 251 \nQ 3572 594 3572 1178 \nQ 3572 1766 3864 2108 \nQ 4156 2450 4653 2450 \nz\nM 1428 4353 \nQ 1159 4353 1004 4120 \nQ 850 3888 850 3481 \nQ 850 3069 1003 2837 \nQ 1156 2606 1428 2606 \nQ 1700 2606 1854 2837 \nQ 2009 3069 2009 3481 \nQ 2009 3884 1853 4118 \nQ 1697 4353 1428 4353 \nz\nM 4250 4750 \nL 4750 4750 \nL 1831 -91 \nL 1331 -91 \nL 4250 4750 \nz\nM 1428 4750 \nQ 1922 4750 2215 4408 \nQ 2509 4066 2509 3481 \nQ 2509 2891 2217 2550 \nQ 1925 2209 1428 2209 \nQ 931 2209 642 2551 \nQ 353 2894 353 3481 \nQ 353 4063 643 4406 \nQ 934 4750 1428 4750 \nz\n\" transform=\"scale(0.015625)\"/>\n       <path id=\"DejaVuSans-20\" transform=\"scale(0.015625)\"/>\n       <path id=\"DejaVuSans-66\" d=\"M 2375 4863 \nL 2375 4384 \nL 1825 4384 \nQ 1516 4384 1395 4259 \nQ 1275 4134 1275 3809 \nL 1275 3500 \nL 2222 3500 \nL 2222 3053 \nL 1275 3053 \nL 1275 0 \nL 697 0 \nL 697 3053 \nL 147 3053 \nL 147 3500 \nL 697 3500 \nL 697 3744 \nQ 697 4328 969 4595 \nQ 1241 4863 1831 4863 \nL 2375 4863 \nz\n\" transform=\"scale(0.015625)\"/>\n      </defs>\n      <use xlink:href=\"#DejaVuSans-25\"/>\n      <use xlink:href=\"#DejaVuSans-20\" x=\"95.019531\"/>\n      <use xlink:href=\"#DejaVuSans-6f\" x=\"126.806641\"/>\n      <use xlink:href=\"#DejaVuSans-66\" x=\"187.988281\"/>\n      <use xlink:href=\"#DejaVuSans-20\" x=\"223.193359\"/>\n      <use xlink:href=\"#DejaVuSans-74\" x=\"254.980469\"/>\n      <use xlink:href=\"#DejaVuSans-6f\" x=\"294.189453\"/>\n      <use xlink:href=\"#DejaVuSans-74\" x=\"355.371094\"/>\n      <use xlink:href=\"#DejaVuSans-61\" x=\"394.580078\"/>\n      <use xlink:href=\"#DejaVuSans-6c\" x=\"455.859375\"/>\n      <use xlink:href=\"#DejaVuSans-20\" x=\"483.642578\"/>\n      <use xlink:href=\"#DejaVuSans-63\" x=\"515.429688\"/>\n      <use xlink:href=\"#DejaVuSans-61\" x=\"570.410156\"/>\n      <use xlink:href=\"#DejaVuSans-70\" x=\"631.689453\"/>\n     </g>\n    </g>\n   </g>\n   <g id=\"patch_3\">\n    <path d=\"M 58.79665 308.45445 \nL 78.84145 308.45445 \nL 78.84145 41.848736 \nL 58.79665 41.848736 \nz\n\" clip-path=\"url(#pdf5f039587)\" style=\"fill: #008fd5\"/>\n   </g>\n   <g id=\"patch_4\">\n    <path d=\"M 98.88625 308.45445 \nL 118.93105 308.45445 \nL 118.93105 253.982567 \nL 98.88625 253.982567 \nz\n\" clip-path=\"url(#pdf5f039587)\" style=\"fill: #008fd5\"/>\n   </g>\n   <g id=\"patch_5\">\n    <path d=\"M 138.97585 308.45445 \nL 159.02065 308.45445 \nL 159.02065 276.799723 \nL 138.97585 276.799723 \nz\n\" clip-path=\"url(#pdf5f039587)\" style=\"fill: #008fd5\"/>\n   </g>\n   <g id=\"patch_6\">\n    <path d=\"M 179.06545 308.45445 \nL 199.11025 308.45445 \nL 199.11025 289.993783 \nL 179.06545 289.993783 \nz\n\" clip-path=\"url(#pdf5f039587)\" style=\"fill: #008fd5\"/>\n   </g>\n   <g id=\"patch_7\">\n    <path d=\"M 219.15505 308.45445 \nL 239.19985 308.45445 \nL 239.19985 296.734846 \nL 219.15505 296.734846 \nz\n\" clip-path=\"url(#pdf5f039587)\" style=\"fill: #008fd5\"/>\n   </g>\n   <g id=\"patch_8\">\n    <path d=\"M 259.24465 308.45445 \nL 279.28945 308.45445 \nL 279.28945 301.203859 \nL 259.24465 301.203859 \nz\n\" clip-path=\"url(#pdf5f039587)\" style=\"fill: #008fd5\"/>\n   </g>\n   <g id=\"patch_9\">\n    <path d=\"M 299.33425 308.45445 \nL 319.37905 308.45445 \nL 319.37905 301.403552 \nL 299.33425 301.403552 \nz\n\" clip-path=\"url(#pdf5f039587)\" style=\"fill: #008fd5\"/>\n   </g>\n   <g id=\"patch_10\">\n    <path d=\"M 339.42385 308.45445 \nL 359.46865 308.45445 \nL 359.46865 302.297578 \nL 339.42385 302.297578 \nz\n\" clip-path=\"url(#pdf5f039587)\" style=\"fill: #008fd5\"/>\n   </g>\n   <g id=\"patch_11\">\n    <path d=\"M 379.51345 308.45445 \nL 399.55825 308.45445 \nL 399.55825 303.033862 \nL 379.51345 303.033862 \nz\n\" clip-path=\"url(#pdf5f039587)\" style=\"fill: #008fd5\"/>\n   </g>\n   <g id=\"patch_12\">\n    <path d=\"M 419.60305 308.45445 \nL 439.64785 308.45445 \nL 439.64785 304.410715 \nL 419.60305 304.410715 \nz\n\" clip-path=\"url(#pdf5f039587)\" style=\"fill: #008fd5\"/>\n   </g>\n   <g id=\"patch_13\">\n    <path d=\"M 48.77425 308.45445 \nL 48.77425 28.51845 \n\" style=\"fill: none; stroke: #f0f0f0; stroke-width: 3; stroke-linejoin: miter; stroke-linecap: square\"/>\n   </g>\n   <g id=\"patch_14\">\n    <path d=\"M 449.67025 308.45445 \nL 449.67025 28.51845 \n\" style=\"fill: none; stroke: #f0f0f0; stroke-width: 3; stroke-linejoin: miter; stroke-linecap: square\"/>\n   </g>\n   <g id=\"patch_15\">\n    <path d=\"M 48.77425 308.45445 \nL 449.67025 308.45445 \n\" style=\"fill: none; stroke: #f0f0f0; stroke-width: 3; stroke-linejoin: miter; stroke-linecap: square\"/>\n   </g>\n   <g id=\"patch_16\">\n    <path d=\"M 48.77425 28.51845 \nL 449.67025 28.51845 \n\" style=\"fill: none; stroke: #f0f0f0; stroke-width: 3; stroke-linejoin: miter; stroke-linecap: square\"/>\n   </g>\n   <g id=\"text_19\">\n    <!-- Top 10 market capitalization -->\n    <g transform=\"translate(106.585525 22.51845) scale(0.2016 -0.2016)\">\n     <defs>\n      <path id=\"DejaVuSans-54\" d=\"M -19 4666 \nL 3928 4666 \nL 3928 4134 \nL 2272 4134 \nL 2272 0 \nL 1638 0 \nL 1638 4134 \nL -19 4134 \nL -19 4666 \nz\n\" transform=\"scale(0.015625)\"/>\n      <path id=\"DejaVuSans-6b\" d=\"M 581 4863 \nL 1159 4863 \nL 1159 1991 \nL 2875 3500 \nL 3609 3500 \nL 1753 1863 \nL 3688 0 \nL 2938 0 \nL 1159 1709 \nL 1159 0 \nL 581 0 \nL 581 4863 \nz\n\" transform=\"scale(0.015625)\"/>\n      <path id=\"DejaVuSans-7a\" d=\"M 353 3500 \nL 3084 3500 \nL 3084 2975 \nL 922 459 \nL 3084 459 \nL 3084 0 \nL 275 0 \nL 275 525 \nL 2438 3041 \nL 353 3041 \nL 353 3500 \nz\n\" transform=\"scale(0.015625)\"/>\n     </defs>\n     <use xlink:href=\"#DejaVuSans-54\"/>\n     <use xlink:href=\"#DejaVuSans-6f\" x=\"44.083984\"/>\n     <use xlink:href=\"#DejaVuSans-70\" x=\"105.265625\"/>\n     <use xlink:href=\"#DejaVuSans-20\" x=\"168.742188\"/>\n     <use xlink:href=\"#DejaVuSans-31\" x=\"200.529297\"/>\n     <use xlink:href=\"#DejaVuSans-30\" x=\"264.152344\"/>\n     <use xlink:href=\"#DejaVuSans-20\" x=\"327.775391\"/>\n     <use xlink:href=\"#DejaVuSans-6d\" x=\"359.5625\"/>\n     <use xlink:href=\"#DejaVuSans-61\" x=\"456.974609\"/>\n     <use xlink:href=\"#DejaVuSans-72\" x=\"518.253906\"/>\n     <use xlink:href=\"#DejaVuSans-6b\" x=\"559.367188\"/>\n     <use xlink:href=\"#DejaVuSans-65\" x=\"613.652344\"/>\n     <use xlink:href=\"#DejaVuSans-74\" x=\"675.175781\"/>\n     <use xlink:href=\"#DejaVuSans-20\" x=\"714.384766\"/>\n     <use xlink:href=\"#DejaVuSans-63\" x=\"746.171875\"/>\n     <use xlink:href=\"#DejaVuSans-61\" x=\"801.152344\"/>\n     <use xlink:href=\"#DejaVuSans-70\" x=\"862.431641\"/>\n     <use xlink:href=\"#DejaVuSans-69\" x=\"925.908203\"/>\n     <use xlink:href=\"#DejaVuSans-74\" x=\"953.691406\"/>\n     <use xlink:href=\"#DejaVuSans-61\" x=\"992.900391\"/>\n     <use xlink:href=\"#DejaVuSans-6c\" x=\"1054.179688\"/>\n     <use xlink:href=\"#DejaVuSans-69\" x=\"1081.962891\"/>\n     <use xlink:href=\"#DejaVuSans-7a\" x=\"1109.746094\"/>\n     <use xlink:href=\"#DejaVuSans-61\" x=\"1162.236328\"/>\n     <use xlink:href=\"#DejaVuSans-74\" x=\"1223.515625\"/>\n     <use xlink:href=\"#DejaVuSans-69\" x=\"1262.724609\"/>\n     <use xlink:href=\"#DejaVuSans-6f\" x=\"1290.507812\"/>\n     <use xlink:href=\"#DejaVuSans-6e\" x=\"1351.689453\"/>\n    </g>\n   </g>\n   <g id=\"legend_1\">\n    <g id=\"patch_17\">\n     <path d=\"M 275.591187 60.6572 \nL 439.87025 60.6572 \nQ 442.67025 60.6572 442.67025 57.8572 \nL 442.67025 38.31845 \nQ 442.67025 35.51845 439.87025 35.51845 \nL 275.591187 35.51845 \nQ 272.791187 35.51845 272.791187 38.31845 \nL 272.791187 57.8572 \nQ 272.791187 60.6572 275.591187 60.6572 \nz\n\" style=\"fill: #f0f0f0; opacity: 0.8; stroke: #cccccc; stroke-width: 0.5; stroke-linejoin: miter\"/>\n    </g>\n    <g id=\"patch_18\">\n     <path d=\"M 278.391188 51.756262 \nL 306.391188 51.756262 \nL 306.391188 41.956262 \nL 278.391188 41.956262 \nz\n\" style=\"fill: #008fd5\"/>\n    </g>\n    <g id=\"text_20\">\n     <!-- market_cap_perc -->\n     <g transform=\"translate(317.591187 51.756262) scale(0.14 -0.14)\">\n      <defs>\n       <path id=\"DejaVuSans-5f\" d=\"M 3263 -1063 \nL 3263 -1509 \nL -63 -1509 \nL -63 -1063 \nL 3263 -1063 \nz\n\" transform=\"scale(0.015625)\"/>\n      </defs>\n      <use xlink:href=\"#DejaVuSans-6d\"/>\n      <use xlink:href=\"#DejaVuSans-61\" x=\"97.412109\"/>\n      <use xlink:href=\"#DejaVuSans-72\" x=\"158.691406\"/>\n      <use xlink:href=\"#DejaVuSans-6b\" x=\"199.804688\"/>\n      <use xlink:href=\"#DejaVuSans-65\" x=\"254.089844\"/>\n      <use xlink:href=\"#DejaVuSans-74\" x=\"315.613281\"/>\n      <use xlink:href=\"#DejaVuSans-5f\" x=\"354.822266\"/>\n      <use xlink:href=\"#DejaVuSans-63\" x=\"404.822266\"/>\n      <use xlink:href=\"#DejaVuSans-61\" x=\"459.802734\"/>\n      <use xlink:href=\"#DejaVuSans-70\" x=\"521.082031\"/>\n      <use xlink:href=\"#DejaVuSans-5f\" x=\"584.558594\"/>\n      <use xlink:href=\"#DejaVuSans-70\" x=\"634.558594\"/>\n      <use xlink:href=\"#DejaVuSans-65\" x=\"698.035156\"/>\n      <use xlink:href=\"#DejaVuSans-72\" x=\"759.558594\"/>\n      <use xlink:href=\"#DejaVuSans-63\" x=\"798.421875\"/>\n     </g>\n    </g>\n   </g>\n  </g>\n </g>\n <defs>\n  <clipPath id=\"pdf5f039587\">\n   <rect x=\"48.77425\" y=\"28.51845\" width=\"400.896\" height=\"279.936\"/>\n  </clipPath>\n </defs>\n</svg>\n"
          },
          "metadata": {}
        }
      ]
    },
    {
      "cell_type": "markdown",
      "source": [],
      "metadata": {
        "id": "P6C-mHBgbVRI"
      }
    }
  ]
}
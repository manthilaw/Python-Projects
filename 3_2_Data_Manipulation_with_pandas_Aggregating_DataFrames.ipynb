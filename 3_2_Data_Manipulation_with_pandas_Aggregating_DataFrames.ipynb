{
  "nbformat": 4,
  "nbformat_minor": 0,
  "metadata": {
    "colab": {
      "provenance": [],
      "authorship_tag": "ABX9TyOXMg1p+aknMpRcKCekcI2R",
      "include_colab_link": true
    },
    "kernelspec": {
      "name": "python3",
      "display_name": "Python 3"
    },
    "language_info": {
      "name": "python"
    }
  },
  "cells": [
    {
      "cell_type": "markdown",
      "metadata": {
        "id": "view-in-github",
        "colab_type": "text"
      },
      "source": [
        "<a href=\"https://colab.research.google.com/github/manthilaw/Python-Projects/blob/main/3_2_Data_Manipulation_with_pandas_Aggregating_DataFrames.ipynb\" target=\"_parent\"><img src=\"https://colab.research.google.com/assets/colab-badge.svg\" alt=\"Open In Colab\"/></a>"
      ]
    },
    {
      "cell_type": "markdown",
      "source": [
        "# 3.2 Aggregating DataFrames\n",
        "\n",
        "In this chapter, you’ll calculate summary statistics on DataFrame columns, and master grouped summary statistics and pivot tables.\n"
      ],
      "metadata": {
        "id": "mvISkcsWSrGa"
      }
    },
    {
      "cell_type": "code",
      "source": [
        "# Mount Google Drive to Collaboratory\n",
        "\n",
        "from google.colab import drive\n",
        "drive.mount('/content/gdrive')\n",
        "\n",
        "\n",
        "# Mount Google Drive to Collaboratory\n",
        "\n",
        "path = ('/content/gdrive/MyDrive/DataCamp CSV/3.Data Manipulations with Pandas/sales_subset.csv')\n",
        "\n",
        "# Import Pandas\n",
        "\n",
        "import pandas as pd\n",
        "\n",
        "# Read CSV file\n",
        "\n",
        "sales = pd.read_csv(path)"
      ],
      "metadata": {
        "id": "EC4Yysy9aFVh",
        "colab": {
          "base_uri": "https://localhost:8080/"
        },
        "outputId": "a2b46d16-d2f7-4825-dde4-b5ce4a94f3ed"
      },
      "execution_count": 36,
      "outputs": [
        {
          "output_type": "stream",
          "name": "stdout",
          "text": [
            "Drive already mounted at /content/gdrive; to attempt to forcibly remount, call drive.mount(\"/content/gdrive\", force_remount=True).\n"
          ]
        }
      ]
    },
    {
      "cell_type": "markdown",
      "source": [
        "## 3.2.1 Mean and median\n",
        "\n",
        "Summary statistics are exactly what they sound like - they summarize many numbers in one statistic. For example, mean, median, minimum, maximum, and standard deviation are summary statistics. Calculating summary statistics allows you to get a better sense of your data, even if there's a lot of it.\n",
        "\n",
        "sales is available and pandas is loaded as pd.\n"
      ],
      "metadata": {
        "id": "-AHCY4zJZI72"
      }
    },
    {
      "cell_type": "markdown",
      "source": [
        "* Explore your new DataFrame first by printing the first few rows of the sales DataFrame.\n",
        "* Print information about the columns in sales.\n",
        "* Print the mean of the weekly_sales column.\n",
        "* Print the median of the weekly_sales column."
      ],
      "metadata": {
        "id": "_qopodmcbyie"
      }
    },
    {
      "cell_type": "code",
      "source": [
        "# Print the head of the sales DataFrame\n",
        "print(sales.head())"
      ],
      "metadata": {
        "id": "j3Z1JADocJ_U",
        "colab": {
          "base_uri": "https://localhost:8080/"
        },
        "outputId": "287a6968-a21c-4b51-f9d0-f732158d8e33"
      },
      "execution_count": 37,
      "outputs": [
        {
          "output_type": "stream",
          "name": "stdout",
          "text": [
            "   Unnamed: 0  store type  department        date  weekly_sales  is_holiday  \\\n",
            "0           0      1    A           1  2010-02-05      24924.50       False   \n",
            "1           1      1    A           1  2010-03-05      21827.90       False   \n",
            "2           2      1    A           1  2010-04-02      57258.43       False   \n",
            "3           3      1    A           1  2010-05-07      17413.94       False   \n",
            "4           4      1    A           1  2010-06-04      17558.09       False   \n",
            "\n",
            "   temperature_c  fuel_price_usd_per_l  unemployment  \n",
            "0       5.727778              0.679451         8.106  \n",
            "1       8.055556              0.693452         8.106  \n",
            "2      16.816667              0.718284         7.808  \n",
            "3      22.527778              0.748928         7.808  \n",
            "4      27.050000              0.714586         7.808  \n"
          ]
        }
      ]
    },
    {
      "cell_type": "code",
      "source": [
        "# Print the info about the sales DataFrame\n",
        "print(sales.info())"
      ],
      "metadata": {
        "id": "yzFk12Fuc4I0",
        "colab": {
          "base_uri": "https://localhost:8080/"
        },
        "outputId": "137a8498-96a7-4e02-ab92-bba69e1cbb5a"
      },
      "execution_count": 38,
      "outputs": [
        {
          "output_type": "stream",
          "name": "stdout",
          "text": [
            "<class 'pandas.core.frame.DataFrame'>\n",
            "RangeIndex: 10774 entries, 0 to 10773\n",
            "Data columns (total 10 columns):\n",
            " #   Column                Non-Null Count  Dtype  \n",
            "---  ------                --------------  -----  \n",
            " 0   Unnamed: 0            10774 non-null  int64  \n",
            " 1   store                 10774 non-null  int64  \n",
            " 2   type                  10774 non-null  object \n",
            " 3   department            10774 non-null  int64  \n",
            " 4   date                  10774 non-null  object \n",
            " 5   weekly_sales          10774 non-null  float64\n",
            " 6   is_holiday            10774 non-null  bool   \n",
            " 7   temperature_c         10774 non-null  float64\n",
            " 8   fuel_price_usd_per_l  10774 non-null  float64\n",
            " 9   unemployment          10774 non-null  float64\n",
            "dtypes: bool(1), float64(4), int64(3), object(2)\n",
            "memory usage: 768.2+ KB\n",
            "None\n"
          ]
        }
      ]
    },
    {
      "cell_type": "code",
      "source": [
        "# Print the mean of weekly_sales\n",
        "print(sales[\"weekly_sales\"].mean())\n"
      ],
      "metadata": {
        "id": "IKSl97bgc6ow",
        "colab": {
          "base_uri": "https://localhost:8080/"
        },
        "outputId": "23074977-1515-45c2-b7f2-109481a2abf6"
      },
      "execution_count": 39,
      "outputs": [
        {
          "output_type": "stream",
          "name": "stdout",
          "text": [
            "23843.95014850566\n"
          ]
        }
      ]
    },
    {
      "cell_type": "code",
      "source": [
        "# Print the median of weekly_sales\n",
        "print(sales[\"weekly_sales\"].median())"
      ],
      "metadata": {
        "id": "aDI9fNJMc_5T",
        "colab": {
          "base_uri": "https://localhost:8080/"
        },
        "outputId": "0cc8c9dd-7bd3-4b22-da62-8ebff81d3776"
      },
      "execution_count": 40,
      "outputs": [
        {
          "output_type": "stream",
          "name": "stdout",
          "text": [
            "12049.064999999999\n"
          ]
        }
      ]
    },
    {
      "cell_type": "markdown",
      "source": [
        "## 3.2.2 Summarizing dates\n",
        "\n",
        "Summary statistics can also be calculated on date columns that have values with the data type datetime64. Some summary statistics — like mean — don't make a ton of sense on dates, but others are super helpful, for example, minimum and maximum, which allow you to see what time range your data covers.\n",
        "\n",
        "sales is available and pandas is loaded as pd."
      ],
      "metadata": {
        "id": "IOCI9bGeOany"
      }
    },
    {
      "cell_type": "markdown",
      "source": [
        "* Print the maximum of the date column.\n",
        "* Print the minimum of the date column."
      ],
      "metadata": {
        "id": "mhoyHOAwOoxC"
      }
    },
    {
      "cell_type": "code",
      "source": [
        "# Print the maximum of the date column\n",
        "\n",
        "print(sales['date'].max())"
      ],
      "metadata": {
        "id": "LJIX7bxGOhKp",
        "colab": {
          "base_uri": "https://localhost:8080/"
        },
        "outputId": "56f3d9db-b1de-49ac-fef4-57f35d61bc23"
      },
      "execution_count": 41,
      "outputs": [
        {
          "output_type": "stream",
          "name": "stdout",
          "text": [
            "2012-10-26\n"
          ]
        }
      ]
    },
    {
      "cell_type": "code",
      "source": [
        "# Print the minimum of the date column\n",
        "print(sales['date'].min())"
      ],
      "metadata": {
        "id": "VdlHF5S-PA2z",
        "colab": {
          "base_uri": "https://localhost:8080/"
        },
        "outputId": "cebd4f31-a77c-416a-ec1c-f5812ef9a01c"
      },
      "execution_count": 42,
      "outputs": [
        {
          "output_type": "stream",
          "name": "stdout",
          "text": [
            "2010-02-05\n"
          ]
        }
      ]
    },
    {
      "cell_type": "markdown",
      "source": [
        "## 3.2.3 Efficient summaries\n",
        "\n",
        "While pandas and NumPy have tons of functions, sometimes, you may need a different function to summarize your data.\n",
        "\n",
        "The .agg() method allows you to apply your own custom functions to a DataFrame, as well as apply functions to more than one column of a DataFrame at once, making your aggregations super-efficient. For example,\n",
        "\n",
        "df['column'].agg(function)\n",
        "In the custom function for this exercise, \"IQR\" is short for inter-quartile range, which is the 75th percentile minus the 25th percentile. It's an alternative to standard deviation that is helpful if your data contains outliers.\n",
        "\n",
        "sales is available and pandas is loaded as pd."
      ],
      "metadata": {
        "id": "M3xBFp_nPLzB"
      }
    },
    {
      "cell_type": "markdown",
      "source": [
        "* Use the custom iqr function defined for you along with .agg() to print the IQR of the temperature_c column of sales.\n",
        "* Update the column selection to use the custom iqr function with .agg() to print the IQR of temperature_c, fuel_price_usd_per_l, and unemployment, in that order.\n",
        "* Update the aggregation functions called by .agg(): include iqr and np.median in that order."
      ],
      "metadata": {
        "id": "ynFyymeFQBKk"
      }
    },
    {
      "cell_type": "code",
      "source": [
        "# A custom IQR function\n",
        "\n",
        "def iqr(column):\n",
        "  return column.quantile(0.75) - column.quantile(0.25)\n",
        "\n",
        "# Print IQR of the temperature_c column\n",
        "print(sales['temperature_c'].agg(iqr))\n",
        "\n"
      ],
      "metadata": {
        "id": "Z4b10yxnP6g0",
        "colab": {
          "base_uri": "https://localhost:8080/"
        },
        "outputId": "df8698de-53e9-4228-91f2-8eccfc008064"
      },
      "execution_count": 43,
      "outputs": [
        {
          "output_type": "stream",
          "name": "stdout",
          "text": [
            "16.583333333333336\n"
          ]
        }
      ]
    },
    {
      "cell_type": "code",
      "source": [
        "# A custom IQR function\n",
        "def iqr(column):\n",
        "  return column.quantile(0.75) - column.quantile(0.25)\n",
        "\n",
        "# Update to print IQR of temperature_c, fuel_price_usd_per_l, & unemployment\n",
        "print(sales[['temperature_c','fuel_price_usd_per_l','unemployment']].agg(iqr))\n"
      ],
      "metadata": {
        "id": "Z3pEG3vkU8YX",
        "colab": {
          "base_uri": "https://localhost:8080/"
        },
        "outputId": "fd126098-c57a-492b-f65e-66dda6c63f83"
      },
      "execution_count": 44,
      "outputs": [
        {
          "output_type": "stream",
          "name": "stdout",
          "text": [
            "temperature_c           16.583333\n",
            "fuel_price_usd_per_l     0.073176\n",
            "unemployment             0.565000\n",
            "dtype: float64\n"
          ]
        }
      ]
    },
    {
      "cell_type": "code",
      "source": [
        "# Import NumPy and create custom IQR function\n",
        "import numpy as np\n",
        "\n",
        "def iqr(column):\n",
        "  return column.quantile(0.75) - column.quantile(0.25)\n",
        "\n",
        "# Update to print IQR and median of temperature_c, fuel_price_usd_per_l, & unemployment\n",
        "print(sales[['temperature_c','fuel_price_usd_per_l','unemployment']].agg([iqr,np.median]))"
      ],
      "metadata": {
        "id": "DA2nOUy6WY8c",
        "colab": {
          "base_uri": "https://localhost:8080/"
        },
        "outputId": "0685f036-bbec-4bcd-e276-f83ef3f30572"
      },
      "execution_count": 45,
      "outputs": [
        {
          "output_type": "stream",
          "name": "stdout",
          "text": [
            "        temperature_c  fuel_price_usd_per_l  unemployment\n",
            "iqr         16.583333              0.073176         0.565\n",
            "median      16.966667              0.743381         8.099\n"
          ]
        }
      ]
    },
    {
      "cell_type": "markdown",
      "source": [
        "# 3.2.4 Cumulative statistics\n",
        "Cumulative statistics can also be helpful in tracking summary statistics over time. In this exercise, you'll calculate the cumulative sum and cumulative max of a department's weekly sales, which will allow you to identify what the total sales were so far as well as what the highest weekly sales were so far.\n",
        "\n",
        "A DataFrame called sales_1_1 has been created for you, which contains the sales data for department 1 of store 1. pandas is loaded as pd."
      ],
      "metadata": {
        "id": "Dq2GIdseLnjr"
      }
    },
    {
      "cell_type": "markdown",
      "source": [
        "* Sort the rows of sales_1_1 by the date column in ascending order.\n",
        "* Get the cumulative sum of weekly_sales and add it as a new column of sales_1_1 called cum_weekly_sales.\n",
        "* Get the cumulative maximum of weekly_sales, and add it as a column called cum_max_sales.\n",
        "* Print the date, weekly_sales, cum_weekly_sales, and cum_max_sales columns."
      ],
      "metadata": {
        "id": "P2jYnuMdLt4Y"
      }
    },
    {
      "cell_type": "code",
      "source": [
        "# Sort sales_1_1 by date\n",
        "\n",
        "sales_1_1 = sales.sort_values('date')\n"
      ],
      "metadata": {
        "id": "RtJFzl4bL2DB"
      },
      "execution_count": 46,
      "outputs": []
    },
    {
      "cell_type": "code",
      "source": [
        "# Get the cumulative sum of weekly_sales, add as cum_weekly_sales col\n",
        "sales_1_1['cum_weekly_sales'] = sales_1_1['weekly_sales'].cumsum()\n"
      ],
      "metadata": {
        "id": "pPFZXkzjMP3P"
      },
      "execution_count": 47,
      "outputs": []
    },
    {
      "cell_type": "code",
      "source": [
        "# Get the cumulative max of weekly_sales, add as cum_max_sales col\n",
        "sales_1_1['cum_max_sales'] = sales_1_1['weekly_sales'].cummax()"
      ],
      "metadata": {
        "id": "a2G_eNP9NIo2"
      },
      "execution_count": 48,
      "outputs": []
    },
    {
      "cell_type": "code",
      "source": [
        "# See the columns you calculated\n",
        "print(sales_1_1[['date','weekly_sales','cum_weekly_sales','cum_max_sales']])"
      ],
      "metadata": {
        "id": "npUnuAahNj17",
        "colab": {
          "base_uri": "https://localhost:8080/"
        },
        "outputId": "a08791e4-b838-48cc-bbb4-e75384d7dddc"
      },
      "execution_count": 49,
      "outputs": [
        {
          "output_type": "stream",
          "name": "stdout",
          "text": [
            "             date  weekly_sales  cum_weekly_sales  cum_max_sales\n",
            "0      2010-02-05      24924.50      2.492450e+04       24924.50\n",
            "6437   2010-02-05      38597.52      6.352202e+04       38597.52\n",
            "1249   2010-02-05       3840.21      6.736223e+04       38597.52\n",
            "6449   2010-02-05      17590.59      8.495282e+04       38597.52\n",
            "6461   2010-02-05       4929.87      8.988269e+04       38597.52\n",
            "...           ...           ...               ...            ...\n",
            "3592   2012-10-05        440.00      2.568932e+08      293966.05\n",
            "8108   2012-10-05        660.00      2.568938e+08      293966.05\n",
            "10773  2012-10-05        915.00      2.568947e+08      293966.05\n",
            "6257   2012-10-12          3.00      2.568947e+08      293966.05\n",
            "3384   2012-10-26        -21.63      2.568947e+08      293966.05\n",
            "\n",
            "[10774 rows x 4 columns]\n"
          ]
        }
      ]
    },
    {
      "cell_type": "markdown",
      "source": [
        "# 3.2.5 Dropping duplicates\n",
        "Removing duplicates is an essential skill to get accurate counts because often, you don't want to count the same thing multiple times. In this exercise, you'll create some new DataFrames using unique values from sales.\n",
        "\n",
        "sales is available and pandas is imported as pd."
      ],
      "metadata": {
        "id": "0FoDqrk0Phko"
      }
    },
    {
      "cell_type": "markdown",
      "source": [
        "* Remove rows of sales with duplicate pairs of store and type and save as store_types and print the head.\n",
        "* Remove rows of sales with duplicate pairs of store and department and save as store_depts and print the head.\n",
        "* Subset the rows that are holiday weeks using the is_holiday column, and drop the duplicate dates, saving as holiday_dates.\n",
        "* Select the date column of holiday_dates, and print."
      ],
      "metadata": {
        "id": "LiLX7ct4PsnM"
      }
    },
    {
      "cell_type": "code",
      "source": [
        "# Drop duplicate store/type combinations\n",
        "store_types = sales.drop_duplicates(subset=['store','type'])\n",
        "print(store_types.head())\n"
      ],
      "metadata": {
        "id": "nnYGWgLHQ5Ry",
        "colab": {
          "base_uri": "https://localhost:8080/"
        },
        "outputId": "756c6203-88f4-4d91-8e57-be091739e01c"
      },
      "execution_count": 50,
      "outputs": [
        {
          "output_type": "stream",
          "name": "stdout",
          "text": [
            "      Unnamed: 0  store type  department        date  weekly_sales  \\\n",
            "0              0      1    A           1  2010-02-05      24924.50   \n",
            "901          901      2    A           1  2010-02-05      35034.06   \n",
            "1798        1798      4    A           1  2010-02-05      38724.42   \n",
            "2699        2699      6    A           1  2010-02-05      25619.00   \n",
            "3593        3593     10    B           1  2010-02-05      40212.84   \n",
            "\n",
            "      is_holiday  temperature_c  fuel_price_usd_per_l  unemployment  \n",
            "0          False       5.727778              0.679451         8.106  \n",
            "901        False       4.550000              0.679451         8.324  \n",
            "1798       False       6.533333              0.686319         8.623  \n",
            "2699       False       4.683333              0.679451         7.259  \n",
            "3593       False      12.411111              0.782478         9.765  \n"
          ]
        }
      ]
    },
    {
      "cell_type": "code",
      "source": [
        "# Drop duplicate store/department combinations\n",
        "store_depts = sales.drop_duplicates(subset = ['store','department'])"
      ],
      "metadata": {
        "id": "xcAJC5U1Tn6q"
      },
      "execution_count": 51,
      "outputs": []
    },
    {
      "cell_type": "code",
      "source": [
        "# Subset the rows where is_holiday is True and drop duplicate dates\n",
        "holiday_dates = sales[sales['is_holiday']].drop_duplicates(subset = ['date'])\n",
        "\n",
        "# Print date col of holiday_dates\n",
        "print(holiday_dates)"
      ],
      "metadata": {
        "id": "_memvzWrJ-PP",
        "colab": {
          "base_uri": "https://localhost:8080/"
        },
        "outputId": "05e93c01-44a3-4eec-e885-7594bc7fc56e"
      },
      "execution_count": 52,
      "outputs": [
        {
          "output_type": "stream",
          "name": "stdout",
          "text": [
            "      Unnamed: 0  store type  department        date  weekly_sales  \\\n",
            "498          498      1    A          45  2010-09-10         11.47   \n",
            "691          691      1    A          77  2011-11-25       1431.00   \n",
            "2315        2315      4    A          47  2010-02-12        498.00   \n",
            "6735        6735     19    A          39  2012-09-07         13.41   \n",
            "6810        6810     19    A          47  2010-12-31       -449.00   \n",
            "6815        6815     19    A          47  2012-02-10         15.00   \n",
            "6820        6820     19    A          48  2011-09-09        197.00   \n",
            "\n",
            "      is_holiday  temperature_c  fuel_price_usd_per_l  unemployment  \n",
            "498         True      25.938889              0.677602         7.787  \n",
            "691         True      15.633333              0.854861         7.866  \n",
            "2315        True      -1.755556              0.679715         8.623  \n",
            "6735        True      22.333333              1.076766         8.193  \n",
            "6810        True      -1.861111              0.881278         8.067  \n",
            "6815        True       0.338889              1.010723         7.943  \n",
            "6820        True      20.155556              1.038197         7.806  \n"
          ]
        }
      ]
    },
    {
      "cell_type": "markdown",
      "source": [
        "## 3.2.6 Counting categorical variables\n",
        "\n",
        "Counting is a great way to get an overview of your data and to spot curiosities that you might not notice otherwise. In this exercise, you'll count the number of each type of store and the number of each department number using the DataFrames you created in the previous exercise:\n",
        "\n",
        " #Drop duplicate store/type combinations\n",
        "\n",
        "store_types = sales.drop_duplicates(subset=[\"store\", \"type\"])\n",
        "\n",
        " #Drop duplicate store/department combinations\n",
        "\n",
        "store_depts = sales.drop_duplicates(subset=[\"store\", \"department\"])\n",
        "\n",
        "The store_types and store_depts DataFrames you created in the last exercise are available, and pandas is imported as pd."
      ],
      "metadata": {
        "id": "FPY82QawLO5W"
      }
    },
    {
      "cell_type": "markdown",
      "source": [
        "* Count the number of stores of each store type in store_types.\n",
        "* Count the proportion of stores of each store type in store_types.\n",
        "* Count the number of different departments in store_depts, sorting the counts in descending order.\n",
        "* Count the proportion of different departments in store_depts, sorting the proportions in descending order."
      ],
      "metadata": {
        "id": "TBin2rDfLra2"
      }
    },
    {
      "cell_type": "markdown",
      "source": [],
      "metadata": {
        "id": "4HY6iqsTNK05"
      }
    },
    {
      "cell_type": "code",
      "source": [
        "# Count the number of stores of each type\n",
        "\n",
        "store_count = store_types['type'].value_counts()\n"
      ],
      "metadata": {
        "id": "DoGOnKCDNU29"
      },
      "execution_count": 53,
      "outputs": []
    },
    {
      "cell_type": "code",
      "source": [
        "# Get the proportion of stores of each type\n",
        "store_props = store_types['type'].value_counts(normalize=True)\n",
        "print(store_props)"
      ],
      "metadata": {
        "colab": {
          "base_uri": "https://localhost:8080/"
        },
        "id": "mFDmemgv9u1W",
        "outputId": "13f123e1-4dab-444f-8a93-d11bb5ed4417"
      },
      "execution_count": 54,
      "outputs": [
        {
          "output_type": "stream",
          "name": "stdout",
          "text": [
            "A    0.916667\n",
            "B    0.083333\n",
            "Name: type, dtype: float64\n"
          ]
        }
      ]
    },
    {
      "cell_type": "code",
      "source": [
        "# Count the number of each department number and sort\n",
        "\n",
        "dept_counts_sorted = store_depts['department'].value_counts(sort=True)\n",
        "print(dept_counts_sorted)"
      ],
      "metadata": {
        "colab": {
          "base_uri": "https://localhost:8080/"
        },
        "id": "ZVhuWFet9vs0",
        "outputId": "348f75fc-b713-4b82-97fc-ab5c4003a93f"
      },
      "execution_count": 55,
      "outputs": [
        {
          "output_type": "stream",
          "name": "stdout",
          "text": [
            "1     12\n",
            "55    12\n",
            "72    12\n",
            "71    12\n",
            "67    12\n",
            "      ..\n",
            "37    10\n",
            "48     8\n",
            "50     6\n",
            "39     4\n",
            "43     2\n",
            "Name: department, Length: 80, dtype: int64\n"
          ]
        }
      ]
    },
    {
      "cell_type": "code",
      "source": [
        "# Get the proportion of departments of each number and sort\n",
        "dept_props_sorted = store_depts['department'].value_counts(normalize=True,sort=True)\n",
        "print(dept_props_sorted)"
      ],
      "metadata": {
        "colab": {
          "base_uri": "https://localhost:8080/"
        },
        "id": "6A1_pYgL9_m6",
        "outputId": "74a316cf-b775-47d3-ba8a-ef69106dd551"
      },
      "execution_count": 56,
      "outputs": [
        {
          "output_type": "stream",
          "name": "stdout",
          "text": [
            "1     0.012917\n",
            "55    0.012917\n",
            "72    0.012917\n",
            "71    0.012917\n",
            "67    0.012917\n",
            "        ...   \n",
            "37    0.010764\n",
            "48    0.008611\n",
            "50    0.006459\n",
            "39    0.004306\n",
            "43    0.002153\n",
            "Name: department, Length: 80, dtype: float64\n"
          ]
        }
      ]
    },
    {
      "cell_type": "markdown",
      "source": [
        "## 3.2.7 What percent of sales occurred at each store type?\n",
        "While .groupby() is useful, you can calculate grouped summary statistics without it.\n",
        "\n",
        "Walmart distinguishes three types of stores: \"supercenters,\" \"discount stores,\" and \"neighborhood markets,\" encoded in this dataset as type \"A,\" \"B,\" and \"C.\" In this exercise, you'll calculate the total sales made at each store type, without using .groupby(). You can then use these numbers to see what proportion of Walmart's total sales were made at each type.\n",
        "\n",
        "sales is available and pandas is imported as pd."
      ],
      "metadata": {
        "id": "JiNS1jWfABDS"
      }
    },
    {
      "cell_type": "code",
      "source": [
        "# Calc total weekly sales\n",
        "sales_all = sales[\"weekly_sales\"].sum()\n",
        "sales.head()\n",
        "# Subset for type A stores, calc total weekly sales\n",
        "sales_A = sales[sales[\"type\"] == \"A\"][\"weekly_sales\"].sum()\n",
        "\n",
        "# Subset for type B stores, calc total weekly sales\n",
        "sales_B = sales[sales[\"type\"] == \"B\"][\"weekly_sales\"].sum()\n",
        "\n",
        "# Subset for type C stores, calc total weekly sales\n",
        "sales_C = sales[sales[\"type\"] == \"C\"][\"weekly_sales\"].sum()\n",
        "\n",
        "# Get proportion for each type\n",
        "sales_propn_by_type = [sales_A, sales_B, sales_C] / sales_all\n",
        "print(sales_propn_by_type)"
      ],
      "metadata": {
        "colab": {
          "base_uri": "https://localhost:8080/"
        },
        "id": "o3i6T4wSDC7j",
        "outputId": "41f78c69-637c-4683-a843-3b781fc878a1"
      },
      "execution_count": 57,
      "outputs": [
        {
          "output_type": "stream",
          "name": "stdout",
          "text": [
            "[0.9097747 0.0902253 0.       ]\n"
          ]
        }
      ]
    },
    {
      "cell_type": "markdown",
      "source": [
        "## 3.2.8 Calculations with .groupby()\n",
        "\n",
        "The .groupby() method makes life much easier. In this exercise, you'll perform the same calculations as last time, except you'll use the .groupby() method. You'll also perform calculations on data grouped by two variables to see if sales differ by store type depending on if it's a holiday week or not.\n",
        "\n",
        "sales is available and pandas is loaded as pd.\n",
        "\n",
        "* Group sales by \"type\", take the sum of \"weekly_sales\", and store as sales_by_type.\n",
        "* Calculate the proportion of sales at each store type by dividing by the sum of sales_by_type. Assign to sales_propn_by_type\n",
        "* Group sales by \"type\" and \"is_holiday\", take the sum of weekly_sales, and store as sales_by_type_is_holiday.\n",
        "\n",
        "\n"
      ],
      "metadata": {
        "id": "dk6nD-RmElxa"
      }
    },
    {
      "cell_type": "code",
      "source": [
        "# Group by type; calc total weekly sales\n",
        "sales_by_type = sales.groupby('type')['weekly_sales'].sum()\n",
        "\n",
        "# Get proportion for each type\n",
        "sales_propn_by_type = sales_by_type / sum(sales_by_type)\n",
        "\n",
        "print(sales_propn_by_type)"
      ],
      "metadata": {
        "colab": {
          "base_uri": "https://localhost:8080/"
        },
        "id": "PwiSp_AaExiG",
        "outputId": "7f19e9df-9210-4572-915b-26a78c2d572f"
      },
      "execution_count": 58,
      "outputs": [
        {
          "output_type": "stream",
          "name": "stdout",
          "text": [
            "type\n",
            "A    0.909775\n",
            "B    0.090225\n",
            "Name: weekly_sales, dtype: float64\n"
          ]
        }
      ]
    },
    {
      "cell_type": "code",
      "source": [
        "sales_by_type_is_holiday = sales.groupby(['type','is_holiday'])['weekly_sales'].sum()\n",
        "print(sales_by_type_is_holiday)"
      ],
      "metadata": {
        "colab": {
          "base_uri": "https://localhost:8080/"
        },
        "id": "Y7axQoudI3sc",
        "outputId": "3495ac69-1304-445c-a06f-f06dab0961ec"
      },
      "execution_count": 59,
      "outputs": [
        {
          "output_type": "stream",
          "name": "stdout",
          "text": [
            "type  is_holiday\n",
            "A     False         2.336927e+08\n",
            "      True          2.360181e+04\n",
            "B     False         2.317678e+07\n",
            "      True          1.621410e+03\n",
            "Name: weekly_sales, dtype: float64\n"
          ]
        }
      ]
    },
    {
      "cell_type": "markdown",
      "source": [
        "## 3.2.8 Multiple grouped summaries\n",
        "Earlier in this chapter, you saw that the .agg() method is useful to compute multiple statistics on multiple variables. It also works with grouped data. NumPy, which is imported as np, has many different summary statistics functions, including: np.min, np.max, np.mean, and np.median.\n",
        "\n",
        "sales is available and pandas is imported as pd."
      ],
      "metadata": {
        "id": "H2S4p5n1LRpt"
      }
    },
    {
      "cell_type": "markdown",
      "source": [
        "* Import numpy with the alias np.\n",
        "* Get the min, max, mean, and median of weekly_sales for each store type using .groupby() and .agg(). Store this as sales_stats. Make sure to use numpy functions!\n",
        "* Get the min, max, mean, and median of unemployment and fuel_price_usd_per_l for each store type. Store this as unemp_fuel_stats."
      ],
      "metadata": {
        "id": "ETMsN9uCLXa5"
      }
    },
    {
      "cell_type": "code",
      "source": [
        "# Import numpy with the alias np\n",
        "import numpy as np\n",
        "\n",
        "# For each store type, aggregate weekly_sales: get min, max, mean, and median\n",
        "sales_stats = sales.groupby('type')['weekly_sales'].agg([np.min,np.max,np.mean,np.median])\n",
        "\n",
        "# Print sales_stats\n",
        "print(sales_stats)\n"
      ],
      "metadata": {
        "colab": {
          "base_uri": "https://localhost:8080/"
        },
        "id": "_WnpY3hmLuRI",
        "outputId": "c7c48be9-f9af-4c3c-cb40-c60939f4e1c6"
      },
      "execution_count": 60,
      "outputs": [
        {
          "output_type": "stream",
          "name": "stdout",
          "text": [
            "        amin       amax          mean    median\n",
            "type                                           \n",
            "A    -1098.0  293966.05  23674.667242  11943.92\n",
            "B     -798.0  232558.51  25696.678370  13336.08\n"
          ]
        }
      ]
    },
    {
      "cell_type": "code",
      "source": [
        "\n",
        "# For each store type, aggregate unemployment and fuel_price_usd_per_l: get min, max, mean, and median\n",
        "unemp_fuel_stats = sales.groupby(['type','unemployment'])['fuel_price_usd_per_l'].agg([np.min,np.max,np.mean,np.median])\n",
        "#unemp_fuel_stats = sales.groupby(\"type\")[\"unemployment\",\"fuel_price_usd_per_l\"].agg([np.min,np.max,np.mean,np.median])\n",
        "\n",
        "# Print unemp_fuel_stats]\n",
        "print(unemp_fuel_stats)"
      ],
      "metadata": {
        "colab": {
          "base_uri": "https://localhost:8080/"
        },
        "id": "KRZm2ob-L0o9",
        "outputId": "1d785c62-e9a5-49df-dde2-92cdd17af480"
      },
      "execution_count": 61,
      "outputs": [
        {
          "output_type": "stream",
          "name": "stdout",
          "text": [
            "                       amin      amax      mean    median\n",
            "type unemployment                                        \n",
            "A    3.879         0.956303  0.956303  0.956303  0.956303\n",
            "     4.077         0.841917  0.841917  0.841917  0.841917\n",
            "     4.308         1.020761  1.020761  1.020761  1.020761\n",
            "     4.607         0.834256  0.956039  0.893761  0.892374\n",
            "     5.143         0.839011  0.868070  0.849512  0.845483\n",
            "...                     ...       ...       ...       ...\n",
            "B    8.744         0.868334  0.881278  0.868509  0.868334\n",
            "     9.003         0.792781  0.826859  0.797478  0.794894\n",
            "     9.199         0.776402  0.825010  0.808931  0.815500\n",
            "     9.524         0.776930  0.826066  0.806233  0.815235\n",
            "     9.765         0.760023  0.801498  0.771442  0.776270\n",
            "\n",
            "[126 rows x 4 columns]\n"
          ]
        }
      ]
    },
    {
      "cell_type": "markdown",
      "source": [
        "## 3.2.9 Pivoting on one variable\n",
        "\n",
        "Pivot tables are the standard way of aggregating data in spreadsheets.\n",
        "\n",
        "In pandas, pivot tables are essentially another way of performing grouped calculations. That is, the .pivot_table() method is an alternative to .groupby().\n",
        "\n",
        "In this exercise, you'll perform calculations using .pivot_table() to replicate the calculations you performed in the last lesson using .groupby().\n",
        "\n",
        "sales is available and pandas is imported as pd."
      ],
      "metadata": {
        "id": "0qBxvJPmMsu3"
      }
    },
    {
      "cell_type": "markdown",
      "source": [
        "* Get the mean weekly_sales by type using .pivot_table() and store as mean_sales_by_type.\n",
        "\n"
      ],
      "metadata": {
        "id": "PLynzK86NMeY"
      }
    },
    {
      "cell_type": "code",
      "source": [
        "# Pivot for mean weekly_sales for each store type\n",
        "mean_sales_by_type = sales.pivot_table(values = 'weekly_sales',index ='type')\n",
        "\n",
        "# Print mean_sales_by_type\n",
        "print(mean_sales_by_type)"
      ],
      "metadata": {
        "colab": {
          "base_uri": "https://localhost:8080/"
        },
        "id": "s_ibvNQANLaE",
        "outputId": "6385fe04-1802-4a61-8d81-10bdfb199085"
      },
      "execution_count": 62,
      "outputs": [
        {
          "output_type": "stream",
          "name": "stdout",
          "text": [
            "      weekly_sales\n",
            "type              \n",
            "A     23674.667242\n",
            "B     25696.678370\n"
          ]
        }
      ]
    },
    {
      "cell_type": "markdown",
      "source": [
        "* Get the mean and median (using NumPy functions) of weekly_sales by type using .pivot_table() and store as mean_med_sales_by_type."
      ],
      "metadata": {
        "id": "dtQABb3qO2yd"
      }
    },
    {
      "cell_type": "code",
      "source": [
        "# Import NumPy as np\n",
        "import numpy as np\n",
        "\n",
        "# Pivot for mean and median weekly_sales for each store type\n",
        "mean_med_sales_by_type = sales.pivot_table(values = 'weekly_sales', index  = 'type', aggfunc=[np.mean,np.median] )\n",
        "\n",
        "# Print mean_med_sales_by_type\n",
        "print(mean_med_sales_by_type)\n"
      ],
      "metadata": {
        "colab": {
          "base_uri": "https://localhost:8080/"
        },
        "id": "1UV2h5iSPGZ4",
        "outputId": "34bb8165-e123-47ee-f0fa-d69d86c495a0"
      },
      "execution_count": 63,
      "outputs": [
        {
          "output_type": "stream",
          "name": "stdout",
          "text": [
            "              mean       median\n",
            "      weekly_sales weekly_sales\n",
            "type                           \n",
            "A     23674.667242     11943.92\n",
            "B     25696.678370     13336.08\n"
          ]
        }
      ]
    },
    {
      "cell_type": "markdown",
      "source": [
        "\n",
        "* Get the mean of weekly_sales by type and is_holiday using .pivot_table() and store as mean_sales_by_type_holiday"
      ],
      "metadata": {
        "id": "6qKNRnpET-QD"
      }
    },
    {
      "cell_type": "code",
      "source": [
        " # Pivot for mean weekly_sales by store type and holiday\n",
        " mean_sales_by_type_holiday = sales.pivot_table(values = 'weekly_sales', index = 'type' , columns = 'is_holiday')\n",
        "\n",
        " # Print mean_sales_by_type_holiday\n",
        "print(mean_sales_by_type_holiday)"
      ],
      "metadata": {
        "colab": {
          "base_uri": "https://localhost:8080/"
        },
        "id": "7UPTBA08UIsB",
        "outputId": "1d126c2a-edb7-4c26-a666-1f28d2c777e3"
      },
      "execution_count": 64,
      "outputs": [
        {
          "output_type": "stream",
          "name": "stdout",
          "text": [
            "is_holiday         False      True \n",
            "type                               \n",
            "A           23768.583523  590.04525\n",
            "B           25751.980533  810.70500\n"
          ]
        }
      ]
    },
    {
      "cell_type": "markdown",
      "source": [
        "## 3.2.10 Fill in missing values and sum values with pivot tables\n",
        "The .pivot_table() method has several useful arguments, including fill_value and margins.\n",
        "\n",
        "* fill_value replaces missing values with a real value (known as imputation). What to replace missing values with is a topic big enough to have its own course (Dealing with Missing Data in Python), but the simplest thing to do is to substitute a dummy value.\n",
        "\n",
        "* margins is a shortcut for when you pivoted by two variables, but also wanted to pivot by each of those variables separately: it gives the row and column totals of the pivot table contents.\n",
        "In this exercise, you'll practice using these arguments to up your pivot table skills, which will help you crunch numbers more efficiently!\n",
        "\n",
        "\n",
        "sales is available and pandas is imported as pd."
      ],
      "metadata": {
        "id": "TuSM_djFV-uO"
      }
    },
    {
      "cell_type": "markdown",
      "source": [
        "* Print the mean weekly_sales by department and type, filling in any missing values with 0."
      ],
      "metadata": {
        "id": "2RCGRVaoWLXE"
      }
    },
    {
      "cell_type": "code",
      "source": [
        "# Print mean weekly_sales by department and type; fill missing values with 0\n",
        "print(sales.pivot_table(values='weekly_sales',index='type',columns='department',fill_value = 0))"
      ],
      "metadata": {
        "colab": {
          "base_uri": "https://localhost:8080/"
        },
        "id": "hLHmF0ZYj6w_",
        "outputId": "312a2b61-7162-47be-ad07-a74354b8e8dd"
      },
      "execution_count": 68,
      "outputs": [
        {
          "output_type": "stream",
          "name": "stdout",
          "text": [
            "department            1              2             3             4   \\\n",
            "type                                                                  \n",
            "A           30961.725379   67600.158788  17160.002955  44285.399091   \n",
            "B           44050.626667  112958.526667  30580.655000  51219.654167   \n",
            "\n",
            "department            5             6             7             8   \\\n",
            "type                                                                 \n",
            "A           34821.011364   7136.292652  38454.336818  48583.475303   \n",
            "B           63236.875000  10717.297500  52909.653333  90733.753333   \n",
            "\n",
            "department            9             10  ...            90            91  \\\n",
            "type                                    ...                               \n",
            "A           30120.449924  30930.456364  ...  85776.905909  70423.165227   \n",
            "B           66679.301667  48595.126667  ...  14780.210000  13199.602500   \n",
            "\n",
            "department             92            93            94             95  \\\n",
            "type                                                                   \n",
            "A           139722.204773  53413.633939  60081.155303  123933.787121   \n",
            "B            50859.278333   1466.274167    161.445833   77082.102500   \n",
            "\n",
            "department            96            97            98          99  \n",
            "type                                                              \n",
            "A           21367.042857  28471.266970  12875.423182  379.123659  \n",
            "B            9528.538333   5828.873333    217.428333    0.000000  \n",
            "\n",
            "[2 rows x 80 columns]\n"
          ]
        }
      ]
    },
    {
      "cell_type": "markdown",
      "source": [
        "* Print the mean weekly_sales by department and type, filling in any missing values with 0 and summing all rows and columns."
      ],
      "metadata": {
        "id": "aYzx2AmAlG15"
      }
    },
    {
      "cell_type": "code",
      "source": [
        "# Print the mean weekly_sales by department and type; fill missing values with 0s; sum all rows and cols\n",
        "print(sales.pivot_table(values=\"weekly_sales\", index=\"department\", columns=\"type\",fill_value = 0, margins =True))"
      ],
      "metadata": {
        "id": "QSKUF-aKlOnS"
      },
      "execution_count": null,
      "outputs": []
    }
  ]
}
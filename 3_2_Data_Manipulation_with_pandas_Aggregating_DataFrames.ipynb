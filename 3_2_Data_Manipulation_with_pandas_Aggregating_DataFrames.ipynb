{
  "nbformat": 4,
  "nbformat_minor": 0,
  "metadata": {
    "colab": {
      "provenance": [],
      "authorship_tag": "ABX9TyM4Flla4RqN1z64Ug2trdoS",
      "include_colab_link": true
    },
    "kernelspec": {
      "name": "python3",
      "display_name": "Python 3"
    },
    "language_info": {
      "name": "python"
    }
  },
  "cells": [
    {
      "cell_type": "markdown",
      "metadata": {
        "id": "view-in-github",
        "colab_type": "text"
      },
      "source": [
        "<a href=\"https://colab.research.google.com/github/manthilaw/Python-Projects/blob/main/3_2_Data_Manipulation_with_pandas_Aggregating_DataFrames.ipynb\" target=\"_parent\"><img src=\"https://colab.research.google.com/assets/colab-badge.svg\" alt=\"Open In Colab\"/></a>"
      ]
    },
    {
      "cell_type": "markdown",
      "source": [
        "# 3.2 Aggregating DataFrames\n",
        "\n",
        "In this chapter, you’ll calculate summary statistics on DataFrame columns, and master grouped summary statistics and pivot tables.\n"
      ],
      "metadata": {
        "id": "mvISkcsWSrGa"
      }
    },
    {
      "cell_type": "code",
      "source": [
        "# Mount Google Drive to Collaboratory\n",
        "\n",
        "from google.colab import drive\n",
        "drive.mount('/content/gdrive')\n",
        "\n",
        "\n",
        "# Mount Google Drive to Collaboratory\n",
        "\n",
        "path = ('/content/gdrive/MyDrive/DataCamp CSV/3.Data Manipulations with Pandas/sales_subset.csv')\n",
        "\n",
        "# Import Pandas\n",
        "\n",
        "import pandas as pd\n",
        "\n",
        "# Read CSV file\n",
        "\n",
        "sales = pd.read_csv(path)"
      ],
      "metadata": {
        "id": "EC4Yysy9aFVh",
        "colab": {
          "base_uri": "https://localhost:8080/"
        },
        "outputId": "7504b2b1-0f5b-44c3-da27-905cb0801ab2"
      },
      "execution_count": null,
      "outputs": [
        {
          "output_type": "stream",
          "name": "stdout",
          "text": [
            "Drive already mounted at /content/gdrive; to attempt to forcibly remount, call drive.mount(\"/content/gdrive\", force_remount=True).\n"
          ]
        }
      ]
    },
    {
      "cell_type": "markdown",
      "source": [
        "## 3.2.1 Mean and median\n",
        "\n",
        "Summary statistics are exactly what they sound like - they summarize many numbers in one statistic. For example, mean, median, minimum, maximum, and standard deviation are summary statistics. Calculating summary statistics allows you to get a better sense of your data, even if there's a lot of it.\n",
        "\n",
        "sales is available and pandas is loaded as pd.\n"
      ],
      "metadata": {
        "id": "-AHCY4zJZI72"
      }
    },
    {
      "cell_type": "markdown",
      "source": [
        "* Explore your new DataFrame first by printing the first few rows of the sales DataFrame.\n",
        "* Print information about the columns in sales.\n",
        "* Print the mean of the weekly_sales column.\n",
        "* Print the median of the weekly_sales column."
      ],
      "metadata": {
        "id": "_qopodmcbyie"
      }
    },
    {
      "cell_type": "code",
      "source": [
        "# Print the head of the sales DataFrame\n",
        "print(sales.head())"
      ],
      "metadata": {
        "colab": {
          "base_uri": "https://localhost:8080/"
        },
        "id": "j3Z1JADocJ_U",
        "outputId": "af002f87-0ab0-4217-e919-7f5876c4455e"
      },
      "execution_count": null,
      "outputs": [
        {
          "output_type": "stream",
          "name": "stdout",
          "text": [
            "   Unnamed: 0  store type  department        date  weekly_sales  is_holiday  \\\n",
            "0           0      1    A           1  2010-02-05      24924.50       False   \n",
            "1           1      1    A           1  2010-03-05      21827.90       False   \n",
            "2           2      1    A           1  2010-04-02      57258.43       False   \n",
            "3           3      1    A           1  2010-05-07      17413.94       False   \n",
            "4           4      1    A           1  2010-06-04      17558.09       False   \n",
            "\n",
            "   temperature_c  fuel_price_usd_per_l  unemployment  \n",
            "0       5.727778              0.679451         8.106  \n",
            "1       8.055556              0.693452         8.106  \n",
            "2      16.816667              0.718284         7.808  \n",
            "3      22.527778              0.748928         7.808  \n",
            "4      27.050000              0.714586         7.808  \n"
          ]
        }
      ]
    },
    {
      "cell_type": "code",
      "source": [
        "# Print the info about the sales DataFrame\n",
        "print(sales.info())"
      ],
      "metadata": {
        "colab": {
          "base_uri": "https://localhost:8080/"
        },
        "id": "yzFk12Fuc4I0",
        "outputId": "65483713-29f0-4a45-ffb3-fd2d0da53b58"
      },
      "execution_count": null,
      "outputs": [
        {
          "output_type": "stream",
          "name": "stdout",
          "text": [
            "<class 'pandas.core.frame.DataFrame'>\n",
            "RangeIndex: 10774 entries, 0 to 10773\n",
            "Data columns (total 10 columns):\n",
            " #   Column                Non-Null Count  Dtype  \n",
            "---  ------                --------------  -----  \n",
            " 0   Unnamed: 0            10774 non-null  int64  \n",
            " 1   store                 10774 non-null  int64  \n",
            " 2   type                  10774 non-null  object \n",
            " 3   department            10774 non-null  int64  \n",
            " 4   date                  10774 non-null  object \n",
            " 5   weekly_sales          10774 non-null  float64\n",
            " 6   is_holiday            10774 non-null  bool   \n",
            " 7   temperature_c         10774 non-null  float64\n",
            " 8   fuel_price_usd_per_l  10774 non-null  float64\n",
            " 9   unemployment          10774 non-null  float64\n",
            "dtypes: bool(1), float64(4), int64(3), object(2)\n",
            "memory usage: 768.2+ KB\n",
            "None\n"
          ]
        }
      ]
    },
    {
      "cell_type": "code",
      "source": [
        "# Print the mean of weekly_sales\n",
        "print(sales[\"weekly_sales\"].mean())\n"
      ],
      "metadata": {
        "colab": {
          "base_uri": "https://localhost:8080/"
        },
        "id": "IKSl97bgc6ow",
        "outputId": "3275cbf6-6611-4a13-9fb7-52f162d965f9"
      },
      "execution_count": null,
      "outputs": [
        {
          "output_type": "stream",
          "name": "stdout",
          "text": [
            "23843.95014850566\n"
          ]
        }
      ]
    },
    {
      "cell_type": "code",
      "source": [
        "# Print the median of weekly_sales\n",
        "print(sales[\"weekly_sales\"].median())"
      ],
      "metadata": {
        "id": "aDI9fNJMc_5T",
        "outputId": "975ca029-13ce-43fe-a216-518e6250725f",
        "colab": {
          "base_uri": "https://localhost:8080/",
          "height": 192
        }
      },
      "execution_count": 1,
      "outputs": [
        {
          "output_type": "error",
          "ename": "NameError",
          "evalue": "ignored",
          "traceback": [
            "\u001b[0;31m---------------------------------------------------------------------------\u001b[0m",
            "\u001b[0;31mNameError\u001b[0m                                 Traceback (most recent call last)",
            "\u001b[0;32m<ipython-input-1-a1c88cc88c7e>\u001b[0m in \u001b[0;36m<cell line: 2>\u001b[0;34m()\u001b[0m\n\u001b[1;32m      1\u001b[0m \u001b[0;31m# Print the median of weekly_sales\u001b[0m\u001b[0;34m\u001b[0m\u001b[0;34m\u001b[0m\u001b[0m\n\u001b[0;32m----> 2\u001b[0;31m \u001b[0mprint\u001b[0m\u001b[0;34m(\u001b[0m\u001b[0msales\u001b[0m\u001b[0;34m[\u001b[0m\u001b[0;34m\"weekly_sales\"\u001b[0m\u001b[0;34m]\u001b[0m\u001b[0;34m.\u001b[0m\u001b[0mmedian\u001b[0m\u001b[0;34m(\u001b[0m\u001b[0;34m)\u001b[0m\u001b[0;34m)\u001b[0m\u001b[0;34m\u001b[0m\u001b[0;34m\u001b[0m\u001b[0m\n\u001b[0m",
            "\u001b[0;31mNameError\u001b[0m: name 'sales' is not defined"
          ]
        }
      ]
    }
  ]
}
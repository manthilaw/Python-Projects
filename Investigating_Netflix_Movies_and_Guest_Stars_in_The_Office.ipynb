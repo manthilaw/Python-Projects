{
  "nbformat": 4,
  "nbformat_minor": 0,
  "metadata": {
    "colab": {
      "provenance": [],
      "authorship_tag": "ABX9TyOG1qCAGPkLQNw1hFWkxxrV",
      "include_colab_link": true
    },
    "kernelspec": {
      "name": "python3",
      "display_name": "Python 3"
    },
    "language_info": {
      "name": "python"
    }
  },
  "cells": [
    {
      "cell_type": "markdown",
      "metadata": {
        "id": "view-in-github",
        "colab_type": "text"
      },
      "source": [
        "<a href=\"https://colab.research.google.com/github/manthilaw/Python-Projects/blob/main/Investigating_Netflix_Movies_and_Guest_Stars_in_The_Office.ipynb\" target=\"_parent\"><img src=\"https://colab.research.google.com/assets/colab-badge.svg\" alt=\"Open In Colab\"/></a>"
      ]
    },
    {
      "cell_type": "markdown",
      "source": [
        "\n",
        "# 1. Loading your friend's data into a dictionary\n",
        "Netflix! What started in 1997 as a DVD rental service has since exploded into the largest entertainment/media company by market capitalization, boasting over 200 million subscribers as of January 2021.\n",
        "\n",
        "Given the large number of movies and series available on the platform, it is a perfect opportunity to flex our data manipulation skills and dive into the entertainment industry. Our friend has also been brushing up on their Python skills and has taken a first crack at a CSV file containing Netflix data. For their first order of business, they have been performing some analyses, and they believe that the average duration of movies has been declining.\n",
        "\n",
        "As evidence of this, they have provided us with the following information. For the years from 2011 to 2020, the average movie durations are 103, 101, 99, 100, 100, 95, 95, 96, 93, and 90, respectively. But first we'll need to create a DataFrame from scratch. Let's start by creating a Python object: a dictionary!"
      ],
      "metadata": {
        "id": "XxEMoud7SZmm"
      }
    },
    {
      "cell_type": "code",
      "source": [
        "# Create the years and durations lists\n",
        "years = [2011,2012,2013,2014,2015,2016,2017,2018,2019,2020]\n",
        "durations = [103, 101, 99, 100, 100, 95, 95, 96, 93,90]\n",
        "\n",
        "# Create dictionary with two lists\n",
        "movie_dic = {'years':years,'durations':durations}\n",
        "\n",
        "# Print the dictionary\n",
        "print(movie_dic)\n",
        "\n"
      ],
      "metadata": {
        "colab": {
          "base_uri": "https://localhost:8080/"
        },
        "id": "jZ2ergp2SmpS",
        "outputId": "c6f8fa71-5624-49d4-9a52-0e8e68b17c70"
      },
      "execution_count": 2,
      "outputs": [
        {
          "output_type": "stream",
          "name": "stdout",
          "text": [
            "{'years': [2011, 2012, 2013, 2014, 2015, 2016, 2017, 2018, 2019, 2020], 'durations': [103, 101, 99, 100, 100, 95, 95, 96, 93, 90]}\n"
          ]
        }
      ]
    },
    {
      "cell_type": "markdown",
      "source": [
        "# 2. Creating a DataFrame from a dictionary\n",
        "To convert our dictionary movie_dict to a pandas DataFrame, we will first need to import the library under its usual alias. We'll also want to inspect our DataFrame to ensure it was created correctly. Let's perform these steps now."
      ],
      "metadata": {
        "id": "dKk0nHhqgRfs"
      }
    },
    {
      "cell_type": "code",
      "source": [
        "#Import Pandas\n",
        "\n",
        "import pandas as pd\n",
        "durations_df = pd.DataFrame(movie_dic)\n",
        "\n",
        "# Print Dataframe\n",
        "print(durations_df)"
      ],
      "metadata": {
        "colab": {
          "base_uri": "https://localhost:8080/"
        },
        "id": "dckuMNfBgWVf",
        "outputId": "f3466630-bd45-4124-9f2b-8121d3ebf8f2"
      },
      "execution_count": 3,
      "outputs": [
        {
          "output_type": "stream",
          "name": "stdout",
          "text": [
            "   years  durations\n",
            "0   2011        103\n",
            "1   2012        101\n",
            "2   2013         99\n",
            "3   2014        100\n",
            "4   2015        100\n",
            "5   2016         95\n",
            "6   2017         95\n",
            "7   2018         96\n",
            "8   2019         93\n",
            "9   2020         90\n"
          ]
        }
      ]
    },
    {
      "cell_type": "markdown",
      "source": [
        "# 3. A visual inspection of our data\n",
        "Alright, we now have a pandas DataFrame, the most common way to work with tabular data in Python. Now back to the task at hand. We want to follow up on our friend's assertion that movie lengths have been decreasing over time. A great place to start will be a visualization of the data.\n",
        "\n",
        "Given that the data is continuous, a line plot would be a good choice, with the dates represented along the x-axis and the average length in minutes along the y-axis. This will allow us to easily spot any trends in movie durations. There are many ways to visualize data in Python, but matploblib.pyplot is one of the most common packages to do so."
      ],
      "metadata": {
        "id": "aa8aRNHbV0yw"
      }
    },
    {
      "cell_type": "code",
      "source": [
        "# Import matplotlib.pyplot under its usual alias and create a figure\n",
        "import matplotlib.pyplot as plt\n",
        "fig_1=plt.figure()\n",
        "\n",
        "# Draw a line plot of release_years and durations\n",
        "plt.plot(years,durations)\n",
        "\n",
        "# Create a title\n",
        "plt.title(\"Nexfilx Movie Duration (2011-2020)\")\n",
        "\n",
        "#Show the plot\n",
        "plt.show()\n"
      ],
      "metadata": {
        "colab": {
          "base_uri": "https://localhost:8080/",
          "height": 281
        },
        "id": "XeDYYLNPV3zd",
        "outputId": "12644435-31b7-42b8-ee01-448c1bc5d920"
      },
      "execution_count": 4,
      "outputs": [
        {
          "output_type": "display_data",
          "data": {
            "text/plain": [
              "<Figure size 432x288 with 1 Axes>"
            ],
            "image/png": "[encoded data removed]"
          },
          "metadata": {
            "needs_background": "light"
          }
        }
      ]
    },
    {
      "cell_type": "code",
      "source": [],
      "metadata": {
        "id": "HabChsncmw7C"
      },
      "execution_count": null,
      "outputs": []
    }
  ]
}
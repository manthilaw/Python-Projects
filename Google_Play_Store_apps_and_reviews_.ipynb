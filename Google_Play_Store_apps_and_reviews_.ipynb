{
  "nbformat": 4,
  "nbformat_minor": 0,
  "metadata": {
    "colab": {
      "provenance": [],
      "mount_file_id": "1C3Hh4d-GeI8TH-sPpSjbloQCr2c4VFCW",
      "authorship_tag": "ABX9TyMJueKcBg6oN7BZMZAX1AN3",
      "include_colab_link": true
    },
    "kernelspec": {
      "name": "python3",
      "display_name": "Python 3"
    },
    "language_info": {
      "name": "python"
    }
  },
  "cells": [
    {
      "cell_type": "markdown",
      "metadata": {
        "id": "view-in-github",
        "colab_type": "text"
      },
      "source": [
        "<a href=\"https://colab.research.google.com/github/manthilaw/Python-Projects/blob/main/Google_Play_Store_apps_and_reviews_.ipynb\" target=\"_parent\"><img src=\"https://colab.research.google.com/assets/colab-badge.svg\" alt=\"Open In Colab\"/></a>"
      ]
    },
    {
      "cell_type": "code",
      "source": [
        "# Mount google colabs\n",
        "from google.colab import drive"
      ],
      "metadata": {
        "id": "VkgsGjomVfLZ"
      },
      "execution_count": 1,
      "outputs": []
    },
    {
      "cell_type": "markdown",
      "source": [
        "# **Google Play Store apps and reviews**\n",
        "Mobile apps are everywhere. They are easy to create and can be lucrative. Because of these two factors, more and more apps are being developed. In this notebook, we will do a comprehensive analysis of the Android app market by comparing over ten thousand apps in Google Play across different categories. We'll look for insights in the data to devise strategies to drive growth and retention.\n",
        "\n",
        "Google Play logo\n",
        "\n",
        "Let's take a look at the data, which consists of two files:\n",
        "\n",
        "apps.csv: contains all the details of the applications on Google Play. There are 13 features that describe a given app.\n",
        "user_reviews.csv: contains 100 reviews for each app, most helpful first. The text in each review has been pre-processed and attributed with three new features: Sentiment (Positive, Negative or Neutral), Sentiment Polarity and Sentiment Subjectivity.\n"
      ],
      "metadata": {
        "id": "cmj0--5AVoAh"
      }
    },
    {
      "cell_type": "code",
      "source": [
        "# read csv file as a dataframe\n",
        "path='/content/drive/MyDrive/Python CSV/2.Google Play Store apps and reviews/apps.csv'\n",
        "\n",
        "# read the dataset\n",
        "import pandas as pd\n",
        "apps_1 = pd.read_csv(path)\n"
      ],
      "metadata": {
        "id": "o4Zu_p0zV0oj"
      },
      "execution_count": 3,
      "outputs": []
    }
  ]
}
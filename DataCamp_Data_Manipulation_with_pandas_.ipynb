{
  "nbformat": 4,
  "nbformat_minor": 0,
  "metadata": {
    "colab": {
      "provenance": [],
      "authorship_tag": "ABX9TyPf5EwRzcnzCSQyHaVSxjMy",
      "include_colab_link": true
    },
    "kernelspec": {
      "name": "python3",
      "display_name": "Python 3"
    },
    "language_info": {
      "name": "python"
    }
  },
  "cells": [
    {
      "cell_type": "markdown",
      "metadata": {
        "id": "view-in-github",
        "colab_type": "text"
      },
      "source": [
        "<a href=\"https://colab.research.google.com/github/manthilaw/Python-Projects/blob/main/DataCamp_Data_Manipulation_with_pandas_.ipynb\" target=\"_parent\"><img src=\"https://colab.research.google.com/assets/colab-badge.svg\" alt=\"Open In Colab\"/></a>"
      ]
    },
    {
      "cell_type": "markdown",
      "source": [
        "#Data Manipulation with Pandas\n",
        "\n",
        "pandas is the world's most popular Python library, used for everything from data manipulation to data analysis. In this course, you'll learn how to manipulate DataFrames, as you extract, filter, and transform real-world datasets for analysis. Using pandas you’ll explore all the core data science concepts. Using real-world data, including Walmart sales figures and global temperature time series, you’ll learn how to import, clean, calculate statistics, and create visualizations—using pandas to add to the power of Python!\n",
        "\n"
      ],
      "metadata": {
        "id": "x22chVGc_Nbt"
      }
    },
    {
      "cell_type": "code",
      "source": [
        "# Mount Google Drive to Collaboratory\n",
        "\n",
        "from google.colab import drive\n",
        "drive.mount('/content/gdrive')\n",
        "\n",
        "\n",
        "# Mount Google Drive to Collaboratory\n",
        "\n",
        "path = ('/content/gdrive/MyDrive/DataCamp CSV/Data Manupilation with Pandas/homelessness.csv')\n",
        "\n",
        "# Import Pandas\n",
        "\n",
        "import pandas as pd\n",
        "\n",
        "# Read CSV file\n",
        "\n",
        "homelessness = pd.read_csv(path)"
      ],
      "metadata": {
        "colab": {
          "base_uri": "https://localhost:8080/"
        },
        "id": "MK65FUuvo12v",
        "outputId": "1a8db893-a249-442c-800d-cad322f5f3c3"
      },
      "execution_count": 1,
      "outputs": [
        {
          "output_type": "stream",
          "name": "stdout",
          "text": [
            "Mounted at /content/gdrive\n"
          ]
        }
      ]
    },
    {
      "cell_type": "markdown",
      "source": [
        "## 1. Transforming DataFrames\n",
        "\n",
        "Inspecting a DataFrame\n",
        "When you get a new DataFrame to work with, the first thing you need to do is explore it and see what it contains. There are several useful methods and attributes for this.\n",
        "\n",
        "* head() returns the first few rows (the “head” of the DataFrame).\n",
        "* info() shows information on each of the columns, such as the data type and number of missing values.\n",
        "* shape returns the number of rows and columns of the DataFrame.\n",
        "* describe() calculates a few summary statistics for each column.\n",
        "\n",
        "\n",
        "\n",
        "homelessness is a DataFrame containing estimates of homelessness in each U.S. state in 2018. The individual column is the number of homeless individuals not part of a family with children. The family_members column is the number of homeless individuals part of a family with children. The state_pop column is the state's total population.\n",
        "\n",
        "pandas is imported for you.\n"
      ],
      "metadata": {
        "id": "Q733jFe8nw2f"
      }
    },
    {
      "cell_type": "code",
      "source": [
        "# Print the head of the homelessness data\n",
        "print(homelessness.head())"
      ],
      "metadata": {
        "colab": {
          "base_uri": "https://localhost:8080/"
        },
        "id": "B3ayrhGkiGMo",
        "outputId": "891b21d9-2b35-4277-fea5-a54bc2e4a381"
      },
      "execution_count": 2,
      "outputs": [
        {
          "output_type": "stream",
          "name": "stdout",
          "text": [
            "   Unnamed: 0              region       state  individuals  family_members  \\\n",
            "0           0  East South Central     Alabama       2570.0           864.0   \n",
            "1           1             Pacific      Alaska       1434.0           582.0   \n",
            "2           2            Mountain     Arizona       7259.0          2606.0   \n",
            "3           3  West South Central    Arkansas       2280.0           432.0   \n",
            "4           4             Pacific  California     109008.0         20964.0   \n",
            "\n",
            "   state_pop  \n",
            "0    4887681  \n",
            "1     735139  \n",
            "2    7158024  \n",
            "3    3009733  \n",
            "4   39461588  \n"
          ]
        }
      ]
    },
    {
      "cell_type": "code",
      "source": [
        "# Print information about homelessness\n",
        "print(homelessness.info())\n"
      ],
      "metadata": {
        "colab": {
          "base_uri": "https://localhost:8080/"
        },
        "id": "mFbwT-ahiF-a",
        "outputId": "4dbbaa7a-05bb-49ee-b4e7-1956da0a32eb"
      },
      "execution_count": 3,
      "outputs": [
        {
          "output_type": "stream",
          "name": "stdout",
          "text": [
            "<class 'pandas.core.frame.DataFrame'>\n",
            "RangeIndex: 51 entries, 0 to 50\n",
            "Data columns (total 6 columns):\n",
            " #   Column          Non-Null Count  Dtype  \n",
            "---  ------          --------------  -----  \n",
            " 0   Unnamed: 0      51 non-null     int64  \n",
            " 1   region          51 non-null     object \n",
            " 2   state           51 non-null     object \n",
            " 3   individuals     51 non-null     float64\n",
            " 4   family_members  51 non-null     float64\n",
            " 5   state_pop       51 non-null     int64  \n",
            "dtypes: float64(2), int64(2), object(2)\n",
            "memory usage: 2.5+ KB\n",
            "None\n"
          ]
        }
      ]
    },
    {
      "cell_type": "code",
      "source": [
        "# Print the shape of homelessness\n",
        "print(homelessness.shape)"
      ],
      "metadata": {
        "colab": {
          "base_uri": "https://localhost:8080/"
        },
        "id": "8lfQh0M2iFHB",
        "outputId": "1e2a4cd9-2e2f-40ee-aa5e-632278ce4872"
      },
      "execution_count": 4,
      "outputs": [
        {
          "output_type": "stream",
          "name": "stdout",
          "text": [
            "(51, 6)\n"
          ]
        }
      ]
    },
    {
      "cell_type": "code",
      "source": [
        "# Print a description of homelessness\n",
        "print(homelessness.describe())"
      ],
      "metadata": {
        "id": "3hVU6iE9_isa",
        "colab": {
          "base_uri": "https://localhost:8080/"
        },
        "outputId": "ddb74bfc-ad12-4937-8b77-d00c060c29e6"
      },
      "execution_count": 5,
      "outputs": [
        {
          "output_type": "stream",
          "name": "stdout",
          "text": [
            "       Unnamed: 0    individuals  family_members     state_pop\n",
            "count   51.000000      51.000000       51.000000  5.100000e+01\n",
            "mean    25.000000    7225.784314     3504.882353  6.405637e+06\n",
            "std     14.866069   15991.025083     7805.411811  7.327258e+06\n",
            "min      0.000000     434.000000       75.000000  5.776010e+05\n",
            "25%     12.500000    1446.500000      592.000000  1.777414e+06\n",
            "50%     25.000000    3082.000000     1482.000000  4.461153e+06\n",
            "75%     37.500000    6781.500000     3196.000000  7.340946e+06\n",
            "max     50.000000  109008.000000    52070.000000  3.946159e+07\n"
          ]
        }
      ]
    },
    {
      "cell_type": "markdown",
      "source": [
        "## 1.2 Parts of a DataFrame\n",
        "To better understand DataFrame objects, it's useful to know that they consist of three components, stored as attributes:\n",
        "\n",
        ".values: A two-dimensional NumPy array of values.\n",
        ".columns: An index of columns: the column names.\n",
        ".index: An index for the rows: either row numbers or row names.\n",
        "You can usually think of indexes as a list of strings or numbers, though the pandas Index data type allows for more sophisticated options. (These will be covered later in the course.)\n",
        "\n",
        "homelessness is available.\n",
        "\n",
        "* Import pandas using the alias pd.\n",
        "* Print a 2D NumPy array of the values in homelessness.\n",
        "* Print the column names of homelessness.\n",
        "* Print the index of homelessness."
      ],
      "metadata": {
        "id": "XLdZ_YJ_vsz5"
      }
    },
    {
      "cell_type": "code",
      "source": [
        "# Print the values of homelessness\n",
        "print(homelessness.values)"
      ],
      "metadata": {
        "colab": {
          "base_uri": "https://localhost:8080/"
        },
        "id": "CyeRl6g2id4G",
        "outputId": "ea964f48-1b44-469f-8380-831ad4efc02d"
      },
      "execution_count": 6,
      "outputs": [
        {
          "output_type": "stream",
          "name": "stdout",
          "text": [
            "[[0 'East South Central' 'Alabama' 2570.0 864.0 4887681]\n",
            " [1 'Pacific' 'Alaska' 1434.0 582.0 735139]\n",
            " [2 'Mountain' 'Arizona' 7259.0 2606.0 7158024]\n",
            " [3 'West South Central' 'Arkansas' 2280.0 432.0 3009733]\n",
            " [4 'Pacific' 'California' 109008.0 20964.0 39461588]\n",
            " [5 'Mountain' 'Colorado' 7607.0 3250.0 5691287]\n",
            " [6 'New England' 'Connecticut' 2280.0 1696.0 3571520]\n",
            " [7 'South Atlantic' 'Delaware' 708.0 374.0 965479]\n",
            " [8 'South Atlantic' 'District of Columbia' 3770.0 3134.0 701547]\n",
            " [9 'South Atlantic' 'Florida' 21443.0 9587.0 21244317]\n",
            " [10 'South Atlantic' 'Georgia' 6943.0 2556.0 10511131]\n",
            " [11 'Pacific' 'Hawaii' 4131.0 2399.0 1420593]\n",
            " [12 'Mountain' 'Idaho' 1297.0 715.0 1750536]\n",
            " [13 'East North Central' 'Illinois' 6752.0 3891.0 12723071]\n",
            " [14 'East North Central' 'Indiana' 3776.0 1482.0 6695497]\n",
            " [15 'West North Central' 'Iowa' 1711.0 1038.0 3148618]\n",
            " [16 'West North Central' 'Kansas' 1443.0 773.0 2911359]\n",
            " [17 'East South Central' 'Kentucky' 2735.0 953.0 4461153]\n",
            " [18 'West South Central' 'Louisiana' 2540.0 519.0 4659690]\n",
            " [19 'New England' 'Maine' 1450.0 1066.0 1339057]\n",
            " [20 'South Atlantic' 'Maryland' 4914.0 2230.0 6035802]\n",
            " [21 'New England' 'Massachusetts' 6811.0 13257.0 6882635]\n",
            " [22 'East North Central' 'Michigan' 5209.0 3142.0 9984072]\n",
            " [23 'West North Central' 'Minnesota' 3993.0 3250.0 5606249]\n",
            " [24 'East South Central' 'Mississippi' 1024.0 328.0 2981020]\n",
            " [25 'West North Central' 'Missouri' 3776.0 2107.0 6121623]\n",
            " [26 'Mountain' 'Montana' 983.0 422.0 1060665]\n",
            " [27 'West North Central' 'Nebraska' 1745.0 676.0 1925614]\n",
            " [28 'Mountain' 'Nevada' 7058.0 486.0 3027341]\n",
            " [29 'New England' 'New Hampshire' 835.0 615.0 1353465]\n",
            " [30 'Mid-Atlantic' 'New Jersey' 6048.0 3350.0 8886025]\n",
            " [31 'Mountain' 'New Mexico' 1949.0 602.0 2092741]\n",
            " [32 'Mid-Atlantic' 'New York' 39827.0 52070.0 19530351]\n",
            " [33 'South Atlantic' 'North Carolina' 6451.0 2817.0 10381615]\n",
            " [34 'West North Central' 'North Dakota' 467.0 75.0 758080]\n",
            " [35 'East North Central' 'Ohio' 6929.0 3320.0 11676341]\n",
            " [36 'West South Central' 'Oklahoma' 2823.0 1048.0 3940235]\n",
            " [37 'Pacific' 'Oregon' 11139.0 3337.0 4181886]\n",
            " [38 'Mid-Atlantic' 'Pennsylvania' 8163.0 5349.0 12800922]\n",
            " [39 'New England' 'Rhode Island' 747.0 354.0 1058287]\n",
            " [40 'South Atlantic' 'South Carolina' 3082.0 851.0 5084156]\n",
            " [41 'West North Central' 'South Dakota' 836.0 323.0 878698]\n",
            " [42 'East South Central' 'Tennessee' 6139.0 1744.0 6771631]\n",
            " [43 'West South Central' 'Texas' 19199.0 6111.0 28628666]\n",
            " [44 'Mountain' 'Utah' 1904.0 972.0 3153550]\n",
            " [45 'New England' 'Vermont' 780.0 511.0 624358]\n",
            " [46 'South Atlantic' 'Virginia' 3928.0 2047.0 8501286]\n",
            " [47 'Pacific' 'Washington' 16424.0 5880.0 7523869]\n",
            " [48 'South Atlantic' 'West Virginia' 1021.0 222.0 1804291]\n",
            " [49 'East North Central' 'Wisconsin' 2740.0 2167.0 5807406]\n",
            " [50 'Mountain' 'Wyoming' 434.0 205.0 577601]]\n"
          ]
        }
      ]
    },
    {
      "cell_type": "code",
      "source": [
        "# Print the column index of homelessness\n",
        "print(homelessness.columns)"
      ],
      "metadata": {
        "colab": {
          "base_uri": "https://localhost:8080/"
        },
        "id": "vohtLUUjidgk",
        "outputId": "bb66f6ea-1376-4a50-e2fb-8754696f608a"
      },
      "execution_count": 7,
      "outputs": [
        {
          "output_type": "stream",
          "name": "stdout",
          "text": [
            "Index(['Unnamed: 0', 'region', 'state', 'individuals', 'family_members',\n",
            "       'state_pop'],\n",
            "      dtype='object')\n"
          ]
        }
      ]
    },
    {
      "cell_type": "code",
      "source": [
        "# Print the row index of homelessness\n",
        "print(homelessness.index)"
      ],
      "metadata": {
        "colab": {
          "base_uri": "https://localhost:8080/"
        },
        "id": "eQMC-h_0v7eU",
        "outputId": "2e19b40e-bb85-42ab-d4aa-9e12a3bc4e7c"
      },
      "execution_count": 8,
      "outputs": [
        {
          "output_type": "stream",
          "name": "stdout",
          "text": [
            "RangeIndex(start=0, stop=51, step=1)\n"
          ]
        }
      ]
    },
    {
      "cell_type": "markdown",
      "source": [
        "# 1.3 Sorting rows\n",
        "Finding interesting bits of data in a DataFrame is often easier if you change the order of the rows. You can sort the rows by passing a column name to .sort_values().\n",
        "\n",
        "In cases where rows have the same value (this is common if you sort on a categorical variable), you may wish to break the ties by sorting on another column. You can sort on multiple columns in this way by passing a list of column names.\n",
        "\n",
        "\n",
        "\n",
        "![Screenshot 2023-11-03 055620.png](data:image/png;base64,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)\n",
        "\n",
        "homelessness is available and pandas is loaded as pd."
      ],
      "metadata": {
        "id": "hivjctuAjT8S"
      }
    },
    {
      "cell_type": "markdown",
      "source": [
        "Sort homelessness by the number of homeless individuals, from smallest to largest, and save this as homelessness_ind.\n",
        "Print the head of the sorted DataFrame."
      ],
      "metadata": {
        "id": "n9ba2nYjlR40"
      }
    },
    {
      "cell_type": "code",
      "source": [
        "# Sort homelessness by individuals\n",
        "homelessness_ind = homelessness.sort_values(\"individuals\")\n",
        "\n",
        "print(homelessness_ind.head())\n",
        "\n"
      ],
      "metadata": {
        "colab": {
          "base_uri": "https://localhost:8080/"
        },
        "id": "hIBTSAqIjbce",
        "outputId": "5619f8c0-82c1-441f-adef-569f3dcbe71a"
      },
      "execution_count": 14,
      "outputs": [
        {
          "output_type": "stream",
          "name": "stdout",
          "text": [
            "    Unnamed: 0              region         state  individuals  family_members  \\\n",
            "50          50            Mountain       Wyoming        434.0           205.0   \n",
            "34          34  West North Central  North Dakota        467.0            75.0   \n",
            "7            7      South Atlantic      Delaware        708.0           374.0   \n",
            "39          39         New England  Rhode Island        747.0           354.0   \n",
            "45          45         New England       Vermont        780.0           511.0   \n",
            "\n",
            "    state_pop  \n",
            "50     577601  \n",
            "34     758080  \n",
            "7      965479  \n",
            "39    1058287  \n",
            "45     624358  \n"
          ]
        }
      ]
    },
    {
      "cell_type": "markdown",
      "source": [
        "Sort homelessness by the number of homeless family_members in descending order, and save this as homelessness_fam.\n",
        "Print the head of the sorted DataFrame."
      ],
      "metadata": {
        "id": "Bc7FyMobmLtF"
      }
    },
    {
      "cell_type": "code",
      "source": [
        "# Sort homelessness by descending family members\n",
        "homelessness_fam = homelessness.sort_values('family_members',ascending = False)\n",
        "\n",
        "# Print the top few rows\n",
        "print(homelessness_fam.head())\n"
      ],
      "metadata": {
        "colab": {
          "base_uri": "https://localhost:8080/"
        },
        "id": "9HIoCkE4mYvm",
        "outputId": "f41bee67-1bdf-489c-d09b-d5c5d659755f"
      },
      "execution_count": 10,
      "outputs": [
        {
          "output_type": "stream",
          "name": "stdout",
          "text": [
            "    Unnamed: 0              region          state  individuals  \\\n",
            "32          32        Mid-Atlantic       New York      39827.0   \n",
            "4            4             Pacific     California     109008.0   \n",
            "21          21         New England  Massachusetts       6811.0   \n",
            "9            9      South Atlantic        Florida      21443.0   \n",
            "43          43  West South Central          Texas      19199.0   \n",
            "\n",
            "    family_members  state_pop  \n",
            "32         52070.0   19530351  \n",
            "4          20964.0   39461588  \n",
            "21         13257.0    6882635  \n",
            "9           9587.0   21244317  \n",
            "43          6111.0   28628666  \n"
          ]
        }
      ]
    },
    {
      "cell_type": "code",
      "source": [],
      "metadata": {
        "id": "uVJqK5u2myWc"
      },
      "execution_count": 10,
      "outputs": []
    },
    {
      "cell_type": "markdown",
      "source": [
        "Sort homelessness first by region (ascending), and then by number of family members (descending). Save this as homelessness_reg_fam.\n",
        "Print the head of the sorted DataFrame."
      ],
      "metadata": {
        "id": "BbFt6voipeA6"
      }
    },
    {
      "cell_type": "code",
      "source": [
        "# Sort homelessness by region, then descending family members\n",
        "homelessness_reg_fam = homelessness.sort_values([\"region\",\"family_members\"], ascending=[True,False])\n",
        "\n",
        "# Print the top few rows\n",
        "print(homelessness_reg_fam.head())"
      ],
      "metadata": {
        "colab": {
          "base_uri": "https://localhost:8080/"
        },
        "id": "b_26bWQgpgYG",
        "outputId": "b67c523b-c652-4067-b866-e665d7dbdd7d"
      },
      "execution_count": 16,
      "outputs": [
        {
          "output_type": "stream",
          "name": "stdout",
          "text": [
            "    Unnamed: 0              region      state  individuals  family_members  \\\n",
            "13          13  East North Central   Illinois       6752.0          3891.0   \n",
            "35          35  East North Central       Ohio       6929.0          3320.0   \n",
            "22          22  East North Central   Michigan       5209.0          3142.0   \n",
            "49          49  East North Central  Wisconsin       2740.0          2167.0   \n",
            "14          14  East North Central    Indiana       3776.0          1482.0   \n",
            "\n",
            "    state_pop  \n",
            "13   12723071  \n",
            "35   11676341  \n",
            "22    9984072  \n",
            "49    5807406  \n",
            "14    6695497  \n"
          ]
        }
      ]
    },
    {
      "cell_type": "markdown",
      "source": [
        "# 1.4 Subsetting columns\n",
        "When working with data, you may not need all of the variables in your dataset. Square brackets ([]) can be used to select only the columns that matter to you in an order that makes sense to you. To select only \"col_a\" of the DataFrame df, use"
      ],
      "metadata": {
        "id": "YsgRlA2DrLTy"
      }
    },
    {
      "cell_type": "markdown",
      "source": [
        "![Screenshot 2023-11-03 062710.png](data:image/png;base64,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)"
      ],
      "metadata": {
        "id": "bCPZnR3Hr6-w"
      }
    },
    {
      "cell_type": "markdown",
      "source": [
        "Create a DataFrame called individuals that contains only the individuals column of homelessness.\n",
        "Print the head of the result."
      ],
      "metadata": {
        "id": "FVHULLqesQGj"
      }
    },
    {
      "cell_type": "code",
      "source": [
        "# Select the individuals column\n",
        "individuals = homelessness['individuals']\n",
        "\n",
        "# Print the head of the result\n",
        "print(individuals.head())"
      ],
      "metadata": {
        "colab": {
          "base_uri": "https://localhost:8080/"
        },
        "id": "rua5ls_hsA5I",
        "outputId": "6609cfe7-384e-4d98-cbc3-fdffe3750950"
      },
      "execution_count": 12,
      "outputs": [
        {
          "output_type": "stream",
          "name": "stdout",
          "text": [
            "0      2570.0\n",
            "1      1434.0\n",
            "2      7259.0\n",
            "3      2280.0\n",
            "4    109008.0\n",
            "Name: individuals, dtype: float64\n"
          ]
        }
      ]
    },
    {
      "cell_type": "markdown",
      "source": [
        "Create a DataFrame called state_fam that contains only the state and family_members columns of homelessness, in that order.\n",
        "Print the head of the result."
      ],
      "metadata": {
        "id": "nVhKH1cPytBm"
      }
    },
    {
      "cell_type": "code",
      "source": [
        "state_fam = homelessness[['family_members','state']]\n",
        "\n",
        "print(state_fam.head())"
      ],
      "metadata": {
        "colab": {
          "base_uri": "https://localhost:8080/"
        },
        "id": "ZUoPnXdmysgl",
        "outputId": "7764d29c-8706-4ef1-ea99-da295658280d"
      },
      "execution_count": 13,
      "outputs": [
        {
          "output_type": "stream",
          "name": "stdout",
          "text": [
            "   family_members       state\n",
            "0           864.0     Alabama\n",
            "1           582.0      Alaska\n",
            "2          2606.0     Arizona\n",
            "3           432.0    Arkansas\n",
            "4         20964.0  California\n"
          ]
        }
      ]
    },
    {
      "cell_type": "markdown",
      "source": [
        "Create a DataFrame called ind_state that contains the individuals and state columns of homelessness, in that order.\n",
        "Print the head of the result."
      ],
      "metadata": {
        "id": "RjvqRwugPb99"
      }
    },
    {
      "cell_type": "code",
      "source": [
        "# Select only the individuals and state columns, in that order\n",
        "ind_state = homelessness[['individuals','state']]\n",
        "\n",
        "print(ind_state.head())"
      ],
      "metadata": {
        "colab": {
          "base_uri": "https://localhost:8080/"
        },
        "id": "akjhXWUjPn8z",
        "outputId": "0d900581-5d7f-40cd-959f-76b6292732e8"
      },
      "execution_count": 17,
      "outputs": [
        {
          "output_type": "stream",
          "name": "stdout",
          "text": [
            "   individuals       state\n",
            "0       2570.0     Alabama\n",
            "1       1434.0      Alaska\n",
            "2       7259.0     Arizona\n",
            "3       2280.0    Arkansas\n",
            "4     109008.0  California\n"
          ]
        }
      ]
    },
    {
      "cell_type": "markdown",
      "source": [
        "## 1.5 Subsetting rows\n",
        "A large part of data science is about finding which bits of your dataset are interesting. One of the simplest techniques for this is to find a subset of rows that match some criteria. This is sometimes known as filtering rows or selecting rows.\n",
        "\n",
        "There are many ways to subset a DataFrame, perhaps the most common is to use relational operators to return True or False for each row, then pass that inside square brackets.\n",
        "\n",
        "> dogs[dogs[\"height_cm\"] > 60]\n",
        "\n",
        "> dogs[dogs[\"color\"] == \"tan\"]\n",
        "\n",
        "You can filter for multiple conditions at once by using the \"bitwise and\" operator, &\n",
        "\n",
        "> dogs[(dogs[\"height_cm\"] > 60) & (dogs[\"color\"] == \"tan\")]\n",
        "\n",
        "\n",
        "\n",
        "\n",
        "\n"
      ],
      "metadata": {
        "id": "rb3uJapxQGHE"
      }
    },
    {
      "cell_type": "markdown",
      "source": [
        "Filter homelessness for cases where the number of individuals is greater than ten thousand, assigning to ind_gt_10k. View the printed result."
      ],
      "metadata": {
        "id": "HzAFZlkWQrdq"
      }
    },
    {
      "cell_type": "code",
      "source": [
        "# Filter for rows where individuals is greater than 10000\n",
        "ind_gt_10k = homelessness[homelessness['individuals']>10000]\n",
        "\n",
        "print(ind_gt_10k)"
      ],
      "metadata": {
        "colab": {
          "base_uri": "https://localhost:8080/"
        },
        "id": "jizeklO_Qoxy",
        "outputId": "15e94409-7546-4bba-acf8-f5fcf3d9bc2b"
      },
      "execution_count": 19,
      "outputs": [
        {
          "output_type": "stream",
          "name": "stdout",
          "text": [
            "    Unnamed: 0              region       state  individuals  family_members  \\\n",
            "4            4             Pacific  California     109008.0         20964.0   \n",
            "9            9      South Atlantic     Florida      21443.0          9587.0   \n",
            "32          32        Mid-Atlantic    New York      39827.0         52070.0   \n",
            "37          37             Pacific      Oregon      11139.0          3337.0   \n",
            "43          43  West South Central       Texas      19199.0          6111.0   \n",
            "47          47             Pacific  Washington      16424.0          5880.0   \n",
            "\n",
            "    state_pop  \n",
            "4    39461588  \n",
            "9    21244317  \n",
            "32   19530351  \n",
            "37    4181886  \n",
            "43   28628666  \n",
            "47    7523869  \n"
          ]
        }
      ]
    },
    {
      "cell_type": "markdown",
      "source": [
        "Filter homelessness for cases where the USA Census region is \"Mountain\", assigning to mountain_reg. View the printed result."
      ],
      "metadata": {
        "id": "e9Ooej88Rgz0"
      }
    },
    {
      "cell_type": "code",
      "source": [
        "# Filter for rows where region is Mountain\n",
        "mountain_reg = homelessness[homelessness['region']=='Mountain']\n",
        "\n",
        "print(mountain_reg)"
      ],
      "metadata": {
        "colab": {
          "base_uri": "https://localhost:8080/"
        },
        "id": "g-Zbv3jkR1Uh",
        "outputId": "fe744c8e-6f50-4983-c182-680a2d44f4cf"
      },
      "execution_count": 20,
      "outputs": [
        {
          "output_type": "stream",
          "name": "stdout",
          "text": [
            "    Unnamed: 0    region       state  individuals  family_members  state_pop\n",
            "2            2  Mountain     Arizona       7259.0          2606.0    7158024\n",
            "5            5  Mountain    Colorado       7607.0          3250.0    5691287\n",
            "12          12  Mountain       Idaho       1297.0           715.0    1750536\n",
            "26          26  Mountain     Montana        983.0           422.0    1060665\n",
            "28          28  Mountain      Nevada       7058.0           486.0    3027341\n",
            "31          31  Mountain  New Mexico       1949.0           602.0    2092741\n",
            "44          44  Mountain        Utah       1904.0           972.0    3153550\n",
            "50          50  Mountain     Wyoming        434.0           205.0     577601\n"
          ]
        }
      ]
    },
    {
      "cell_type": "markdown",
      "source": [
        "Filter homelessness for cases where the number of family_members is less than one thousand and the region is \"Pacific\", assigning to fam_lt_1k_pac. View the printed result."
      ],
      "metadata": {
        "id": "I41IcVppSQnw"
      }
    },
    {
      "cell_type": "code",
      "source": [
        "# Filter for rows where family_members is less than 1000\n",
        "# and region is Pacific\n",
        "fam_lt_1k_pac = homelessness[(homelessness['family_members']<1000) & (homelessness['region'] == 'Pacific')]\n",
        "\n",
        "print(fam_lt_1k_pac)"
      ],
      "metadata": {
        "colab": {
          "base_uri": "https://localhost:8080/"
        },
        "id": "XVZD0L6FSUhe",
        "outputId": "ede05616-11be-48ff-bb6e-57c601188c05"
      },
      "execution_count": 21,
      "outputs": [
        {
          "output_type": "stream",
          "name": "stdout",
          "text": [
            "   Unnamed: 0   region   state  individuals  family_members  state_pop\n",
            "1           1  Pacific  Alaska       1434.0           582.0     735139\n"
          ]
        }
      ]
    },
    {
      "cell_type": "markdown",
      "source": [
        "## 1.6 Subsetting rows by categorical variables\n",
        "Subsetting data based on a categorical variable often involves using the \"or\" operator (|) to select rows from multiple categories. This can get tedious when you want all states in one of three different regions, for example. Instead, use the .isin() method, which will allow you to tackle this problem by writing one condition instead of three separate ones.\n",
        "\n",
        ">colors = [\"brown\", \"black\", \"tan\"]\n",
        "\n",
        ">condition = dogs[\"color\"].isin(colors)\n",
        "\n",
        ">dogs[condition]\n",
        "\n",
        "homelessness is available and pandas is loaded as pd."
      ],
      "metadata": {
        "id": "2KgJeiCnUm1L"
      }
    },
    {
      "cell_type": "markdown",
      "source": [
        "Filter homelessness for cases where the USA census region is \"South Atlantic\" or it is \"Mid-Atlantic\", assigning to south_mid_atlantic. View the printed result."
      ],
      "metadata": {
        "id": "1aJw7WLLU7xA"
      }
    },
    {
      "cell_type": "code",
      "source": [
        "south_mid_atlantic = homelessness[(homelessness['region']=='South Atlantic') | (homelessness['region'] =='\"Mid-Atlantic')]\n",
        "\n",
        "print(south_mid_atlantic)"
      ],
      "metadata": {
        "colab": {
          "base_uri": "https://localhost:8080/"
        },
        "id": "CD7R_IRNU81m",
        "outputId": "517cea57-e670-4021-ad32-592b40a09670"
      },
      "execution_count": 22,
      "outputs": [
        {
          "output_type": "stream",
          "name": "stdout",
          "text": [
            "    Unnamed: 0          region                 state  individuals  \\\n",
            "7            7  South Atlantic              Delaware        708.0   \n",
            "8            8  South Atlantic  District of Columbia       3770.0   \n",
            "9            9  South Atlantic               Florida      21443.0   \n",
            "10          10  South Atlantic               Georgia       6943.0   \n",
            "20          20  South Atlantic              Maryland       4914.0   \n",
            "33          33  South Atlantic        North Carolina       6451.0   \n",
            "40          40  South Atlantic        South Carolina       3082.0   \n",
            "46          46  South Atlantic              Virginia       3928.0   \n",
            "48          48  South Atlantic         West Virginia       1021.0   \n",
            "\n",
            "    family_members  state_pop  \n",
            "7            374.0     965479  \n",
            "8           3134.0     701547  \n",
            "9           9587.0   21244317  \n",
            "10          2556.0   10511131  \n",
            "20          2230.0    6035802  \n",
            "33          2817.0   10381615  \n",
            "40           851.0    5084156  \n",
            "46          2047.0    8501286  \n",
            "48           222.0    1804291  \n"
          ]
        }
      ]
    },
    {
      "cell_type": "markdown",
      "source": [
        "Filter homelessness for cases where the USA census state is in the list of Mojave states, canu, assigning to mojave_homelessness. View the printed result."
      ],
      "metadata": {
        "id": "Rs70HQToVnU-"
      }
    },
    {
      "cell_type": "code",
      "source": [
        "# The Mojave Desert states\n",
        "canu = [\"California\", \"Arizona\", \"Nevada\", \"Utah\"]\n",
        "\n",
        "# Filter for rows in the Mojave Desert states\n",
        "mojave_homelessness = homelessness[homelessness['state'].isin(canu)]\n",
        "\n",
        "print(mojave_homelessness)"
      ],
      "metadata": {
        "colab": {
          "base_uri": "https://localhost:8080/"
        },
        "id": "PvB3w1L2WEsY",
        "outputId": "465d4f9c-e72b-43e5-d980-04472747e3dd"
      },
      "execution_count": 24,
      "outputs": [
        {
          "output_type": "stream",
          "name": "stdout",
          "text": [
            "    Unnamed: 0    region       state  individuals  family_members  state_pop\n",
            "2            2  Mountain     Arizona       7259.0          2606.0    7158024\n",
            "4            4   Pacific  California     109008.0         20964.0   39461588\n",
            "28          28  Mountain      Nevada       7058.0           486.0    3027341\n",
            "44          44  Mountain        Utah       1904.0           972.0    3153550\n"
          ]
        }
      ]
    },
    {
      "cell_type": "markdown",
      "source": [
        "## 1.7 Adding new columns\n",
        "You aren't stuck with just the data you are given. Instead, you can add new columns to a DataFrame. This has many names, such as transforming, mutating, and feature engineering.\n",
        "\n",
        "You can create new columns from scratch, but it is also common to derive them from other columns, for example, by adding columns together or by changing their units.\n",
        "\n",
        "homelessness is available and pandas is loaded as pd."
      ],
      "metadata": {
        "id": "x1jrvhU3Wy39"
      }
    },
    {
      "cell_type": "markdown",
      "source": [
        "* Add a new column to homelessness, named total, containing the sum of the individuals and family_members columns.\n",
        "* Add another column to homelessness, named p_individuals, containing the proportion of homeless people in each state who are individuals.\n"
      ],
      "metadata": {
        "id": "6QMHbOuyW9vQ"
      }
    },
    {
      "cell_type": "code",
      "source": [
        "# Add total col as sum of individuals and family_members\n",
        "homelessness['total'] = homelessness['individuals']+homelessness['family_members']\n",
        "\n",
        "# Add p_individuals col as proportion of total that are individuals\n",
        "homelessness['p_individuals'] = homelessness['individuals']/homelessness['total']\n",
        "\n",
        "# See the result\n",
        "print(homelessness)"
      ],
      "metadata": {
        "colab": {
          "base_uri": "https://localhost:8080/"
        },
        "id": "ik_8vv_HW5v_",
        "outputId": "5db8f952-8b56-46a0-946a-4ab21ebb7d86"
      },
      "execution_count": 26,
      "outputs": [
        {
          "output_type": "stream",
          "name": "stdout",
          "text": [
            "    Unnamed: 0              region                 state  individuals  \\\n",
            "0            0  East South Central               Alabama       2570.0   \n",
            "1            1             Pacific                Alaska       1434.0   \n",
            "2            2            Mountain               Arizona       7259.0   \n",
            "3            3  West South Central              Arkansas       2280.0   \n",
            "4            4             Pacific            California     109008.0   \n",
            "5            5            Mountain              Colorado       7607.0   \n",
            "6            6         New England           Connecticut       2280.0   \n",
            "7            7      South Atlantic              Delaware        708.0   \n",
            "8            8      South Atlantic  District of Columbia       3770.0   \n",
            "9            9      South Atlantic               Florida      21443.0   \n",
            "10          10      South Atlantic               Georgia       6943.0   \n",
            "11          11             Pacific                Hawaii       4131.0   \n",
            "12          12            Mountain                 Idaho       1297.0   \n",
            "13          13  East North Central              Illinois       6752.0   \n",
            "14          14  East North Central               Indiana       3776.0   \n",
            "15          15  West North Central                  Iowa       1711.0   \n",
            "16          16  West North Central                Kansas       1443.0   \n",
            "17          17  East South Central              Kentucky       2735.0   \n",
            "18          18  West South Central             Louisiana       2540.0   \n",
            "19          19         New England                 Maine       1450.0   \n",
            "20          20      South Atlantic              Maryland       4914.0   \n",
            "21          21         New England         Massachusetts       6811.0   \n",
            "22          22  East North Central              Michigan       5209.0   \n",
            "23          23  West North Central             Minnesota       3993.0   \n",
            "24          24  East South Central           Mississippi       1024.0   \n",
            "25          25  West North Central              Missouri       3776.0   \n",
            "26          26            Mountain               Montana        983.0   \n",
            "27          27  West North Central              Nebraska       1745.0   \n",
            "28          28            Mountain                Nevada       7058.0   \n",
            "29          29         New England         New Hampshire        835.0   \n",
            "30          30        Mid-Atlantic            New Jersey       6048.0   \n",
            "31          31            Mountain            New Mexico       1949.0   \n",
            "32          32        Mid-Atlantic              New York      39827.0   \n",
            "33          33      South Atlantic        North Carolina       6451.0   \n",
            "34          34  West North Central          North Dakota        467.0   \n",
            "35          35  East North Central                  Ohio       6929.0   \n",
            "36          36  West South Central              Oklahoma       2823.0   \n",
            "37          37             Pacific                Oregon      11139.0   \n",
            "38          38        Mid-Atlantic          Pennsylvania       8163.0   \n",
            "39          39         New England          Rhode Island        747.0   \n",
            "40          40      South Atlantic        South Carolina       3082.0   \n",
            "41          41  West North Central          South Dakota        836.0   \n",
            "42          42  East South Central             Tennessee       6139.0   \n",
            "43          43  West South Central                 Texas      19199.0   \n",
            "44          44            Mountain                  Utah       1904.0   \n",
            "45          45         New England               Vermont        780.0   \n",
            "46          46      South Atlantic              Virginia       3928.0   \n",
            "47          47             Pacific            Washington      16424.0   \n",
            "48          48      South Atlantic         West Virginia       1021.0   \n",
            "49          49  East North Central             Wisconsin       2740.0   \n",
            "50          50            Mountain               Wyoming        434.0   \n",
            "\n",
            "    family_members  state_pop     total  p_individuals  \n",
            "0            864.0    4887681    3434.0       0.748398  \n",
            "1            582.0     735139    2016.0       0.711310  \n",
            "2           2606.0    7158024    9865.0       0.735834  \n",
            "3            432.0    3009733    2712.0       0.840708  \n",
            "4          20964.0   39461588  129972.0       0.838704  \n",
            "5           3250.0    5691287   10857.0       0.700654  \n",
            "6           1696.0    3571520    3976.0       0.573441  \n",
            "7            374.0     965479    1082.0       0.654344  \n",
            "8           3134.0     701547    6904.0       0.546060  \n",
            "9           9587.0   21244317   31030.0       0.691041  \n",
            "10          2556.0   10511131    9499.0       0.730919  \n",
            "11          2399.0    1420593    6530.0       0.632619  \n",
            "12           715.0    1750536    2012.0       0.644632  \n",
            "13          3891.0   12723071   10643.0       0.634408  \n",
            "14          1482.0    6695497    5258.0       0.718144  \n",
            "15          1038.0    3148618    2749.0       0.622408  \n",
            "16           773.0    2911359    2216.0       0.651173  \n",
            "17           953.0    4461153    3688.0       0.741594  \n",
            "18           519.0    4659690    3059.0       0.830337  \n",
            "19          1066.0    1339057    2516.0       0.576312  \n",
            "20          2230.0    6035802    7144.0       0.687850  \n",
            "21         13257.0    6882635   20068.0       0.339396  \n",
            "22          3142.0    9984072    8351.0       0.623758  \n",
            "23          3250.0    5606249    7243.0       0.551291  \n",
            "24           328.0    2981020    1352.0       0.757396  \n",
            "25          2107.0    6121623    5883.0       0.641849  \n",
            "26           422.0    1060665    1405.0       0.699644  \n",
            "27           676.0    1925614    2421.0       0.720777  \n",
            "28           486.0    3027341    7544.0       0.935578  \n",
            "29           615.0    1353465    1450.0       0.575862  \n",
            "30          3350.0    8886025    9398.0       0.643541  \n",
            "31           602.0    2092741    2551.0       0.764014  \n",
            "32         52070.0   19530351   91897.0       0.433387  \n",
            "33          2817.0   10381615    9268.0       0.696051  \n",
            "34            75.0     758080     542.0       0.861624  \n",
            "35          3320.0   11676341   10249.0       0.676066  \n",
            "36          1048.0    3940235    3871.0       0.729269  \n",
            "37          3337.0    4181886   14476.0       0.769481  \n",
            "38          5349.0   12800922   13512.0       0.604130  \n",
            "39           354.0    1058287    1101.0       0.678474  \n",
            "40           851.0    5084156    3933.0       0.783626  \n",
            "41           323.0     878698    1159.0       0.721311  \n",
            "42          1744.0    6771631    7883.0       0.778764  \n",
            "43          6111.0   28628666   25310.0       0.758554  \n",
            "44           972.0    3153550    2876.0       0.662031  \n",
            "45           511.0     624358    1291.0       0.604183  \n",
            "46          2047.0    8501286    5975.0       0.657406  \n",
            "47          5880.0    7523869   22304.0       0.736370  \n",
            "48           222.0    1804291    1243.0       0.821400  \n",
            "49          2167.0    5807406    4907.0       0.558386  \n",
            "50           205.0     577601     639.0       0.679186  \n"
          ]
        }
      ]
    },
    {
      "cell_type": "markdown",
      "source": [
        "## 1.8 Combo-attack!\n",
        "You've seen the four most common types of data manipulation: sorting rows, subsetting columns, subsetting rows, and adding new columns. In a real-life data analysis, you can mix and match these four manipulations to answer a multitude of questions.\n",
        "\n",
        "In this exercise, you'll answer the question, \"Which state has the highest number of homeless individuals per 10,000 people in the state?\" Combine your new pandas skills to find out."
      ],
      "metadata": {
        "id": "m0vfCt_3YlOE"
      }
    },
    {
      "cell_type": "markdown",
      "source": [
        "* Add a column to homelessness, indiv_per_10k, containing the number of homeless individuals per ten thousand people in each state.\n",
        "* Subset rows where indiv_per_10k is higher than 20, assigning to high_homelessness.\n",
        "* Sort high_homelessness by descending indiv_per_10k, assigning to high_homelessness_srt.\n",
        "* Select only the state and indiv_per_10k columns of high_homelessness_srt and save as result. Look at the result."
      ],
      "metadata": {
        "id": "z3CwQrp7YrkZ"
      }
    },
    {
      "cell_type": "code",
      "source": [
        "# Create indiv_per_10k col as homeless individuals per 10k state pop\n",
        "homelessness['indiv_per_10k'] = 10000 * homelessness['individuals'] /homelessness['state_pop']\n",
        "\n",
        "# Subset rows for indiv_per_10k greater than 20\n",
        "high_homelessness = homelessness[homelessness['indiv_per_10k'] > 20]\n",
        "\n",
        "# Sort high_homelessness by descending indiv_per_10k\n",
        "high_homelessness_srt = high_homelessness.sort_values('indiv_per_10k',ascending = False)\n",
        "\n",
        "# From high_homelessness_srt, select the state and indiv_per_10k cols\n",
        "results = high_homelessness_srt[['state','indiv_per_10k']]\n",
        "\n",
        "print(results)\n"
      ],
      "metadata": {
        "colab": {
          "base_uri": "https://localhost:8080/"
        },
        "id": "v03YosZLYk2h",
        "outputId": "251a5dee-529b-4eb5-eeb9-564f6b1cd66b"
      },
      "execution_count": 30,
      "outputs": [
        {
          "output_type": "stream",
          "name": "stdout",
          "text": [
            "                   state  indiv_per_10k\n",
            "8   District of Columbia      53.738381\n",
            "11                Hawaii      29.079406\n",
            "4             California      27.623825\n",
            "37                Oregon      26.636307\n",
            "28                Nevada      23.314189\n",
            "47            Washington      21.829195\n",
            "32              New York      20.392363\n"
          ]
        }
      ]
    }
  ]
}
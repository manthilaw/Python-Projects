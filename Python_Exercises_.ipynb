{
  "nbformat": 4,
  "nbformat_minor": 0,
  "metadata": {
    "colab": {
      "provenance": [],
      "authorship_tag": "ABX9TyN606gVXSxlH6ydN1Tg5TX3",
      "include_colab_link": true
    },
    "kernelspec": {
      "name": "python3",
      "display_name": "Python 3"
    },
    "language_info": {
      "name": "python"
    }
  },
  "cells": [
    {
      "cell_type": "markdown",
      "metadata": {
        "id": "view-in-github",
        "colab_type": "text"
      },
      "source": [
        "<a href=\"https://colab.research.google.com/github/manthilaw/Python-Projects/blob/main/Python_Exercises_.ipynb\" target=\"_parent\"><img src=\"https://colab.research.google.com/assets/colab-badge.svg\" alt=\"Open In Colab\"/></a>"
      ]
    },
    {
      "cell_type": "markdown",
      "source": [
        "# 1. Variables in Python"
      ],
      "metadata": {
        "id": "qTttbyRrtjnL"
      }
    },
    {
      "cell_type": "markdown",
      "source": [
        "1.Create a variable called break and assign it a value 5. See what happens and find out the reason behind the behavior that you see."
      ],
      "metadata": {
        "id": "UYj8kJjjxzD9"
      }
    },
    {
      "cell_type": "code",
      "source": [
        "break = 5"
      ],
      "metadata": {
        "colab": {
          "base_uri": "https://localhost:8080/",
          "height": 130
        },
        "id": "gUnwSUUltpGw",
        "outputId": "f6cf3da7-d0db-4990-f71c-4fe677197957"
      },
      "execution_count": 1,
      "outputs": [
        {
          "output_type": "error",
          "ename": "SyntaxError",
          "evalue": "ignored",
          "traceback": [
            "\u001b[0;36m  File \u001b[0;32m\"<ipython-input-1-00bd2e73219f>\"\u001b[0;36m, line \u001b[0;32m1\u001b[0m\n\u001b[0;31m    break = 5\u001b[0m\n\u001b[0m          ^\u001b[0m\n\u001b[0;31mSyntaxError\u001b[0m\u001b[0;31m:\u001b[0m invalid syntax\n"
          ]
        }
      ]
    },
    {
      "cell_type": "markdown",
      "source": [
        "2.Create two variables. One to store your birth year and another one to store current year. Now calculate your age using these two variables\n",
        "\n",
        "\n"
      ],
      "metadata": {
        "id": "W5T-4Pziud-Y"
      }
    },
    {
      "cell_type": "code",
      "source": [
        "birth_year = 1994\n",
        "current_year = 2023\n",
        "age = current_year - birth_year\n",
        "print(age)"
      ],
      "metadata": {
        "colab": {
          "base_uri": "https://localhost:8080/"
        },
        "id": "7PPH2f_CugXY",
        "outputId": "7d320120-2890-4b6d-85d0-b2658b42911c"
      },
      "execution_count": 3,
      "outputs": [
        {
          "output_type": "stream",
          "name": "stdout",
          "text": [
            "29\n"
          ]
        }
      ]
    },
    {
      "cell_type": "markdown",
      "source": [
        "3.Store your first, middle and last name in three different variables and then print your full name using these variables"
      ],
      "metadata": {
        "id": "FSPUGjBlvIql"
      }
    },
    {
      "cell_type": "code",
      "source": [
        "first_name = 'Manthila'\n",
        "last_name = ' Weerasinghe'\n",
        "name = first_name + last_name\n",
        "print(name)\n"
      ],
      "metadata": {
        "colab": {
          "base_uri": "https://localhost:8080/"
        },
        "id": "OlJOLjyqvL9T",
        "outputId": "a91cb36f-a0c2-485b-c2de-d878bf3b63b5"
      },
      "execution_count": 5,
      "outputs": [
        {
          "output_type": "stream",
          "name": "stdout",
          "text": [
            "Manthila Weerasinghe\n"
          ]
        }
      ]
    },
    {
      "cell_type": "markdown",
      "source": [
        "# 2. Numbers in python\n"
      ],
      "metadata": {
        "id": "6rTKxDscxiUX"
      }
    },
    {
      "cell_type": "markdown",
      "source": [
        "2.1 You have a football field that is 92 meter long and 48.8 meter wide. Find out total area using python and print it.\n"
      ],
      "metadata": {
        "id": "HUUmUh6_zKe-"
      }
    },
    {
      "cell_type": "code",
      "source": [
        "length = 92\n",
        "wide = 48.8\n",
        "area = length*wide\n",
        "print(area)"
      ],
      "metadata": {
        "colab": {
          "base_uri": "https://localhost:8080/"
        },
        "id": "VUdjMsbuzUbZ",
        "outputId": "1accc7df-74c3-497c-848c-a887602816c2"
      },
      "execution_count": 6,
      "outputs": [
        {
          "output_type": "stream",
          "name": "stdout",
          "text": [
            "4489.599999999999\n"
          ]
        }
      ]
    },
    {
      "cell_type": "markdown",
      "source": [
        "2.2 You bought 9 packets of potato chips from a store. Each packet costs 1.49 dollar and you gave shopkeeper 20 dollar. Find out using python, how many dollars is the shopkeeper going to give you back?"
      ],
      "metadata": {
        "id": "R3QN2qEszwbM"
      }
    },
    {
      "cell_type": "code",
      "source": [
        "num_pack = 9\n",
        "pack_cost = 1.49\n",
        "total_cost = num_pack * pack_cost\n",
        "paid_amount = 20\n",
        "balance_amount = paid_amount - total_cost\n",
        "print(balance_amount)\n"
      ],
      "metadata": {
        "colab": {
          "base_uri": "https://localhost:8080/"
        },
        "id": "R7QmRK8kz2FP",
        "outputId": "bbd6f65b-f460-403f-d130-5c8370b54b3b"
      },
      "execution_count": 7,
      "outputs": [
        {
          "output_type": "stream",
          "name": "stdout",
          "text": [
            "6.59\n"
          ]
        }
      ]
    },
    {
      "cell_type": "markdown",
      "source": [
        "2.3 You want to replace tiles in your bathroom which is exactly square and 5.5 feet is its length. If tiles cost 500 rs per square feet, how much will be the total cost to replace all tiles. Calculate and print the cost using python \n"
      ],
      "metadata": {
        "id": "u6Wsr9lV2-SN"
      }
    },
    {
      "cell_type": "code",
      "source": [
        "area = 5.5**2\n",
        "total_cost = 500*area\n",
        "print(total_cost)"
      ],
      "metadata": {
        "colab": {
          "base_uri": "https://localhost:8080/"
        },
        "id": "eAkqC3SD3hbX",
        "outputId": "2eb96a27-dd89-4fd0-8c10-96ae0efafcb3"
      },
      "execution_count": 8,
      "outputs": [
        {
          "output_type": "stream",
          "name": "stdout",
          "text": [
            "15125.0\n"
          ]
        }
      ]
    },
    {
      "cell_type": "markdown",
      "source": [
        "2.4 Print binary representation of number 17\n"
      ],
      "metadata": {
        "id": "jheB6-cL4AwE"
      }
    },
    {
      "cell_type": "code",
      "source": [
        "bin(17)"
      ],
      "metadata": {
        "colab": {
          "base_uri": "https://localhost:8080/",
          "height": 36
        },
        "id": "PVjI1B8e4J3H",
        "outputId": "8286f9b5-7103-4b86-fc28-b73ec29a3486"
      },
      "execution_count": 9,
      "outputs": [
        {
          "output_type": "execute_result",
          "data": {
            "text/plain": [
              "'0b10001'"
            ],
            "application/vnd.google.colaboratory.intrinsic+json": {
              "type": "string"
            }
          },
          "metadata": {},
          "execution_count": 9
        }
      ]
    }
  ]
}
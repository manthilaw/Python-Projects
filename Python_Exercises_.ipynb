{
  "nbformat": 4,
  "nbformat_minor": 0,
  "metadata": {
    "colab": {
      "provenance": [],
      "authorship_tag": "ABX9TyPgec2uEt1yJgRMdNFsZ63p",
      "include_colab_link": true
    },
    "kernelspec": {
      "name": "python3",
      "display_name": "Python 3"
    },
    "language_info": {
      "name": "python"
    }
  },
  "cells": [
    {
      "cell_type": "markdown",
      "metadata": {
        "id": "view-in-github",
        "colab_type": "text"
      },
      "source": [
        "<a href=\"https://colab.research.google.com/github/manthilaw/Python-Projects/blob/main/Python_Exercises_.ipynb\" target=\"_parent\"><img src=\"https://colab.research.google.com/assets/colab-badge.svg\" alt=\"Open In Colab\"/></a>"
      ]
    },
    {
      "cell_type": "markdown",
      "source": [
        "1.Create a variable called break and assign it a value 5. See what happens and find out the reason behind the behavior that you see."
      ],
      "metadata": {
        "id": "qTttbyRrtjnL"
      }
    },
    {
      "cell_type": "code",
      "source": [
        "break = 5"
      ],
      "metadata": {
        "colab": {
          "base_uri": "https://localhost:8080/",
          "height": 130
        },
        "id": "gUnwSUUltpGw",
        "outputId": "f6cf3da7-d0db-4990-f71c-4fe677197957"
      },
      "execution_count": 1,
      "outputs": [
        {
          "output_type": "error",
          "ename": "SyntaxError",
          "evalue": "ignored",
          "traceback": [
            "\u001b[0;36m  File \u001b[0;32m\"<ipython-input-1-00bd2e73219f>\"\u001b[0;36m, line \u001b[0;32m1\u001b[0m\n\u001b[0;31m    break = 5\u001b[0m\n\u001b[0m          ^\u001b[0m\n\u001b[0;31mSyntaxError\u001b[0m\u001b[0;31m:\u001b[0m invalid syntax\n"
          ]
        }
      ]
    },
    {
      "cell_type": "markdown",
      "source": [
        "2.Create two variables. One to store your birth year and another one to store current year. Now calculate your age using these two variables\n",
        "\n",
        "\n"
      ],
      "metadata": {
        "id": "W5T-4Pziud-Y"
      }
    },
    {
      "cell_type": "code",
      "source": [
        "birth_year = 1994\n",
        "current_year = 2023\n",
        "age = current_year - birth_year\n",
        "print(age)"
      ],
      "metadata": {
        "colab": {
          "base_uri": "https://localhost:8080/"
        },
        "id": "7PPH2f_CugXY",
        "outputId": "7d320120-2890-4b6d-85d0-b2658b42911c"
      },
      "execution_count": 3,
      "outputs": [
        {
          "output_type": "stream",
          "name": "stdout",
          "text": [
            "29\n"
          ]
        }
      ]
    },
    {
      "cell_type": "markdown",
      "source": [
        "3.Store your first, middle and last name in three different variables and then print your full name using these variables"
      ],
      "metadata": {
        "id": "FSPUGjBlvIql"
      }
    },
    {
      "cell_type": "code",
      "source": [
        "first_name = 'Manthila'\n",
        "last_name = ' Weerasinghe'\n",
        "name = first_name + last_name\n",
        "print(name)\n"
      ],
      "metadata": {
        "colab": {
          "base_uri": "https://localhost:8080/"
        },
        "id": "OlJOLjyqvL9T",
        "outputId": "a91cb36f-a0c2-485b-c2de-d878bf3b63b5"
      },
      "execution_count": 5,
      "outputs": [
        {
          "output_type": "stream",
          "name": "stdout",
          "text": [
            "Manthila Weerasinghe\n"
          ]
        }
      ]
    }
  ]
}
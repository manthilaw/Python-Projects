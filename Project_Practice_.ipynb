{
  "nbformat": 4,
  "nbformat_minor": 0,
  "metadata": {
    "colab": {
      "provenance": [],
      "mount_file_id": "1CX7rObESbi9aqn2se-r92n2t7L80but2",
      "authorship_tag": "ABX9TyMDO3Lwb6SWqPCyNp0y+OwZ",
      "include_colab_link": true
    },
    "kernelspec": {
      "name": "python3",
      "display_name": "Python 3"
    },
    "language_info": {
      "name": "python"
    }
  },
  "cells": [
    {
      "cell_type": "markdown",
      "metadata": {
        "id": "view-in-github",
        "colab_type": "text"
      },
      "source": [
        "<a href=\"https://colab.research.google.com/github/manthilaw/Python-Projects/blob/main/Project_Practice_.ipynb\" target=\"_parent\"><img src=\"https://colab.research.google.com/assets/colab-badge.svg\" alt=\"Open In Colab\"/></a>"
      ]
    },
    {
      "cell_type": "code",
      "execution_count": 9,
      "metadata": {
        "colab": {
          "base_uri": "https://localhost:8080/",
          "height": 305
        },
        "id": "umDSVPukxyST",
        "outputId": "1dfc60bb-a493-4359-e864-0c2f69f8314f"
      },
      "outputs": [
        {
          "output_type": "execute_result",
          "data": {
            "text/plain": [
              "   Unnamed: 0  24h_volume_usd  available_supply            id  last_updated  \\\n",
              "0           0    9.007640e+09      1.672352e+07       bitcoin    1512549554   \n",
              "1           1    1.551330e+09      9.616537e+07      ethereum    1512549553   \n",
              "2           2    1.111350e+09      1.684044e+07  bitcoin-cash    1512549578   \n",
              "3           3    2.936090e+09      2.779530e+09          iota    1512549571   \n",
              "4           4    2.315050e+08      3.873915e+10        ripple    1512549541   \n",
              "\n",
              "   market_cap_usd    max_supply          name  percent_change_1h  \\\n",
              "0    2.130493e+11  2.100000e+07       Bitcoin               0.12   \n",
              "1    4.352945e+10           NaN      Ethereum              -0.18   \n",
              "2    2.529585e+10  2.100000e+07  Bitcoin Cash               1.65   \n",
              "3    1.475225e+10  2.779530e+09          IOTA              -2.38   \n",
              "4    9.365343e+09  1.000000e+11        Ripple               0.56   \n",
              "\n",
              "   percent_change_24h  percent_change_7d  price_btc     price_usd  rank  \\\n",
              "0                7.33              17.45   1.000000  12739.500000     1   \n",
              "1               -3.93              -7.33   0.036177    452.652000     2   \n",
              "2               -5.51              -4.75   0.120050   1502.090000     3   \n",
              "3               83.35             255.82   0.000424      5.307460     4   \n",
              "4               -3.70             -14.79   0.000019      0.241754     5   \n",
              "\n",
              "  symbol  total_supply  \n",
              "0    BTC  1.672352e+07  \n",
              "1    ETH  9.616537e+07  \n",
              "2    BCH  1.684044e+07  \n",
              "3  MIOTA  2.779530e+09  \n",
              "4    XRP  9.999309e+10  "
            ],
            "text/html": [
              "\n",
              "  <div id=\"df-3fdfa806-0731-4b68-aec3-eeee33b7c289\">\n",
              "    <div class=\"colab-df-container\">\n",
              "      <div>\n",
              "<style scoped>\n",
              "    .dataframe tbody tr th:only-of-type {\n",
              "        vertical-align: middle;\n",
              "    }\n",
              "\n",
              "    .dataframe tbody tr th {\n",
              "        vertical-align: top;\n",
              "    }\n",
              "\n",
              "    .dataframe thead th {\n",
              "        text-align: right;\n",
              "    }\n",
              "</style>\n",
              "<table border=\"1\" class=\"dataframe\">\n",
              "  <thead>\n",
              "    <tr style=\"text-align: right;\">\n",
              "      <th></th>\n",
              "      <th>Unnamed: 0</th>\n",
              "      <th>24h_volume_usd</th>\n",
              "      <th>available_supply</th>\n",
              "      <th>id</th>\n",
              "      <th>last_updated</th>\n",
              "      <th>market_cap_usd</th>\n",
              "      <th>max_supply</th>\n",
              "      <th>name</th>\n",
              "      <th>percent_change_1h</th>\n",
              "      <th>percent_change_24h</th>\n",
              "      <th>percent_change_7d</th>\n",
              "      <th>price_btc</th>\n",
              "      <th>price_usd</th>\n",
              "      <th>rank</th>\n",
              "      <th>symbol</th>\n",
              "      <th>total_supply</th>\n",
              "    </tr>\n",
              "  </thead>\n",
              "  <tbody>\n",
              "    <tr>\n",
              "      <th>0</th>\n",
              "      <td>0</td>\n",
              "      <td>9.007640e+09</td>\n",
              "      <td>1.672352e+07</td>\n",
              "      <td>bitcoin</td>\n",
              "      <td>1512549554</td>\n",
              "      <td>2.130493e+11</td>\n",
              "      <td>2.100000e+07</td>\n",
              "      <td>Bitcoin</td>\n",
              "      <td>0.12</td>\n",
              "      <td>7.33</td>\n",
              "      <td>17.45</td>\n",
              "      <td>1.000000</td>\n",
              "      <td>12739.500000</td>\n",
              "      <td>1</td>\n",
              "      <td>BTC</td>\n",
              "      <td>1.672352e+07</td>\n",
              "    </tr>\n",
              "    <tr>\n",
              "      <th>1</th>\n",
              "      <td>1</td>\n",
              "      <td>1.551330e+09</td>\n",
              "      <td>9.616537e+07</td>\n",
              "      <td>ethereum</td>\n",
              "      <td>1512549553</td>\n",
              "      <td>4.352945e+10</td>\n",
              "      <td>NaN</td>\n",
              "      <td>Ethereum</td>\n",
              "      <td>-0.18</td>\n",
              "      <td>-3.93</td>\n",
              "      <td>-7.33</td>\n",
              "      <td>0.036177</td>\n",
              "      <td>452.652000</td>\n",
              "      <td>2</td>\n",
              "      <td>ETH</td>\n",
              "      <td>9.616537e+07</td>\n",
              "    </tr>\n",
              "    <tr>\n",
              "      <th>2</th>\n",
              "      <td>2</td>\n",
              "      <td>1.111350e+09</td>\n",
              "      <td>1.684044e+07</td>\n",
              "      <td>bitcoin-cash</td>\n",
              "      <td>1512549578</td>\n",
              "      <td>2.529585e+10</td>\n",
              "      <td>2.100000e+07</td>\n",
              "      <td>Bitcoin Cash</td>\n",
              "      <td>1.65</td>\n",
              "      <td>-5.51</td>\n",
              "      <td>-4.75</td>\n",
              "      <td>0.120050</td>\n",
              "      <td>1502.090000</td>\n",
              "      <td>3</td>\n",
              "      <td>BCH</td>\n",
              "      <td>1.684044e+07</td>\n",
              "    </tr>\n",
              "    <tr>\n",
              "      <th>3</th>\n",
              "      <td>3</td>\n",
              "      <td>2.936090e+09</td>\n",
              "      <td>2.779530e+09</td>\n",
              "      <td>iota</td>\n",
              "      <td>1512549571</td>\n",
              "      <td>1.475225e+10</td>\n",
              "      <td>2.779530e+09</td>\n",
              "      <td>IOTA</td>\n",
              "      <td>-2.38</td>\n",
              "      <td>83.35</td>\n",
              "      <td>255.82</td>\n",
              "      <td>0.000424</td>\n",
              "      <td>5.307460</td>\n",
              "      <td>4</td>\n",
              "      <td>MIOTA</td>\n",
              "      <td>2.779530e+09</td>\n",
              "    </tr>\n",
              "    <tr>\n",
              "      <th>4</th>\n",
              "      <td>4</td>\n",
              "      <td>2.315050e+08</td>\n",
              "      <td>3.873915e+10</td>\n",
              "      <td>ripple</td>\n",
              "      <td>1512549541</td>\n",
              "      <td>9.365343e+09</td>\n",
              "      <td>1.000000e+11</td>\n",
              "      <td>Ripple</td>\n",
              "      <td>0.56</td>\n",
              "      <td>-3.70</td>\n",
              "      <td>-14.79</td>\n",
              "      <td>0.000019</td>\n",
              "      <td>0.241754</td>\n",
              "      <td>5</td>\n",
              "      <td>XRP</td>\n",
              "      <td>9.999309e+10</td>\n",
              "    </tr>\n",
              "  </tbody>\n",
              "</table>\n",
              "</div>\n",
              "      <button class=\"colab-df-convert\" onclick=\"convertToInteractive('df-3fdfa806-0731-4b68-aec3-eeee33b7c289')\"\n",
              "              title=\"Convert this dataframe to an interactive table.\"\n",
              "              style=\"display:none;\">\n",
              "        \n",
              "  <svg xmlns=\"http://www.w3.org/2000/svg\" height=\"24px\"viewBox=\"0 0 24 24\"\n",
              "       width=\"24px\">\n",
              "    <path d=\"M0 0h24v24H0V0z\" fill=\"none\"/>\n",
              "    <path d=\"M18.56 5.44l.94 2.06.94-2.06 2.06-.94-2.06-.94-.94-2.06-.94 2.06-2.06.94zm-11 1L8.5 8.5l.94-2.06 2.06-.94-2.06-.94L8.5 2.5l-.94 2.06-2.06.94zm10 10l.94 2.06.94-2.06 2.06-.94-2.06-.94-.94-2.06-.94 2.06-2.06.94z\"/><path d=\"M17.41 7.96l-1.37-1.37c-.4-.4-.92-.59-1.43-.59-.52 0-1.04.2-1.43.59L10.3 9.45l-7.72 7.72c-.78.78-.78 2.05 0 2.83L4 21.41c.39.39.9.59 1.41.59.51 0 1.02-.2 1.41-.59l7.78-7.78 2.81-2.81c.8-.78.8-2.07 0-2.86zM5.41 20L4 18.59l7.72-7.72 1.47 1.35L5.41 20z\"/>\n",
              "  </svg>\n",
              "      </button>\n",
              "      \n",
              "  <style>\n",
              "    .colab-df-container {\n",
              "      display:flex;\n",
              "      flex-wrap:wrap;\n",
              "      gap: 12px;\n",
              "    }\n",
              "\n",
              "    .colab-df-convert {\n",
              "      background-color: #E8F0FE;\n",
              "      border: none;\n",
              "      border-radius: 50%;\n",
              "      cursor: pointer;\n",
              "      display: none;\n",
              "      fill: #1967D2;\n",
              "      height: 32px;\n",
              "      padding: 0 0 0 0;\n",
              "      width: 32px;\n",
              "    }\n",
              "\n",
              "    .colab-df-convert:hover {\n",
              "      background-color: #E2EBFA;\n",
              "      box-shadow: 0px 1px 2px rgba(60, 64, 67, 0.3), 0px 1px 3px 1px rgba(60, 64, 67, 0.15);\n",
              "      fill: #174EA6;\n",
              "    }\n",
              "\n",
              "    [theme=dark] .colab-df-convert {\n",
              "      background-color: #3B4455;\n",
              "      fill: #D2E3FC;\n",
              "    }\n",
              "\n",
              "    [theme=dark] .colab-df-convert:hover {\n",
              "      background-color: #434B5C;\n",
              "      box-shadow: 0px 1px 3px 1px rgba(0, 0, 0, 0.15);\n",
              "      filter: drop-shadow(0px 1px 2px rgba(0, 0, 0, 0.3));\n",
              "      fill: #FFFFFF;\n",
              "    }\n",
              "  </style>\n",
              "\n",
              "      <script>\n",
              "        const buttonEl =\n",
              "          document.querySelector('#df-3fdfa806-0731-4b68-aec3-eeee33b7c289 button.colab-df-convert');\n",
              "        buttonEl.style.display =\n",
              "          google.colab.kernel.accessAllowed ? 'block' : 'none';\n",
              "\n",
              "        async function convertToInteractive(key) {\n",
              "          const element = document.querySelector('#df-3fdfa806-0731-4b68-aec3-eeee33b7c289');\n",
              "          const dataTable =\n",
              "            await google.colab.kernel.invokeFunction('convertToInteractive',\n",
              "                                                     [key], {});\n",
              "          if (!dataTable) return;\n",
              "\n",
              "          const docLinkHtml = 'Like what you see? Visit the ' +\n",
              "            '<a target=\"_blank\" href=https://colab.research.google.com/notebooks/data_table.ipynb>data table notebook</a>'\n",
              "            + ' to learn more about interactive tables.';\n",
              "          element.innerHTML = '';\n",
              "          dataTable['output_type'] = 'display_data';\n",
              "          await google.colab.output.renderOutput(dataTable, element);\n",
              "          const docLink = document.createElement('div');\n",
              "          docLink.innerHTML = docLinkHtml;\n",
              "          element.appendChild(docLink);\n",
              "        }\n",
              "      </script>\n",
              "    </div>\n",
              "  </div>\n",
              "  "
            ]
          },
          "metadata": {},
          "execution_count": 9
        }
      ],
      "source": [
        "#import pandas\n",
        "import pandas as pd\n",
        "#import matplotlib\n",
        "import matplotlib.pyplot as plt\n",
        "# Display plots inline, directly below the code cell that generated them\n",
        "%matplotlib inline\n",
        "# Change the figure format & plot style \n",
        "%config inlineBackend.figure_format = 'svg'\n",
        "plt.style.use('fivethirtyeight')\n",
        "# Read 2017 CSV file\n",
        "current = pd.read_csv('/content/drive/MyDrive/Python CSV/1.Exploring the Bitcoin Cryptocurrency Market/coinmarketcap_06122017.csv')\n",
        "current.head()\n"
      ]
    },
    {
      "cell_type": "code",
      "source": [
        "#Sekect_id and market_cap_usd column\n",
        "market_cap_col = current[['id','market_cap_usd']]\n",
        "#count the values\n",
        "count_values = market_cap_col.count()\n",
        "print(count_values)"
      ],
      "metadata": {
        "colab": {
          "base_uri": "https://localhost:8080/"
        },
        "id": "YyKpmgZg6H3I",
        "outputId": "ffe72aa6-fc1f-42b8-b329-b1975d34fc0c"
      },
      "execution_count": 10,
      "outputs": [
        {
          "output_type": "stream",
          "name": "stdout",
          "text": [
            "id                1326\n",
            "market_cap_usd    1031\n",
            "dtype: int64\n"
          ]
        }
      ]
    },
    {
      "cell_type": "code",
      "source": [
        "# Check the null values in market_cap_usd \n",
        "check_null_values = market_cap_col[market_cap_col['market_cap_usd'].isnull()]\n",
        "print(check_null_values.head())\n"
      ],
      "metadata": {
        "colab": {
          "base_uri": "https://localhost:8080/"
        },
        "id": "QOGtIr_p22OL",
        "outputId": "c6716d99-7edc-4fa0-a9b6-ad981da8f28a"
      },
      "execution_count": 14,
      "outputs": [
        {
          "output_type": "stream",
          "name": "stdout",
          "text": [
            "                   id  market_cap_usd\n",
            "1031          atmcoin             NaN\n",
            "1032       cybermiles             NaN\n",
            "1033  bitcoin-diamond             NaN\n",
            "1034      electroneum             NaN\n",
            "1035          poly-ai             NaN\n"
          ]
        }
      ]
    },
    {
      "cell_type": "code",
      "source": [
        "# Selecting only those rows where the 'market_cap_usd' column has a value greater than zero\n",
        "capital = market_cap_col.query('market_cap_usd>0')\n"
      ],
      "metadata": {
        "id": "6YtB5qsF41nh"
      },
      "execution_count": 16,
      "outputs": []
    },
    {
      "cell_type": "code",
      "source": [
        "# Selecting the 10 largest cryptocurrencis\n",
        "capital_10 = market_cap_col.sort_values('market_cap_usd',ascending=False)\n",
        "print(capital.head(10))\n",
        "\n",
        "\n",
        "\n"
      ],
      "metadata": {
        "colab": {
          "base_uri": "https://localhost:8080/"
        },
        "id": "plLnF5B0CG7V",
        "outputId": "4e8f8fe7-ab34-4300-887d-158726329c20"
      },
      "execution_count": 20,
      "outputs": [
        {
          "output_type": "stream",
          "name": "stdout",
          "text": [
            "             id  market_cap_usd\n",
            "0       bitcoin    2.130493e+11\n",
            "1      ethereum    4.352945e+10\n",
            "2  bitcoin-cash    2.529585e+10\n",
            "3          iota    1.475225e+10\n",
            "4        ripple    9.365343e+09\n",
            "5          dash    5.794076e+09\n",
            "6      litecoin    5.634498e+09\n",
            "7  bitcoin-gold    4.920065e+09\n",
            "8        monero    4.331688e+09\n",
            "9       cardano    3.231420e+09\n"
          ]
        }
      ]
    },
    {
      "cell_type": "code",
      "source": [
        "# Calculate the total market capitalization\n",
        "total_capital_10 = capital_10['market_cap_usd'].sum()\n",
        "capital_10['pre_capital_10'] = (capital_10['market_cap_usd']/total_capital_10)*100\n",
        "print(capital_10)"
      ],
      "metadata": {
        "colab": {
          "base_uri": "https://localhost:8080/"
        },
        "id": "0lm4gpbCHi-3",
        "outputId": "6b030731-3925-420b-c758-34a6bc05ebae"
      },
      "execution_count": 25,
      "outputs": [
        {
          "output_type": "stream",
          "name": "stdout",
          "text": [
            "                     id  market_cap_usd  pre_capital_10\n",
            "0               bitcoin    2.130493e+11       56.918669\n",
            "1              ethereum    4.352945e+10       11.629410\n",
            "2          bitcoin-cash    2.529585e+10        6.758088\n",
            "3                  iota    1.475225e+10        3.941238\n",
            "4                ripple    9.365343e+09        2.502063\n",
            "...                 ...             ...             ...\n",
            "1321          turbocoin             NaN             NaN\n",
            "1322              birds             NaN             NaN\n",
            "1323  bitcoincashscrypt             NaN             NaN\n",
            "1324          swisscoin             NaN             NaN\n",
            "1325          faceblock             NaN             NaN\n",
            "\n",
            "[1326 rows x 3 columns]\n"
          ]
        }
      ]
    }
  ]
}
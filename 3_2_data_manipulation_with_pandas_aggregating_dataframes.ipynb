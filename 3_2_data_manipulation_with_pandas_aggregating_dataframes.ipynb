{
  "nbformat": 4,
  "nbformat_minor": 0,
  "metadata": {
    "colab": {
      "provenance": [],
      "authorship_tag": "ABX9TyM14rXx2BBu0huRHxSuvKrM",
      "include_colab_link": true
    },
    "kernelspec": {
      "name": "python3",
      "display_name": "Python 3"
    },
    "language_info": {
      "name": "python"
    }
  },
  "cells": [
    {
      "cell_type": "markdown",
      "metadata": {
        "id": "view-in-github",
        "colab_type": "text"
      },
      "source": [
        "<a href=\"https://colab.research.google.com/github/manthilaw/Python-Projects/blob/main/3_2_data_manipulation_with_pandas_aggregating_dataframes.ipynb\" target=\"_parent\"><img src=\"https://colab.research.google.com/assets/colab-badge.svg\" alt=\"Open In Colab\"/></a>"
      ]
    },
    {
      "cell_type": "markdown",
      "source": [
        "# 3.2 Aggregating DataFrames\n",
        "\n",
        "In this chapter, you’ll calculate summary statistics on DataFrame columns, and master grouped summary statistics and pivot tables.\n"
      ],
      "metadata": {
        "id": "mvISkcsWSrGa"
      }
    },
    {
      "cell_type": "code",
      "source": [
        "# Mount Google Drive to Collaboratory\n",
        "\n",
        "from google.colab import drive\n",
        "drive.mount('/content/gdrive')\n",
        "\n",
        "\n",
        "# Mount Google Drive to Collaboratory\n",
        "\n",
        "path = ('/content/gdrive/MyDrive/DataCamp CSV/3.Data Manipulations with Pandas/sales_subset.csv')\n",
        "\n",
        "# Import Pandas\n",
        "\n",
        "import pandas as pd\n",
        "\n",
        "# Read CSV file\n",
        "\n",
        "sales = pd.read_csv(path)"
      ],
      "metadata": {
        "id": "EC4Yysy9aFVh",
        "colab": {
          "base_uri": "https://localhost:8080/"
        },
        "outputId": "013e5c7c-b21d-4eb5-f8cf-dc518647f0ba"
      },
      "execution_count": null,
      "outputs": [
        {
          "output_type": "stream",
          "name": "stdout",
          "text": [
            "Mounted at /content/gdrive\n"
          ]
        }
      ]
    },
    {
      "cell_type": "markdown",
      "source": [
        "## 3.2.1 Mean and median\n",
        "\n",
        "Summary statistics are exactly what they sound like - they summarize many numbers in one statistic. For example, mean, median, minimum, maximum, and standard deviation are summary statistics. Calculating summary statistics allows you to get a better sense of your data, even if there's a lot of it.\n",
        "\n",
        "sales is available and pandas is loaded as pd.\n"
      ],
      "metadata": {
        "id": "-AHCY4zJZI72"
      }
    },
    {
      "cell_type": "markdown",
      "source": [
        "* Explore your new DataFrame first by printing the first few rows of the sales DataFrame.\n",
        "* Print information about the columns in sales.\n",
        "* Print the mean of the weekly_sales column.\n",
        "* Print the median of the weekly_sales column."
      ],
      "metadata": {
        "id": "_qopodmcbyie"
      }
    },
    {
      "cell_type": "code",
      "source": [
        "# Print the head of the sales DataFrame\n",
        "print(sales.head())"
      ],
      "metadata": {
        "colab": {
          "base_uri": "https://localhost:8080/"
        },
        "id": "j3Z1JADocJ_U",
        "outputId": "89e9eaf6-a7b3-4fab-e776-0bb15db9186d"
      },
      "execution_count": null,
      "outputs": [
        {
          "output_type": "stream",
          "name": "stdout",
          "text": [
            "   Unnamed: 0  store type  department        date  weekly_sales  is_holiday  \\\n",
            "0           0      1    A           1  2010-02-05      24924.50       False   \n",
            "1           1      1    A           1  2010-03-05      21827.90       False   \n",
            "2           2      1    A           1  2010-04-02      57258.43       False   \n",
            "3           3      1    A           1  2010-05-07      17413.94       False   \n",
            "4           4      1    A           1  2010-06-04      17558.09       False   \n",
            "\n",
            "   temperature_c  fuel_price_usd_per_l  unemployment  \n",
            "0       5.727778              0.679451         8.106  \n",
            "1       8.055556              0.693452         8.106  \n",
            "2      16.816667              0.718284         7.808  \n",
            "3      22.527778              0.748928         7.808  \n",
            "4      27.050000              0.714586         7.808  \n"
          ]
        }
      ]
    },
    {
      "cell_type": "code",
      "source": [
        "# Print the info about the sales DataFrame\n",
        "print(sales.info())"
      ],
      "metadata": {
        "colab": {
          "base_uri": "https://localhost:8080/"
        },
        "id": "yzFk12Fuc4I0",
        "outputId": "a1d45473-94c3-4a25-859a-7d8da827619f"
      },
      "execution_count": null,
      "outputs": [
        {
          "output_type": "stream",
          "name": "stdout",
          "text": [
            "<class 'pandas.core.frame.DataFrame'>\n",
            "RangeIndex: 10774 entries, 0 to 10773\n",
            "Data columns (total 10 columns):\n",
            " #   Column                Non-Null Count  Dtype  \n",
            "---  ------                --------------  -----  \n",
            " 0   Unnamed: 0            10774 non-null  int64  \n",
            " 1   store                 10774 non-null  int64  \n",
            " 2   type                  10774 non-null  object \n",
            " 3   department            10774 non-null  int64  \n",
            " 4   date                  10774 non-null  object \n",
            " 5   weekly_sales          10774 non-null  float64\n",
            " 6   is_holiday            10774 non-null  bool   \n",
            " 7   temperature_c         10774 non-null  float64\n",
            " 8   fuel_price_usd_per_l  10774 non-null  float64\n",
            " 9   unemployment          10774 non-null  float64\n",
            "dtypes: bool(1), float64(4), int64(3), object(2)\n",
            "memory usage: 768.2+ KB\n",
            "None\n"
          ]
        }
      ]
    },
    {
      "cell_type": "code",
      "source": [
        "# Print the mean of weekly_sales\n",
        "print(sales[\"weekly_sales\"].mean())\n"
      ],
      "metadata": {
        "colab": {
          "base_uri": "https://localhost:8080/"
        },
        "id": "IKSl97bgc6ow",
        "outputId": "c5577fa1-7c95-49ab-b6fe-518fae7de67e"
      },
      "execution_count": null,
      "outputs": [
        {
          "output_type": "stream",
          "name": "stdout",
          "text": [
            "23843.95014850566\n"
          ]
        }
      ]
    },
    {
      "cell_type": "code",
      "source": [
        "# Print the median of weekly_sales\n",
        "print(sales[\"weekly_sales\"].median())"
      ],
      "metadata": {
        "id": "aDI9fNJMc_5T",
        "colab": {
          "base_uri": "https://localhost:8080/"
        },
        "outputId": "79167d2c-7098-4b8d-98b3-92675e379353"
      },
      "execution_count": null,
      "outputs": [
        {
          "output_type": "stream",
          "name": "stdout",
          "text": [
            "12049.064999999999\n"
          ]
        }
      ]
    },
    {
      "cell_type": "markdown",
      "source": [
        "## 3.2.2 Summarizing dates\n",
        "\n",
        "Summary statistics can also be calculated on date columns that have values with the data type datetime64. Some summary statistics — like mean — don't make a ton of sense on dates, but others are super helpful, for example, minimum and maximum, which allow you to see what time range your data covers.\n",
        "\n",
        "sales is available and pandas is loaded as pd."
      ],
      "metadata": {
        "id": "IOCI9bGeOany"
      }
    },
    {
      "cell_type": "markdown",
      "source": [
        "* Print the maximum of the date column.\n",
        "* Print the minimum of the date column."
      ],
      "metadata": {
        "id": "mhoyHOAwOoxC"
      }
    },
    {
      "cell_type": "code",
      "source": [
        "# Print the maximum of the date column\n",
        "\n",
        "print(sales['date'].max())"
      ],
      "metadata": {
        "colab": {
          "base_uri": "https://localhost:8080/"
        },
        "id": "LJIX7bxGOhKp",
        "outputId": "4cd295a1-6d2f-44a3-ed8b-1ce04b757c1a"
      },
      "execution_count": null,
      "outputs": [
        {
          "output_type": "stream",
          "name": "stdout",
          "text": [
            "2012-10-26\n"
          ]
        }
      ]
    },
    {
      "cell_type": "code",
      "source": [
        "# Print the minimum of the date column\n",
        "print(sales['date'].min())"
      ],
      "metadata": {
        "colab": {
          "base_uri": "https://localhost:8080/"
        },
        "id": "VdlHF5S-PA2z",
        "outputId": "a76fba29-7d77-4e92-90a1-40a70705586a"
      },
      "execution_count": null,
      "outputs": [
        {
          "output_type": "stream",
          "name": "stdout",
          "text": [
            "2010-02-05\n"
          ]
        }
      ]
    },
    {
      "cell_type": "markdown",
      "source": [
        "## 3.2.3 Efficient summaries\n",
        "\n",
        "While pandas and NumPy have tons of functions, sometimes, you may need a different function to summarize your data.\n",
        "\n",
        "The .agg() method allows you to apply your own custom functions to a DataFrame, as well as apply functions to more than one column of a DataFrame at once, making your aggregations super-efficient. For example,\n",
        "\n",
        "df['column'].agg(function)\n",
        "In the custom function for this exercise, \"IQR\" is short for inter-quartile range, which is the 75th percentile minus the 25th percentile. It's an alternative to standard deviation that is helpful if your data contains outliers.\n",
        "\n",
        "sales is available and pandas is loaded as pd."
      ],
      "metadata": {
        "id": "M3xBFp_nPLzB"
      }
    },
    {
      "cell_type": "markdown",
      "source": [
        "* Use the custom iqr function defined for you along with .agg() to print the IQR of the temperature_c column of sales.\n",
        "* Update the column selection to use the custom iqr function with .agg() to print the IQR of temperature_c, fuel_price_usd_per_l, and unemployment, in that order.\n",
        "* Update the aggregation functions called by .agg(): include iqr and np.median in that order."
      ],
      "metadata": {
        "id": "ynFyymeFQBKk"
      }
    },
    {
      "cell_type": "code",
      "source": [
        "# A custom IQR function\n",
        "\n",
        "def iqr(column):\n",
        "  return column.quantile(0.75) - column.quantile(0.25)\n",
        "\n",
        "# Print IQR of the temperature_c column\n",
        "print(sales['temperature_c'].agg(iqr))\n",
        "\n"
      ],
      "metadata": {
        "colab": {
          "base_uri": "https://localhost:8080/"
        },
        "id": "Z4b10yxnP6g0",
        "outputId": "3d8d397b-d8ce-414c-93b1-26afa49e2af8"
      },
      "execution_count": null,
      "outputs": [
        {
          "output_type": "stream",
          "name": "stdout",
          "text": [
            "16.583333333333336\n"
          ]
        }
      ]
    },
    {
      "cell_type": "code",
      "source": [
        "# A custom IQR function\n",
        "def iqr(column):\n",
        "  return column.quantile(0.75) - column.quantile(0.25)\n",
        "\n",
        "# Update to print IQR of temperature_c, fuel_price_usd_per_l, & unemployment\n",
        "print(sales[['temperature_c','fuel_price_usd_per_l','unemployment']].agg(iqr))\n"
      ],
      "metadata": {
        "colab": {
          "base_uri": "https://localhost:8080/"
        },
        "id": "Z3pEG3vkU8YX",
        "outputId": "af6f1d44-663f-4ac3-fa08-d897cf58858c"
      },
      "execution_count": null,
      "outputs": [
        {
          "output_type": "stream",
          "name": "stdout",
          "text": [
            "temperature_c           16.583333\n",
            "fuel_price_usd_per_l     0.073176\n",
            "unemployment             0.565000\n",
            "dtype: float64\n"
          ]
        }
      ]
    },
    {
      "cell_type": "code",
      "source": [
        "# Import NumPy and create custom IQR function\n",
        "import numpy as np\n",
        "\n",
        "def iqr(column):\n",
        "  return column.quantile(0.75) - column.quantile(0.25)\n",
        "\n",
        "# Update to print IQR and median of temperature_c, fuel_price_usd_per_l, & unemployment\n",
        "print(sales[['temperature_c','fuel_price_usd_per_l','unemployment']].agg([iqr,np.median]))"
      ],
      "metadata": {
        "colab": {
          "base_uri": "https://localhost:8080/"
        },
        "id": "DA2nOUy6WY8c",
        "outputId": "a366a05d-398f-43cd-cea4-002a72bc6234"
      },
      "execution_count": null,
      "outputs": [
        {
          "output_type": "stream",
          "name": "stdout",
          "text": [
            "        temperature_c  fuel_price_usd_per_l  unemployment\n",
            "iqr         16.583333              0.073176         0.565\n",
            "median      16.966667              0.743381         8.099\n"
          ]
        }
      ]
    },
    {
      "cell_type": "markdown",
      "source": [
        "# 3.2.4 Cumulative statistics\n",
        "Cumulative statistics can also be helpful in tracking summary statistics over time. In this exercise, you'll calculate the cumulative sum and cumulative max of a department's weekly sales, which will allow you to identify what the total sales were so far as well as what the highest weekly sales were so far.\n",
        "\n",
        "A DataFrame called sales_1_1 has been created for you, which contains the sales data for department 1 of store 1. pandas is loaded as pd."
      ],
      "metadata": {
        "id": "Dq2GIdseLnjr"
      }
    },
    {
      "cell_type": "markdown",
      "source": [
        "* Sort the rows of sales_1_1 by the date column in ascending order.\n",
        "* Get the cumulative sum of weekly_sales and add it as a new column of sales_1_1 called cum_weekly_sales.\n",
        "* Get the cumulative maximum of weekly_sales, and add it as a column called cum_max_sales.\n",
        "* Print the date, weekly_sales, cum_weekly_sales, and cum_max_sales columns."
      ],
      "metadata": {
        "id": "P2jYnuMdLt4Y"
      }
    },
    {
      "cell_type": "code",
      "source": [
        "# Sort sales_1_1 by date\n",
        "\n",
        "sales_1_1 = sales.sort_values('date')\n"
      ],
      "metadata": {
        "id": "RtJFzl4bL2DB"
      },
      "execution_count": null,
      "outputs": []
    },
    {
      "cell_type": "code",
      "source": [
        "# Get the cumulative sum of weekly_sales, add as cum_weekly_sales col\n",
        "sales_1_1['cum_weekly_sales'] = sales_1_1['weekly_sales'].cumsum()\n"
      ],
      "metadata": {
        "id": "pPFZXkzjMP3P"
      },
      "execution_count": null,
      "outputs": []
    },
    {
      "cell_type": "code",
      "source": [
        "# Get the cumulative max of weekly_sales, add as cum_max_sales col\n",
        "sales_1_1['cum_max_sales'] = sales_1_1['weekly_sales'].cummax()"
      ],
      "metadata": {
        "id": "a2G_eNP9NIo2"
      },
      "execution_count": null,
      "outputs": []
    },
    {
      "cell_type": "code",
      "source": [
        "# See the columns you calculated\n",
        "print(sales_1_1[['date','weekly_sales','cum_weekly_sales','cum_max_sales']])"
      ],
      "metadata": {
        "colab": {
          "base_uri": "https://localhost:8080/"
        },
        "id": "npUnuAahNj17",
        "outputId": "ed030595-ee7a-4a30-d7dc-658549c363c8"
      },
      "execution_count": null,
      "outputs": [
        {
          "output_type": "stream",
          "name": "stdout",
          "text": [
            "             date  weekly_sales  cum_weekly_sales  cum_max_sales\n",
            "0      2010-02-05      24924.50      2.492450e+04       24924.50\n",
            "6437   2010-02-05      38597.52      6.352202e+04       38597.52\n",
            "1249   2010-02-05       3840.21      6.736223e+04       38597.52\n",
            "6449   2010-02-05      17590.59      8.495282e+04       38597.52\n",
            "6461   2010-02-05       4929.87      8.988269e+04       38597.52\n",
            "...           ...           ...               ...            ...\n",
            "3592   2012-10-05        440.00      2.568932e+08      293966.05\n",
            "8108   2012-10-05        660.00      2.568938e+08      293966.05\n",
            "10773  2012-10-05        915.00      2.568947e+08      293966.05\n",
            "6257   2012-10-12          3.00      2.568947e+08      293966.05\n",
            "3384   2012-10-26        -21.63      2.568947e+08      293966.05\n",
            "\n",
            "[10774 rows x 4 columns]\n"
          ]
        }
      ]
    },
    {
      "cell_type": "markdown",
      "source": [
        "# 3.2.5 Dropping duplicates\n",
        "Removing duplicates is an essential skill to get accurate counts because often, you don't want to count the same thing multiple times. In this exercise, you'll create some new DataFrames using unique values from sales.\n",
        "\n",
        "sales is available and pandas is imported as pd."
      ],
      "metadata": {
        "id": "0FoDqrk0Phko"
      }
    },
    {
      "cell_type": "markdown",
      "source": [
        "* Remove rows of sales with duplicate pairs of store and type and save as store_types and print the head.\n",
        "* Remove rows of sales with duplicate pairs of store and department and save as store_depts and print the head.\n",
        "* Subset the rows that are holiday weeks using the is_holiday column, and drop the duplicate dates, saving as holiday_dates.\n",
        "* Select the date column of holiday_dates, and print."
      ],
      "metadata": {
        "id": "LiLX7ct4PsnM"
      }
    },
    {
      "cell_type": "code",
      "source": [
        "# Drop duplicate store/type combinations\n",
        "store_types = sales.drop_duplicates(subset=['store','type'])\n",
        "print(store_types.head())\n",
        "\n",
        "\n",
        "\n",
        "\n",
        "\n",
        "\n",
        "# Print date col of holiday_dates\n"
      ],
      "metadata": {
        "colab": {
          "base_uri": "https://localhost:8080/"
        },
        "id": "nnYGWgLHQ5Ry",
        "outputId": "8ba31d94-cc29-4662-9017-764d89e12aa0"
      },
      "execution_count": null,
      "outputs": [
        {
          "output_type": "stream",
          "name": "stdout",
          "text": [
            "      Unnamed: 0  store type  department        date  weekly_sales  \\\n",
            "0              0      1    A           1  2010-02-05      24924.50   \n",
            "901          901      2    A           1  2010-02-05      35034.06   \n",
            "1798        1798      4    A           1  2010-02-05      38724.42   \n",
            "2699        2699      6    A           1  2010-02-05      25619.00   \n",
            "3593        3593     10    B           1  2010-02-05      40212.84   \n",
            "\n",
            "      is_holiday  temperature_c  fuel_price_usd_per_l  unemployment  \n",
            "0          False       5.727778              0.679451         8.106  \n",
            "901        False       4.550000              0.679451         8.324  \n",
            "1798       False       6.533333              0.686319         8.623  \n",
            "2699       False       4.683333              0.679451         7.259  \n",
            "3593       False      12.411111              0.782478         9.765  \n"
          ]
        }
      ]
    },
    {
      "cell_type": "code",
      "source": [
        "# Drop duplicate store/department combinations\n",
        "store_depts = sales.drop_duplicates(subset = ['store','department'])"
      ],
      "metadata": {
        "id": "xcAJC5U1Tn6q"
      },
      "execution_count": null,
      "outputs": []
    },
    {
      "cell_type": "code",
      "source": [
        "# Subset the rows where is_holiday is True and drop duplicate dates\n"
      ],
      "metadata": {
        "id": "sKbWoQeMTpml"
      },
      "execution_count": null,
      "outputs": []
    },
    {
      "cell_type": "markdown",
      "source": [],
      "metadata": {
        "id": "5FfQ3HMCPhZU"
      }
    }
  ]
}